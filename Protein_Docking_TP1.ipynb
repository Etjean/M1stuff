{
 "cells": [
  {
   "cell_type": "markdown",
   "metadata": {},
   "source": [
    "# Protein Docking TP 1"
   ]
  },
  {
   "cell_type": "markdown",
   "metadata": {},
   "source": [
    "1.832596    1.977582    0.969896    77    1    14    17.32\n",
    "-2.356194    2.104282    -0.813972    87    85    17    16.70\n",
    "-2.094395    1.904882    -1.478089    81    2    14    16.82\n",
    "1.832596    0.203748    0.590255    80    0    15    15.12\n",
    "-1.570796    1.606104    -0.451151    85    85    16    15.22\n",
    "1.047198    2.108018    1.311430    81    88    17    15.96\n",
    "1.047198    1.599406    1.426070    78    0    14    15.42\n",
    "0.785398    1.134497    -1.109631    79    1    12    15.78\n",
    "0.261799    2.863997    0.549740    1    84    20    15.18\n",
    "-3.141593    0.290380    -0.796960    79    1    14    14.60\n"
   ]
  },
  {
   "cell_type": "markdown",
   "metadata": {},
   "source": [
    "\n",
    "Number|Rank|Score|L-RMSD\n",
    "------|----|-----|------\n",
    "1 |1 |17.32|17.800\n",
    "3 |2 |16.82|16.888\n",
    "2 |3 |16.70|10.885\n",
    "9 |4 |15.96|17.674\n",
    "7 |5 |15.78|21.991\n",
    "4 |6 |15.42|19.011\n",
    "6 |7 |15.22|14.732\n",
    "5 |8 |15.18|20.519\n",
    "8 |9 |15.12|16.145\n",
    "10|10|14.60|16.193"
   ]
  },
  {
   "cell_type": "markdown",
   "metadata": {},
   "source": [
    "# Projet\n",
    "\n",
    "https://zlab.umassmed.edu/benchmark/"
   ]
  },
  {
   "cell_type": "raw",
   "metadata": {},
   "source": [
    "Query: 1gpw chain A\n",
    "\n",
    ">pdb|1THF|D Related structures Chain D, Cyclase Subunit Of Imidazoleglycerolphosphate Synthase \n",
    "From Thermotoga Maritima\n",
    "Length=253\n",
    "\n",
    " Score =  452 bits (1164),  Expect = 3e-128, Method: Composition-based stats.\n",
    " Identities = 251/253 (99%), Positives = 253/253 (100%), Gaps = 0/253 (0%)\n",
    "\n",
    "Query  1    MLAKRIIACLNVKDGRVVKGTNFENLRDSGDPVELGKFYSEIGIDELVFLDITASVEKRK  60\n",
    "            MLAKRIIACL+VKDGRVVKG+NFENLRDSGDPVELGKFYSEIGIDELVFLDITASVEKRK\n",
    "Sbjct  1    MLAKRIIACLDVKDGRVVKGSNFENLRDSGDPVELGKFYSEIGIDELVFLDITASVEKRK  60\n",
    "\n",
    "Query  61   TMLELVEKVAEQIDIPFTVGGGIHDFETASELILRGADKVSINTAAVENPSLITQIAQTF  120\n",
    "            TMLELVEKVAEQIDIPFTVGGGIHDFETASELILRGADKVSINTAAVENPSLITQIAQTF\n",
    "Sbjct  61   TMLELVEKVAEQIDIPFTVGGGIHDFETASELILRGADKVSINTAAVENPSLITQIAQTF  120\n",
    "\n",
    "Query  121  GSQAVVVAIDAKRVDGEFMVFTYSGKKNTGILLRDWVVEVEKRGAGEILLTSIDRDGTKS  180\n",
    "            GSQAVVVAIDAKRVDGEFMVFTYSGKKNTGILLRDWVVEVEKRGAGEILLTSIDRDGTKS\n",
    "Sbjct  121  GSQAVVVAIDAKRVDGEFMVFTYSGKKNTGILLRDWVVEVEKRGAGEILLTSIDRDGTKS  180\n",
    "\n",
    "Query  181  GYDTEMIRFVRPLTTLPIIASGGAGKMEHFLEAFLAGADAALAASVFHFREIDVRELKEY  240\n",
    "            GYDTEMIRFVRPLTTLPIIASGGAGKMEHFLEAFLAGADAALAASVFHFREIDVRELKEY\n",
    "Sbjct  181  GYDTEMIRFVRPLTTLPIIASGGAGKMEHFLEAFLAGADAALAASVFHFREIDVRELKEY  240\n",
    "\n",
    "Query  241  LKKHGVNVRLEGL  253\n",
    "            LKKHGVNVRLEGL\n",
    "Sbjct  241  LKKHGVNVRLEGL  253\n",
    "\n",
    "\n",
    "Query: 1gpw chain B\n",
    "\n",
    "pdb|1K9V|F Related structures Chain F, Structural Evidence For Ammonia Tunelling Across The \n",
    "(Beta- Alpha)8-Barrel Of The Imidazole Glycerol Phosphate Synthase Bienzyme Complex\n",
    "Length=201\n",
    "\n",
    " Score =  400 bits (1029),  Expect = 9e-113, Method: Composition-based stats.\n",
    " Identities = 201/201 (100%), Positives = 201/201 (100%), Gaps = 0/201 (0%)\n",
    "\n",
    "Query  1    MRIGIISVGPGNIMNLYRGVKRASENFEDVSIELVESPRNDLYDLLFIPGVGHFGEGMRR  60\n",
    "            MRIGIISVGPGNIMNLYRGVKRASENFEDVSIELVESPRNDLYDLLFIPGVGHFGEGMRR\n",
    "Sbjct  1    MRIGIISVGPGNIMNLYRGVKRASENFEDVSIELVESPRNDLYDLLFIPGVGHFGEGMRR  60\n",
    "\n",
    "Query  61   LRENDLIDFVRKHVEDERYVVGVCLGMQLLFEESEEAPGVKGLSLIEGNVVKLRSRRLPH  120\n",
    "            LRENDLIDFVRKHVEDERYVVGVCLGMQLLFEESEEAPGVKGLSLIEGNVVKLRSRRLPH\n",
    "Sbjct  61   LRENDLIDFVRKHVEDERYVVGVCLGMQLLFEESEEAPGVKGLSLIEGNVVKLRSRRLPH  120\n",
    "\n",
    "Query  121  MGWNEVIFKDTFPNGYYYFVHTYRAVCEEEHVLGTTEYDGEIFPSAVRKGRILGFQFHPE  180\n",
    "            MGWNEVIFKDTFPNGYYYFVHTYRAVCEEEHVLGTTEYDGEIFPSAVRKGRILGFQFHPE\n",
    "Sbjct  121  MGWNEVIFKDTFPNGYYYFVHTYRAVCEEEHVLGTTEYDGEIFPSAVRKGRILGFQFHPE  180\n",
    "\n",
    "Query  181  KSSKIGRKLLEKVIECSLSRR  201\n",
    "            KSSKIGRKLLEKVIECSLSRR\n",
    "Sbjct  181  KSSKIGRKLLEKVIECSLSRR  201\n"
   ]
  },
  {
   "cell_type": "markdown",
   "metadata": {},
   "source": []
  },
  {
   "cell_type": "markdown",
   "metadata": {},
   "source": []
  },
  {
   "cell_type": "markdown",
   "metadata": {},
   "source": []
  },
  {
   "cell_type": "markdown",
   "metadata": {},
   "source": [
    "\n",
    "| Tables        | Are           | Cool  |\n",
    "| ------------- |:-------------:| -----:|\n",
    "| col 3 is      | right-aligned |  1600 |\n",
    "| col 2 is      | centered      |    12 |\n",
    "| zebra stripes | are neat      |     1 |"
   ]
  },
  {
   "cell_type": "code",
   "execution_count": null,
   "metadata": {
    "collapsed": true
   },
   "outputs": [],
   "source": []
  },
  {
   "cell_type": "code",
   "execution_count": 1,
   "metadata": {
    "collapsed": true
   },
   "outputs": [],
   "source": [
    "s = 'ATOM      1  N   MET F 301      36.726   5.821  -2.889  1.00 66.27           N  '\n"
   ]
  },
  {
   "cell_type": "code",
   "execution_count": 5,
   "metadata": {},
   "outputs": [
    {
     "data": {
      "text/plain": [
       "1"
      ]
     },
     "execution_count": 5,
     "metadata": {},
     "output_type": "execute_result"
    }
   ],
   "source": [
    "int(s[22:26].strip())-300"
   ]
  },
  {
   "cell_type": "code",
   "execution_count": 9,
   "metadata": {},
   "outputs": [],
   "source": [
    "l = list(s)"
   ]
  },
  {
   "cell_type": "code",
   "execution_count": 13,
   "metadata": {},
   "outputs": [],
   "source": [
    "l[23]=str(int(l[23])-3)"
   ]
  },
  {
   "cell_type": "code",
   "execution_count": 14,
   "metadata": {},
   "outputs": [
    {
     "data": {
      "text/plain": [
       "[' ', '0', '0', '1']"
      ]
     },
     "execution_count": 14,
     "metadata": {},
     "output_type": "execute_result"
    }
   ],
   "source": [
    "l[22:26]"
   ]
  },
  {
   "cell_type": "code",
   "execution_count": 16,
   "metadata": {},
   "outputs": [],
   "source": [
    "ss = ''.join(l)"
   ]
  },
  {
   "cell_type": "code",
   "execution_count": 18,
   "metadata": {},
   "outputs": [
    {
     "data": {
      "text/plain": [
       "'ATOM      1  N   MET F 001      36.726   5.821  -2.889  1.00 66.27           N  '"
      ]
     },
     "execution_count": 18,
     "metadata": {},
     "output_type": "execute_result"
    }
   ],
   "source": [
    "ss"
   ]
  },
  {
   "cell_type": "code",
   "execution_count": 19,
   "metadata": {},
   "outputs": [
    {
     "name": "stdout",
     "output_type": "stream",
     "text": [
      "total 84\r\n",
      "drwxr-xr-x  5 ejean 4096 nov.  30 10:55 \u001b[0m\u001b[01;34mADB\u001b[0m/\r\n",
      "drwxr-xr-x  2 ejean 4096 déc.  13 11:08 \u001b[01;34mAlgo\u001b[0m/\r\n",
      "drwxr-xr-x  4 ejean 4096 févr. 17 14:32 \u001b[01;34mAnalyseSeqBio\u001b[0m/\r\n",
      "drwxr-xr-x  2 ejean 4096 févr.  9 11:13 \u001b[01;34mBasesMethodo\u001b[0m/\r\n",
      "drwxr-xr-x  3 ejean 4096 déc.   8 18:36 \u001b[01;34mBioinfoStructurale\u001b[0m/\r\n",
      "drwxr-xr-x  4 ejean 4096 déc.   7 15:40 \u001b[01;34mBiopython\u001b[0m/\r\n",
      "-rw-r--r--  1 ejean 2996 janv. 31 18:45 commandes_unix.txt\r\n",
      "drwxr-xr-x  7 ejean 4096 févr. 23 15:33 \u001b[01;34mDrugDesign\u001b[0m/\r\n",
      "drwxr-xr-x  8 ejean 4096 oct.   7 18:20 \u001b[01;34mFactoMineR\u001b[0m/\r\n",
      "drwxr-xr-x  7 ejean 4096 févr. 23 14:07 \u001b[01;34mHtml\u001b[0m/\r\n",
      "drwxr-xr-x 16 ejean 4096 déc.  16 10:59 \u001b[01;34mJava\u001b[0m/\r\n",
      "drwxr-xr-x  2 ejean 4096 févr. 19 16:07 \u001b[01;34mJnJ\u001b[0m/\r\n",
      "drwxr-xr-x  3 ejean 4096 janv. 10 16:28 \u001b[01;34mMOAB\u001b[0m/\r\n",
      "drwxr-xr-x  3 ejean 4096 févr.  9 11:13 \u001b[01;34mOutilAnalyseGenomes\u001b[0m/\r\n",
      "drwxr-xr-x  6 ejean 4096 mars  17 18:09 \u001b[01;34mProtDocking\u001b[0m/\r\n",
      "-rw-r--r--  1 ejean 8165 mars  17  2018 Protein_Docking_TP1.ipynb\r\n",
      "drwxr-xr-x  2 ejean 4096 févr.  9 11:13 \u001b[01;34mPython\u001b[0m/\r\n",
      "drwxr-xr-x  2 ejean 4096 nov.   2 18:54 \u001b[01;34mSeminaire\u001b[0m/\r\n",
      "drwxr-xr-x  2 ejean 4096 sept. 27 13:38 \u001b[01;34mStarfield\u001b[0m/\r\n",
      "-rw-r--r--  1 ejean  362 févr. 13 14:13 st_settings.json\r\n",
      "lrwxrwxrwx  1 ejean   28 nov.  28 10:35 \u001b[01;36mWindows\u001b[0m -> /mnt/c/Users/Etienne/Desktop\r\n"
     ]
    }
   ],
   "source": [
    "ll"
   ]
  },
  {
   "cell_type": "code",
   "execution_count": 23,
   "metadata": {},
   "outputs": [],
   "source": [
    "with open('ProtDocking/projet/1K9Vatom.pdb', 'r') as fi:\n",
    "    with open('ProtDocking/projet/1K9Vatom_corrected.pdb', 'w') as fo:\n",
    "        for line in fi:\n",
    "            l = list(line)\n",
    "            l[23]=str(int(l[23])-3)\n",
    "            ss = ''.join(l)\n",
    "            fo.write(ss)"
   ]
  },
  {
   "cell_type": "code",
   "execution_count": null,
   "metadata": {
    "collapsed": true
   },
   "outputs": [],
   "source": []
  },
  {
   "cell_type": "code",
   "execution_count": null,
   "metadata": {
    "collapsed": true
   },
   "outputs": [],
   "source": []
  },
  {
   "cell_type": "code",
   "execution_count": null,
   "metadata": {
    "collapsed": true
   },
   "outputs": [],
   "source": []
  },
  {
   "cell_type": "code",
   "execution_count": null,
   "metadata": {
    "collapsed": true
   },
   "outputs": [],
   "source": []
  },
  {
   "cell_type": "code",
   "execution_count": null,
   "metadata": {
    "collapsed": true
   },
   "outputs": [],
   "source": []
  },
  {
   "cell_type": "code",
   "execution_count": null,
   "metadata": {
    "collapsed": true
   },
   "outputs": [],
   "source": []
  }
 ],
 "metadata": {
  "kernelspec": {
   "display_name": "Python 3",
   "language": "python",
   "name": "python3"
  },
  "language_info": {
   "codemirror_mode": {
    "name": "ipython",
    "version": 3
   },
   "file_extension": ".py",
   "mimetype": "text/x-python",
   "name": "python",
   "nbconvert_exporter": "python",
   "pygments_lexer": "ipython3",
   "version": "3.6.3"
  }
 },
 "nbformat": 4,
 "nbformat_minor": 2
}
