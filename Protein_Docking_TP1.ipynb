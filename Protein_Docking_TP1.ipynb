{
 "cells": [
  {
   "cell_type": "markdown",
   "metadata": {},
   "source": [
    "# Protein Docking TP 1"
   ]
  },
  {
   "cell_type": "markdown",
   "metadata": {},
   "source": []
  },
  {
   "cell_type": "markdown",
   "metadata": {},
   "source": []
  },
  {
   "cell_type": "markdown",
   "metadata": {},
   "source": []
  },
  {
   "cell_type": "markdown",
   "metadata": {},
   "source": [
    "## Introduction\n",
    "Many biological processes involve protein-protein specific interactions forming specific protein complexes. Since it can be tricky, costly, and time-spending to study such interactions with cristallography techniques, it is essential to be able to explore and predict protein-protein interactions with computer simulations, *in silico*.  \n",
    "Through the example of the Barnase-Barstar interaction, the aim of this study is to evaluate and compare two different rigid-body docking techniques : Z-Dock and FT-Dock.  \n",
    "\n",
    "\n",
    "## Material & Methods\n",
    "The Barnase is an extra-cellular ribonuclease, and the Bastar is its proteic inhibitor. This interaction is very weel-known nowadays, so it constitutes a good test for docking algorithms. The structure of the unbound Barnase and Barstar were taken from the *Protein Data Bank* (PDB), and so was the reference complex solved by X-ray cristallography that was used to evaluate the quality of the docking results.  \n",
    "- Unbound barnase: code 1A2P\n",
    "- Unbound barstar: code 1A19\n",
    "- Complex barnase-barstar : code 1BRS\n",
    "Two docking algorithms were used to compute docking positions : Z-Dock and FT-Dock.\n",
    "Using PyMOL, the structure of the receptors were aligned together, and the Root Mean Square Deviation of the ligands (L-RMSD) were computed to evaluate the distance of the docking proposed by Zdock and FTdock to the reference docking pose.\n",
    "\n",
    "\n",
    "\n",
    "\n",
    "## Results & Discussion\n",
    "\n",
    "\n",
    "\n",
    "\n",
    "\n",
    "\n"
   ]
  },
  {
   "cell_type": "markdown",
   "metadata": {},
   "source": [
    "## Docking avec Z-Dock\n",
    "\n",
    "Rank in Zdock scoring|Zdock score|Ligand-RMSD compared to the reference structure (in Angströms)\n",
    ":------------:|:-----------:|:------------------------------------:\n",
    "**1**   |**17.32**|**17.800**\n",
    "**2**   |**16.82**|**16.888**\n",
    "**3**   |**16.70**|**10.885**\n",
    "4   |15.96|17.674\n",
    "5   |15.78|21.991\n",
    "6   |15.42|19.011\n",
    "7   |15.22|14.732\n",
    "8   |15.18|20.519\n",
    "9   |15.12|16.145\n",
    "10  |14.60|16.193"
   ]
  },
  {
   "cell_type": "markdown",
   "metadata": {},
   "source": [
    "## Docking avec FT-Dock\n",
    "\n",
    "Rank in FTdock scoring|FTdock score|Ligand-RMSD compared to the reference structure (in Angströms)\n",
    ":------------:|:-----------:|:------------------------------------:\n",
    "**1**   |**69**   |**52.904**\n",
    "**2**   |**67**   |**42.579**\n",
    "3   |67   |51.952\n",
    "4   |66   |49.581\n",
    "5   |65   |49.644\n",
    "6   |64   |53.149\n",
    "7   |63   |49.867\n",
    "8   |63   |50.093\n",
    "**9**   |**63**   |**26.460**\n",
    "10  |63   |31.772\n"
   ]
  },
  {
   "cell_type": "markdown",
   "metadata": {
    "collapsed": true
   },
   "source": [
    "- How are the docking solutions stored in the ZDOCK and FTDOCK outputs? Where is the scoring? Can you find any differences in the scoring values of the two methods?\n",
    "- How close are the highest-scoring FTDock and ZDOCK solutions to the x-ray structure?\n",
    "- How many docking solutions with RMSD < 10Å can be found in the top 10 solutions from each program?\n",
    "- Will the combination of results from both programs improve the chances of a good prediction?\n",
    "- From this analysis on a test case in which complex structure is known, have we learned any suggestion to optimally apply these docking programs in a real case situation?"
   ]
  },
  {
   "cell_type": "markdown",
   "metadata": {
    "collapsed": true
   },
   "source": [
    "**Output of both methods**  \n",
    "FTdock scoring is integer values, while Zdock scoring values are floats. The two scoring functions are differents and that is why the docking results also differ between the 2 methods. In both output files, the docking poses are sorted by score values, with the higher scores at the top.  \n",
    "\n",
    "**Quality of the docking**  \n",
    ".  \n",
    "For Zdock results, the L-RMSD range from 10 to 22 Angstroms, and from 26 to 53 Angstroms for FTdock. The results from FTdock thus seem to cover a much bigger range than Zdock, and seem to be much less accurate.  \n",
    "The parameters used to computed the docking positions were similar : grid cell span was set to 1.2 A, and total grid span to 90 A. However, The FTdock program proposes other options, such as the computation of the electrostatic charges, which was set to *off* for the calculations for time reasons. If those charges had been computed, and the grid cell span was set to a lower value, the precision would have increased, and the resulting docking positions of Zdock and FTdock may have been closer to the reference.  \n",
    "\n",
    "\n"
   ]
  },
  {
   "cell_type": "markdown",
   "metadata": {
    "collapsed": true
   },
   "source": []
  },
  {
   "cell_type": "markdown",
   "metadata": {
    "collapsed": true
   },
   "source": []
  },
  {
   "cell_type": "markdown",
   "metadata": {
    "collapsed": true
   },
   "source": []
  },
  {
   "cell_type": "markdown",
   "metadata": {
    "collapsed": true
   },
   "source": []
  },
  {
   "cell_type": "markdown",
   "metadata": {},
   "source": []
  },
  {
   "cell_type": "markdown",
   "metadata": {},
   "source": []
  },
  {
   "cell_type": "markdown",
   "metadata": {},
   "source": []
  },
  {
   "cell_type": "markdown",
   "metadata": {},
   "source": []
  },
  {
   "cell_type": "markdown",
   "metadata": {},
   "source": []
  },
  {
   "cell_type": "markdown",
   "metadata": {},
   "source": []
  },
  {
   "cell_type": "markdown",
   "metadata": {},
   "source": []
  },
  {
   "cell_type": "markdown",
   "metadata": {},
   "source": []
  },
  {
   "cell_type": "markdown",
   "metadata": {},
   "source": []
  },
  {
   "cell_type": "markdown",
   "metadata": {},
   "source": []
  },
  {
   "cell_type": "markdown",
   "metadata": {},
   "source": []
  }
 ],
 "metadata": {
  "kernelspec": {
   "display_name": "Python 3",
   "language": "python",
   "name": "python3"
  },
  "language_info": {
   "codemirror_mode": {
    "name": "ipython",
    "version": 3
   },
   "file_extension": ".py",
   "mimetype": "text/x-python",
   "name": "python",
   "nbconvert_exporter": "python",
   "pygments_lexer": "ipython3",
   "version": "3.6.4"
  },
  "latex_metadata": {
   "author": "Etienne JEAN",
   "title": "Protein Docking : Report of practical 1"
  }
 },
 "nbformat": 4,
 "nbformat_minor": 2
}
