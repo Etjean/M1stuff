{
 "metadata": {
  "name": "",
  "signature": "sha256:f08eb67d59bfb941c3c47623f357f10e3073e79d8bc35334083339b0aab81c8a"
 },
 "nbformat": 3,
 "nbformat_minor": 0,
 "worksheets": [
  {
   "cells": [
    {
     "cell_type": "heading",
     "level": 1,
     "metadata": {},
     "source": [
      "TD6"
     ]
    },
    {
     "cell_type": "heading",
     "level": 3,
     "metadata": {},
     "source": [
      "Partie I"
     ]
    },
    {
     "cell_type": "code",
     "collapsed": false,
     "input": [
      "import os\n",
      "import numpy as np"
     ],
     "language": "python",
     "metadata": {},
     "outputs": [],
     "prompt_number": 26
    },
    {
     "cell_type": "code",
     "collapsed": false,
     "input": [
      "#Calcul le score observ\u00e9\n",
      "os.system(\"water -asequence query.fasta -bsequence db.fasta -gapopen 10.0 -gapextend 0.5 \\\n",
      "              -datafile EBLOSUM50 -outfile out.water\")\n",
      "os.system(\"grep Score out.water | cut -d \\\" \\\" -f 3 | paste -s -d + | bc\")\n",
      "#blosum62 18020.5\n",
      "#blosum40 44934.5\n",
      "#blosum50 30760.5"
     ],
     "language": "python",
     "metadata": {},
     "outputs": [
      {
       "metadata": {},
       "output_type": "pyout",
       "prompt_number": 67,
       "text": [
        "0"
       ]
      }
     ],
     "prompt_number": 67
    },
    {
     "cell_type": "code",
     "collapsed": false,
     "input": [
      "#G\u00e9nere les s\u00e9quences al\u00e9atoires et calcul les scores\n",
      "os.system(\"rm -f mod1.tab\")\n",
      "for _ in range(100):\n",
      "    os.system(\"shuffleseq -sequence query.fasta -outseq shuffled_query.fasta\")\n",
      "    os.system(\"shuffleseq -sequence db.fasta -outseq shuffled_db.fasta\")\n",
      "    os.system(\"water -asequence shuffled_query.fasta -bsequence shuffled_db.fasta -gapopen 10.0 -gapextend 0.5 \\\n",
      "              -datafile EBLOSUM50 -outfile out.water\")\n",
      "    os.system(\"grep Score out.water | cut -d \\\" \\\" -f 3 | paste -s -d + | bc >> mod1.tab\")"
     ],
     "language": "python",
     "metadata": {},
     "outputs": [],
     "prompt_number": 74
    },
    {
     "cell_type": "code",
     "collapsed": false,
     "input": [
      "#lit le fichier de scores et en extrait la liste des scores\n",
      "with open(\"mod1.tab\", \"r\") as filin:\n",
      "    scores = [float(sc[:-2]) for sc in filin.readlines()]\n",
      "    print(scores)\n"
     ],
     "language": "python",
     "metadata": {},
     "outputs": [
      {
       "output_type": "stream",
       "stream": "stdout",
       "text": [
        "[23165.0, 23127.0, 22856.0, 22215.0, 23094.0, 22576.0, 22923.0, 23178.0, 22894.0, 23452.0, 23607.0, 23148.0, 22905.0, 22960.0, 22899.0, 23124.0, 22888.0, 22940.0, 23010.0, 23181.0, 22255.0, 22881.0, 23132.0, 23013.0, 23183.0, 23273.0, 22481.0, 22248.0, 22600.0, 22799.0, 23302.0, 22400.0, 22174.0, 22689.0, 22753.0, 22296.0, 23494.0, 22525.0, 22939.0, 22559.0, 23091.0, 23181.0, 22690.0, 22737.0, 23441.0, 23532.0, 23323.0, 22640.0, 22945.0, 22806.0, 22534.0, 23305.0, 22690.0, 22590.0, 22458.0, 22580.0, 22845.0, 23079.0, 22948.0, 22655.0, 22236.0, 23573.0, 22860.0, 23263.0, 22682.0, 22121.0, 22257.0, 22627.0, 22458.0, 22853.0, 22643.0, 21829.0, 23381.0, 23295.0, 22331.0, 22615.0, 22389.0, 22904.0, 22605.0, 22419.0, 22834.0, 23108.0, 23482.0, 22784.0, 22268.0, 22791.0, 23100.0, 22257.0, 22542.0, 22221.0, 22928.0, 22645.0, 22821.0, 22939.0, 23561.0, 22430.0, 22709.0, 22101.0, 22873.0, 22495.0]\n"
       ]
      }
     ],
     "prompt_number": 75
    },
    {
     "cell_type": "code",
     "collapsed": false,
     "input": [
      "score_obs = 30760.5\n",
      "\n",
      "#mean, var, std\n",
      "print(\"Mean      = {:>12.3f}\".format(np.mean(scores)))\n",
      "print(\"Variance  = {:>12.3f}\".format(np.var(scores)))\n",
      "print(\"Std       = {:>12.3f}\".format(np.std(scores)))\n",
      "\n",
      "#pvalue\n",
      "pvalue = 0\n",
      "for sc in scores:\n",
      "    if sc >= score_obs:\n",
      "        pvalue += 1\n",
      "pvalue /=len(scores)\n",
      "print(\"P-value   = {:>12.3f}\".format(pvalue))\n",
      "\n",
      "#zscore\n",
      "zscore = (score_obs - np.mean(scores))/np.std(scores)\n",
      "print(\"Z-score   = {:>12.3f}\".format(zscore))"
     ],
     "language": "python",
     "metadata": {},
     "outputs": [
      {
       "output_type": "stream",
       "stream": "stdout",
       "text": [
        "Mean      =    22814.380\n",
        "Variance  =   148227.416\n",
        "Std       =      385.003\n",
        "P-value   =        0.000\n",
        "Z-score   =       20.639\n"
       ]
      }
     ],
     "prompt_number": 76
    },
    {
     "cell_type": "code",
     "collapsed": false,
     "input": [],
     "language": "python",
     "metadata": {},
     "outputs": [],
     "prompt_number": 34
    },
    {
     "cell_type": "code",
     "collapsed": false,
     "input": [],
     "language": "python",
     "metadata": {},
     "outputs": [],
     "prompt_number": 34
    },
    {
     "cell_type": "code",
     "collapsed": false,
     "input": [],
     "language": "python",
     "metadata": {},
     "outputs": [],
     "prompt_number": 34
    },
    {
     "cell_type": "code",
     "collapsed": false,
     "input": [],
     "language": "python",
     "metadata": {},
     "outputs": [],
     "prompt_number": 34
    },
    {
     "cell_type": "code",
     "collapsed": false,
     "input": [],
     "language": "python",
     "metadata": {},
     "outputs": [],
     "prompt_number": 34
    },
    {
     "cell_type": "code",
     "collapsed": false,
     "input": [],
     "language": "python",
     "metadata": {},
     "outputs": [],
     "prompt_number": 44
    },
    {
     "cell_type": "code",
     "collapsed": false,
     "input": [],
     "language": "python",
     "metadata": {},
     "outputs": [],
     "prompt_number": 44
    },
    {
     "cell_type": "code",
     "collapsed": false,
     "input": [],
     "language": "python",
     "metadata": {},
     "outputs": [],
     "prompt_number": 44
    },
    {
     "cell_type": "code",
     "collapsed": false,
     "input": [],
     "language": "python",
     "metadata": {},
     "outputs": [],
     "prompt_number": 44
    },
    {
     "cell_type": "code",
     "collapsed": false,
     "input": [],
     "language": "python",
     "metadata": {},
     "outputs": [],
     "prompt_number": 44
    },
    {
     "cell_type": "code",
     "collapsed": false,
     "input": [],
     "language": "python",
     "metadata": {},
     "outputs": [],
     "prompt_number": 44
    },
    {
     "cell_type": "code",
     "collapsed": false,
     "input": [],
     "language": "python",
     "metadata": {},
     "outputs": [],
     "prompt_number": 44
    },
    {
     "cell_type": "code",
     "collapsed": false,
     "input": [],
     "language": "python",
     "metadata": {},
     "outputs": []
    }
   ],
   "metadata": {}
  }
 ]
}