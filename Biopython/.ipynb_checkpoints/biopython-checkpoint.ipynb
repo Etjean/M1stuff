{
 "metadata": {
  "name": "",
  "signature": "sha256:39f09d03cafdd08763754b6c8bfe8eb2ef64497ed9a6dc370cebfbcb97baaf31"
 },
 "nbformat": 3,
 "nbformat_minor": 0,
 "worksheets": [
  {
   "cells": [
    {
     "cell_type": "heading",
     "level": 1,
     "metadata": {},
     "source": [
      "Cours 1 : Seq objects"
     ]
    },
    {
     "cell_type": "code",
     "collapsed": false,
     "input": [
      "# Creation of a Bio.Seq object\n",
      "from Bio.Seq import Seq\n",
      "my_seq = Seq(\"AGTACACTGGTC\")\n",
      "my_seq\n",
      "print(my_seq)\n",
      "my_seq.alphabet"
     ],
     "language": "python",
     "metadata": {},
     "outputs": [
      {
       "output_type": "stream",
       "stream": "stdout",
       "text": [
        "AGTACACTGGTC\n"
       ]
      },
      {
       "metadata": {},
       "output_type": "pyout",
       "prompt_number": 1,
       "text": [
        "Alphabet()"
       ]
      }
     ],
     "prompt_number": 1
    },
    {
     "cell_type": "code",
     "collapsed": false,
     "input": [
      "# Specifying the alphabet\n",
      "from Bio.Alphabet import IUPAC\n",
      "my_seq = Seq(\"AGTACACTGGTC\", IUPAC.unambiguous_dna)\n",
      "my_seq\n",
      "print(my_seq)\n",
      "my_seq.alphabet"
     ],
     "language": "python",
     "metadata": {},
     "outputs": [
      {
       "output_type": "stream",
       "stream": "stdout",
       "text": [
        "AGTACACTGGTC\n"
       ]
      },
      {
       "metadata": {},
       "output_type": "pyout",
       "prompt_number": 2,
       "text": [
        "IUPACUnambiguousDNA()"
       ]
      }
     ],
     "prompt_number": 2
    },
    {
     "cell_type": "code",
     "collapsed": false,
     "input": [
      "#Bio.Seq objects behave *like* strings\n",
      "for index, letter in enumerate(my_seq):\n",
      "    #print(\"%i %s\" % (index, letter))\n",
      "    print(\"{} {}\".format(index, letter))"
     ],
     "language": "python",
     "metadata": {},
     "outputs": [
      {
       "output_type": "stream",
       "stream": "stdout",
       "text": [
        "0 A\n",
        "1 G\n",
        "2 T\n",
        "3 A\n",
        "4 C\n",
        "5 A\n",
        "6 C\n",
        "7 T\n",
        "8 G\n",
        "9 G\n",
        "10 T\n",
        "11 C\n"
       ]
      }
     ],
     "prompt_number": 3
    },
    {
     "cell_type": "code",
     "collapsed": false,
     "input": [
      "# Type check\n",
      "isinstance(my_seq, str)"
     ],
     "language": "python",
     "metadata": {},
     "outputs": [
      {
       "metadata": {},
       "output_type": "pyout",
       "prompt_number": 4,
       "text": [
        "False"
       ]
      }
     ],
     "prompt_number": 4
    },
    {
     "cell_type": "code",
     "collapsed": false,
     "input": [
      "# Concatenation does not work if alphabets are different\n",
      "my_prot = Seq(\"ARGVFP\", IUPAC.protein)\n",
      "#my_seq + my_prot"
     ],
     "language": "python",
     "metadata": {},
     "outputs": [],
     "prompt_number": 5
    },
    {
     "cell_type": "code",
     "collapsed": false,
     "input": [
      "# Some methods associated to Bio.Seq\n",
      "print(my_seq.complement())\n",
      "print(my_seq.reverse_complement())\n",
      "mRNA = my_seq.transcribe()\n",
      "print(mRNA)\n",
      "print(my_seq.translate())\n",
      "print(mRNA.translate())"
     ],
     "language": "python",
     "metadata": {},
     "outputs": [
      {
       "output_type": "stream",
       "stream": "stdout",
       "text": [
        "TCATGTGACCAG\n",
        "GACCAGTGTACT\n",
        "AGUACACUGGUC\n",
        "STLV\n",
        "STLV\n"
       ]
      }
     ],
     "prompt_number": 6
    },
    {
     "cell_type": "code",
     "collapsed": false,
     "input": [
      "#Bio.Seq items are not mutable\n",
      "#my_seq[5] = \"G\" #doesn't work\n",
      "\n",
      "#Convert to MUTABLE\n",
      "mutable_seq = my_seq.tomutable()\n",
      "mutable_seq"
     ],
     "language": "python",
     "metadata": {},
     "outputs": [
      {
       "metadata": {},
       "output_type": "pyout",
       "prompt_number": 7,
       "text": [
        "MutableSeq('AGTACACTGGTC', IUPACUnambiguousDNA())"
       ]
      }
     ],
     "prompt_number": 7
    },
    {
     "cell_type": "code",
     "collapsed": false,
     "input": [
      "#Then mutate it.\n",
      "mutable_seq[5] = \"G\"\n",
      "mutable_seq"
     ],
     "language": "python",
     "metadata": {},
     "outputs": [
      {
       "metadata": {},
       "output_type": "pyout",
       "prompt_number": 8,
       "text": [
        "MutableSeq('AGTACGCTGGTC', IUPACUnambiguousDNA())"
       ]
      }
     ],
     "prompt_number": 8
    },
    {
     "cell_type": "markdown",
     "metadata": {},
     "source": [
      "#Exercise 1"
     ]
    },
    {
     "cell_type": "code",
     "collapsed": false,
     "input": [
      "seq = Seq(\"ATGATCGGCTATAGGATCCCTACGTCGCATGACTAGGGC\")\n",
      "len(seq)"
     ],
     "language": "python",
     "metadata": {},
     "outputs": [
      {
       "metadata": {},
       "output_type": "pyout",
       "prompt_number": 9,
       "text": [
        "39"
       ]
      }
     ],
     "prompt_number": 9
    },
    {
     "cell_type": "code",
     "collapsed": true,
     "input": [
      "for index, letter in enumerate(seq):\n",
      "    print(\"{} {}\".format(index, letter))"
     ],
     "language": "python",
     "metadata": {},
     "outputs": [
      {
       "output_type": "stream",
       "stream": "stdout",
       "text": [
        "0 A\n",
        "1 T\n",
        "2 G\n",
        "3 A\n",
        "4 T\n",
        "5 C\n",
        "6 G\n",
        "7 G\n",
        "8 C\n",
        "9 T\n",
        "10 A\n",
        "11 T\n",
        "12 A\n",
        "13 G\n",
        "14 G\n",
        "15 A\n",
        "16 T\n",
        "17 C\n",
        "18 C\n",
        "19 C\n",
        "20 T\n",
        "21 A\n",
        "22 C\n",
        "23 G\n",
        "24 T\n",
        "25 C\n",
        "26 G\n",
        "27 C\n",
        "28 A\n",
        "29 T\n",
        "30 G\n",
        "31 A\n",
        "32 C\n",
        "33 T\n",
        "34 A\n",
        "35 G\n",
        "36 G\n",
        "37 G\n",
        "38 C\n"
       ]
      }
     ],
     "prompt_number": 10
    },
    {
     "cell_type": "code",
     "collapsed": false,
     "input": [
      "#gc content, method 1\n",
      "gc = 0\n",
      "for letter in seq:\n",
      "    if letter == \"G\" or letter == \"C\":\n",
      "        gc += 1\n",
      "print('Pourcentage de GC de la s\u00e9quence : ' + str(gc/len(seq)*100))"
     ],
     "language": "python",
     "metadata": {},
     "outputs": [
      {
       "output_type": "stream",
       "stream": "stdout",
       "text": [
        "Pourcentage de GC de la s\u00e9quence : 53.84615384615385\n"
       ]
      }
     ],
     "prompt_number": 11
    },
    {
     "cell_type": "code",
     "collapsed": false,
     "input": [
      "#gc content, method 2\n",
      "from Bio.SeqUtils import GC\n",
      "print('Pourcentage de GC de la s\u00e9quence : ' + str(GC(seq)))"
     ],
     "language": "python",
     "metadata": {},
     "outputs": [
      {
       "output_type": "stream",
       "stream": "stdout",
       "text": [
        "Pourcentage de GC de la s\u00e9quence : 53.84615384615385\n"
       ]
      }
     ],
     "prompt_number": 12
    },
    {
     "cell_type": "code",
     "collapsed": false,
     "input": [
      "#complement, reverse complement, peptide\n",
      "print(seq.complement())\n",
      "print(seq.reverse_complement())\n",
      "print(seq.translate())"
     ],
     "language": "python",
     "metadata": {},
     "outputs": [
      {
       "output_type": "stream",
       "stream": "stdout",
       "text": [
        "TACTAGCCGATATCCTAGGGATGCAGCGTACTGATCCCG\n",
        "GCCCTAGTCATGCGACGTAGGGATCCTATAGCCGATCAT\n",
        "MIGYRIPTSHD*G\n"
       ]
      }
     ],
     "prompt_number": 13
    },
    {
     "cell_type": "code",
     "collapsed": false,
     "input": [
      "#replacing the stop codon TAG with a methionine \"ATG\"\n",
      "print(seq[-6:-3])\n",
      "seq.tomutable()[-6:-3] = \"ATG\"\n",
      "print(seq)\n",
      "\n",
      "#re-translating\n",
      "print(seq.translate())"
     ],
     "language": "python",
     "metadata": {},
     "outputs": [
      {
       "output_type": "stream",
       "stream": "stdout",
       "text": [
        "TAG\n",
        "ATGATCGGCTATAGGATCCCTACGTCGCATGACTAGGGC\n",
        "MIGYRIPTSHD*G\n"
       ]
      }
     ],
     "prompt_number": 14
    },
    {
     "cell_type": "heading",
     "level": 1,
     "metadata": {},
     "source": [
      "Cours 2 : Record objects"
     ]
    },
    {
     "cell_type": "code",
     "collapsed": false,
     "input": [
      "#Creation of a SeqRecord\n",
      "from Bio.SeqRecord import SeqRecord\n",
      "simple_seq = \"ATCG\"\n",
      "simple_seq_r = SeqRecord(simple_seq)\n",
      "simple_seq_r.id = \"AC12345\"\n",
      "simple_seq_r.description = \"Made up sequence 1, might write a paper about it\"\n",
      "print(simple_seq_r.description)"
     ],
     "language": "python",
     "metadata": {},
     "outputs": [
      {
       "output_type": "stream",
       "stream": "stdout",
       "text": [
        "Made up sequence 1, might write a paper about it\n"
       ]
      }
     ],
     "prompt_number": 15
    },
    {
     "cell_type": "code",
     "collapsed": false,
     "input": [
      "#Creating a record from the FASTA NC_005816, automatically.\n",
      "#github.com/biopython/biopython/blob/master/Tests/GenBank/NC_005816.fna\n",
      "from Bio import SeqIO\n",
      "record = SeqIO.read(\"NC_005816.fna\", \"fasta\")\n",
      "record"
     ],
     "language": "python",
     "metadata": {},
     "outputs": [
      {
       "metadata": {},
       "output_type": "pyout",
       "prompt_number": 16,
       "text": [
        "SeqRecord(seq=Seq('TGTAACGAACGGTGCAATAGTGATCCACACCCAACGCCTGAAATCAGATCCAGG...CTG', SingleLetterAlphabet()), id='gi|45478711|ref|NC_005816.1|', name='gi|45478711|ref|NC_005816.1|', description='gi|45478711|ref|NC_005816.1| Yersinia pestis biovar Microtus str. 91001 plasmid pPCP1, complete sequence', dbxrefs=[])"
       ]
      }
     ],
     "prompt_number": 16
    },
    {
     "cell_type": "code",
     "collapsed": false,
     "input": [
      "#Write a protein in FASTA\n",
      "from Bio.Alphabet import generic_protein\n",
      "record = SeqRecord(Seq(\"MMYQQGCFAGGTVLRLAKDLAENNRGARV\", generic_protein),id = \"gi|14150838|gb|AAK54648.1||AF376133_1\")\n",
      "record"
     ],
     "language": "python",
     "metadata": {},
     "outputs": [
      {
       "metadata": {},
       "output_type": "pyout",
       "prompt_number": 17,
       "text": [
        "SeqRecord(seq=Seq('MMYQQGCFAGGTVLRLAKDLAENNRGARV', ProteinAlphabet()), id='gi|14150838|gb|AAK54648.1||AF376133_1', name='<unknown name>', description='<unknown description>', dbxrefs=[])"
       ]
      }
     ],
     "prompt_number": 17
    },
    {
     "cell_type": "code",
     "collapsed": false,
     "input": [
      "#Read from GENBANK for richer records\n",
      "#github.com/biopython/biopython/blob/master/Tests/GenBank/NC_005816.gb\n",
      "record = SeqIO.read(\"NC_005816.gb\", \"genbank\")\n",
      "print(record.annotations[\"source\"])\n",
      "record"
     ],
     "language": "python",
     "metadata": {},
     "outputs": [
      {
       "output_type": "stream",
       "stream": "stdout",
       "text": [
        "Yersinia pestis biovar Microtus str. 91001\n"
       ]
      },
      {
       "metadata": {},
       "output_type": "pyout",
       "prompt_number": 18,
       "text": [
        "SeqRecord(seq=Seq('TGTAACGAACGGTGCAATAGTGATCCACACCCAACGCCTGAAATCAGATCCAGG...CTG', IUPACAmbiguousDNA()), id='NC_005816.1', name='NC_005816', description='Yersinia pestis biovar Microtus str. 91001 plasmid pPCP1, complete sequence.', dbxrefs=['Project:58037'])"
       ]
      }
     ],
     "prompt_number": 18
    },
    {
     "cell_type": "heading",
     "level": 1,
     "metadata": {},
     "source": [
      "Exercise 2"
     ]
    },
    {
     "cell_type": "code",
     "collapsed": false,
     "input": [
      "# We use the record ceated from the GenBank NC_005816.gb\n",
      "for key, value in record.annotations.items():\n",
      "    print(key)\n",
      "    print(value, end = \"\\n\\n\")"
     ],
     "language": "python",
     "metadata": {},
     "outputs": [
      {
       "output_type": "stream",
       "stream": "stdout",
       "text": [
        "data_file_division\n",
        "BCT\n",
        "\n",
        "sequence_version\n",
        "1\n",
        "\n",
        "references\n",
        "[Reference(title='Genetics of metabolic variations between Yersinia pestis biovars and the proposal of a new biovar, microtus', ...), Reference(title='Complete genome sequence of Yersinia pestis strain 91001, an isolate avirulent to humans', ...), Reference(title='Direct Submission', ...), Reference(title='Direct Submission', ...)]\n",
        "\n",
        "comment\n",
        "PROVISIONAL REFSEQ: This record has not yet been subject to final\n",
        "NCBI review. The reference sequence was derived from AE017046.\n",
        "COMPLETENESS: full length.\n",
        "\n",
        "keywords\n",
        "['']\n",
        "\n",
        "source\n",
        "Yersinia pestis biovar Microtus str. 91001\n",
        "\n",
        "date\n",
        "21-JUL-2008\n",
        "\n",
        "gi\n",
        "45478711\n",
        "\n",
        "accessions\n",
        "['NC_005816']\n",
        "\n",
        "organism\n",
        "Yersinia pestis biovar Microtus str. 91001\n",
        "\n",
        "taxonomy\n",
        "['Bacteria', 'Proteobacteria', 'Gammaproteobacteria', 'Enterobacteriales', 'Enterobacteriaceae', 'Yersinia']\n",
        "\n"
       ]
      }
     ],
     "prompt_number": 19
    },
    {
     "cell_type": "heading",
     "level": 1,
     "metadata": {},
     "source": [
      "Cours 3 : Alignments"
     ]
    },
    {
     "cell_type": "code",
     "collapsed": false,
     "input": [
      "# Alignment I/O\n",
      "from Bio import AlignIO\n",
      "alignment = AlignIO.read(\"hedgehog.aln\", \"clustal\")\n",
      "print(alignment)\n",
      "for record in alignment:\n",
      "    print(record)"
     ],
     "language": "python",
     "metadata": {},
     "outputs": [
      {
       "output_type": "stream",
       "stream": "stdout",
       "text": [
        "SingleLetterAlphabet() alignment with 5 rows and 447 columns\n",
        "MFNLVSGTGGSSCCHRRNCFANRKKFFTMLLIFLLYMVSQVQSC...--- gi|167877390|gb|EDS40773.1|\n",
        "---------------------MRSASAAALLLAALLVVQAVRAC...--- gi|167234445|ref|NP_001107837.\n",
        "-------------MPQR----SLRHQLGMILVFFLLVTSHSLAC...--- gi|74100009|gb|AAZ99217.1|\n",
        "------------MSPAR----LRPRLHFCLVLLLLLVVPAAWGC...AGS gi|13990994|dbj|BAA33523.2|\n",
        "----------------------LAADDQGRLLYSDFLTFLDRDD...KSS gi|56122354|gb|AAV74328.1|\n",
        "ID: gi|167877390|gb|EDS40773.1|\n",
        "Name: <unknown name>\n",
        "Description: gi|167877390|gb|EDS40773.1|\n",
        "Number of features: 0\n",
        "Seq('MFNLVSGTGGSSCCHRRNCFANRKKFFTMLLIFLLYMVSQVQSCGPGRGIGGPR...---', SingleLetterAlphabet())\n",
        "ID: gi|167234445|ref|NP_001107837.\n",
        "Name: <unknown name>\n",
        "Description: gi|167234445|ref|NP_001107837.\n",
        "Number of features: 0\n",
        "Seq('---------------------MRSASAAALLLAALLVVQAVRACGPGRGVGRRR...---', SingleLetterAlphabet())\n",
        "ID: gi|74100009|gb|AAZ99217.1|\n",
        "Name: <unknown name>\n",
        "Description: gi|74100009|gb|AAZ99217.1|\n",
        "Number of features: 0\n",
        "Seq('-------------MPQR----SLRHQLGMILVFFLLVTSHSLACGPGRGPGKRR...---', SingleLetterAlphabet())\n",
        "ID: gi|13990994|dbj|BAA33523.2|\n",
        "Name: <unknown name>\n",
        "Description: gi|13990994|dbj|BAA33523.2|\n",
        "Number of features: 0\n",
        "Seq('------------MSPAR----LRPRLHFCLVLLLLLVVPAAWGCGPGRVVGSRR...AGS', SingleLetterAlphabet())\n",
        "ID: gi|56122354|gb|AAV74328.1|\n",
        "Name: <unknown name>\n",
        "Description: gi|56122354|gb|AAV74328.1|\n",
        "Number of features: 0\n",
        "Seq('----------------------LAADDQGRLLYSDFLTFLDRDDGAKKVFYVIE...KSS', SingleLetterAlphabet())\n"
       ]
      }
     ],
     "prompt_number": 20
    },
    {
     "cell_type": "heading",
     "level": 1,
     "metadata": {},
     "source": [
      "Exercise 3"
     ]
    },
    {
     "cell_type": "code",
     "collapsed": false,
     "input": [
      "#Read Regulon_Cerevisiae.fasta\n",
      "reg_cerevisiae = SeqIO.parse(\"Regulon_Cerevisiae.fasta\", \"fasta\")\n",
      "reg_cerevisiae\n",
      "#reg_cerevisiae est un g\u00e9n\u00e9rateur. On peut le transformer en liste en utilisant list(). \n",
      "#L'int\u00e9ret du g\u00e9n\u00e9rateur par rapport \u00e0 la liste est de ne pas surcharger la m\u00e9moire."
     ],
     "language": "python",
     "metadata": {},
     "outputs": [
      {
       "metadata": {},
       "output_type": "pyout",
       "prompt_number": 21,
       "text": [
        "<generator object parse at 0x7f3144588a98>"
       ]
      }
     ],
     "prompt_number": 21
    },
    {
     "cell_type": "code",
     "collapsed": false,
     "input": [
      "#Transforming the reg_cerevisiae generator into a list, because the generator can only be called once\n",
      "reg_cer = list(reg_cerevisiae)\n",
      "len(reg_cer)"
     ],
     "language": "python",
     "metadata": {},
     "outputs": [
      {
       "metadata": {},
       "output_type": "pyout",
       "prompt_number": 22,
       "text": [
        "306"
       ]
      }
     ],
     "prompt_number": 22
    },
    {
     "cell_type": "code",
     "collapsed": false,
     "input": [
      "#Writing a fasta of the sequences longer than 400bp\n",
      "with open(\"biopy_exercise3.fasta\", \"w\") as filout:\n",
      "    for record in reg_cer:\n",
      "        #print(record.id)\n",
      "        #print(len(record))\n",
      "        if len(record) >= 400:\n",
      "            filout.write(\">\"+record.id+\"\\n\")\n",
      "            filout.write(record.seq.tostring()+\"\\n\")\n"
     ],
     "language": "python",
     "metadata": {},
     "outputs": [
      {
       "output_type": "stream",
       "stream": "stderr",
       "text": [
        "/usr/lib/python3/dist-packages/Bio/Seq.py:343: BiopythonDeprecationWarning: This method is obsolete; please use str(my_seq) instead of my_seq.tostring().\n",
        "  BiopythonDeprecationWarning)\n"
       ]
      }
     ],
     "prompt_number": 34
    },
    {
     "cell_type": "heading",
     "level": 1,
     "metadata": {},
     "source": [
      "TP 2"
     ]
    },
    {
     "cell_type": "heading",
     "level": 1,
     "metadata": {},
     "source": [
      "Cours 4 : Multiple alignments"
     ]
    },
    {
     "cell_type": "code",
     "collapsed": false,
     "input": [
      "#Display the alignments from the file fibGamma.sth\n",
      "from Bio import AlignIO\n",
      "alignments = AlignIO.parse(open(\"biopythonFiles/fibGamma.sth\"), \"stockholm\")\n",
      "for alignment in alignments:\n",
      "    for rec in alignment:\n",
      "        print(rec.seq+\" \"+rec.id)"
     ],
     "language": "python",
     "metadata": {},
     "outputs": [
      {
       "output_type": "stream",
       "stream": "stdout",
       "text": [
        "GFGTYCPTTCGVADYLQRYKPDMDKKLDDMEQDLEEIANLTRGAQDKVVYLK---DSEAQAQKQSPDTYIKKSSNML Q7ZVG7_BRARE/37-110\n",
        "RFGSYCPTTCGIADFLSTYQATVDKDLQTLEDILSQAENKTMEAKELVKAIQVSYLPEDPARPNRVELATKDSKKMM Q6X871_SCAAQ/1-77\n",
        "RFGSYCPTTCGIADFLSTYQTGVXNDLRTLEDLLSGIENKTSEAKELIKSIQVSYNPNEPPKPNTIVSATKDSKKMM O02676_CROCR/1-77\n",
        "RFGSYCPTTCGIADFLSTYQGSIDKDLQTLEDILNQVENKTXEASELIKSIQVSYNPDEPPRPNMIEGATQKSKKML Q6X869_TENEC/1-77\n",
        "RFGSYCPTTCGIADFLSTYQTKVDKDLQSLEDILHQVENKTSEVKQLIKAIQLTYNPDESSKPNMIDAATLKSRKML FIBG_HUMAN/40-116\n",
        "RFGSYCPTTCGIADFLSTYQTXVDKDLQVLEDILNQAENKTSEAKELIKAIQVRYKPDEPTKPGGIDSATRESKKML O02689_TAPIN/1-77\n",
        "RFGSYCPTMCGIAGFLSTYQNTVEKDLQNLEGILHQVENKTSEARELIKAIQISYNPEDLSKPDRIQSATKESKKML O02688_PIG/1-77\n",
        "RFGSYCPTTCGVADFLSNYQTSVDKDLQNLEGILYQVENKTSEARELVKAIQISYNPDEPSKPNNIESATKNSKRMM O02672_9CETA/1-77\n",
        "RFGSYCPTTCGIADFLSNYQTSVDKDLQDFEDILHRAENQTSEAEQLIQAIRTSYNPDEPPKTGRIDAATRESKKMM O02682_EQUPR/1-77\n",
        "RFGSYCPTTCGIADFLSTYQTKVDEDLQNLEDILYRVENRTSEAKELIKAIQVDYNPGEPPKQSVTEGATQNAKKMV Q6X870_CYNVO/1-77\n",
        "RFGSYCPTTCGISDFLNSYQTDVDTDLQTLENILQRAENRTTEAKELIKAIQVYYNPDQPPKPGMIEGATQKSKKMV FIBG_RAT/40-116\n",
        "RFGSYCPTTCGIADFLNKYQTTIDQDLRHMEETLRDIDNKTAESTLLIQKIQIGQTPDPRPQ-NVIGDVTQKSRKMI Q6X866_DROAU/1-76\n",
        "RFGSYCPTTCGIADFFNKYRLTTDGELLEIEGLLQQATNSTGSIEYLIQHIKTIYPSEKQTLPQSIEQLTQKSKKII O93568_CHICK/40-116\n",
        "RFGEYCPTTCGISDFLNRYQENVDTDLQYLENLLTQISNSTSGTTIIVEHLIDSGKKPATSPQTAIDPMTQKSKTCW FIBG_XENLA/38-114\n"
       ]
      }
     ],
     "prompt_number": 24
    },
    {
     "cell_type": "code",
     "collapsed": false,
     "input": [
      "from Bio.Align.Applications import ClustalwCommandline\n",
      "clustalw2line = ClustalwCommandline(\"biopythonFiles/clustalw2\", infile = \"biopythonFiles/opuntia.fasta\")\n",
      "print(clustalw2line)"
     ],
     "language": "python",
     "metadata": {},
     "outputs": [
      {
       "output_type": "stream",
       "stream": "stdout",
       "text": [
        "biopythonFiles/clustalw2 -infile=biopythonFiles/opuntia.fasta\n"
       ]
      }
     ],
     "prompt_number": 25
    },
    {
     "cell_type": "code",
     "collapsed": false,
     "input": [
      "#from Bio import Phylo\n",
      "#tree = Phylo.read(\"opuntia.dnd\", \"newick\")"
     ],
     "language": "python",
     "metadata": {},
     "outputs": [],
     "prompt_number": 26
    },
    {
     "cell_type": "heading",
     "level": 1,
     "metadata": {},
     "source": [
      "Exercise 4"
     ]
    },
    {
     "cell_type": "code",
     "collapsed": false,
     "input": [
      "#Display the alignments of the file PF08792, and store them in a list\n",
      "pf08792 = AlignIO.parse(open(\"biopythonFiles/PF08792_full.sth\"), \"stockholm\")\n",
      "pf08792 = list(pf08792)\n",
      "for alignment in pf08792:\n",
      "    for rec in alignment:\n",
      "        print(rec.seq+\" \"+rec.id)"
     ],
     "language": "python",
     "metadata": {},
     "outputs": [
      {
       "output_type": "stream",
       "stream": "stdout",
       "text": [
        "-----SIPVVCT---CGNDKDFY--KDDDIYI-CQLCNAETV-k-- VF282_IIV6/150-181\n",
        "----n-SLKCCNS--CKHNGLV---TEYDYEF-CVFCESIFTI--- Q070C9_CPRVZ/2-33\n",
        "-----SNLKHCSN--CKHNGLI---TESNHEF-CIFCQSIFQL--- VLTF3_FOWPN/2-33\n",
        "--nar---IKCIA--CNAPVVR---TTDDRYV-CVDCG-----esp D8J5N4_HALJB/10-39\n",
        "----n-ALRHCHG--CKHNGLV---LEQGYEF-CIFCQAVFQH--- Q98271_MCV1/5-36\n",
        "---ak---IKCIK--CNSPVVL---TVDDEYI-CVNCG-----e-- Q5V3A3_HALMA/11-37\n",
        "--dav----RCRK--CSGAMIY---TKREIYQ-CERCGATY--l-- R5VUP8_9CLOT/17-46\n",
        "----a--QKRCEV--CGGSGLVLreKEKDYLR-CPECGMI---af- A0A0B2SHZ4_GLYSO/76-108\n",
        "-----NDDSKCIK--CGGPVLMQ--AARSLLN-CQECGYSAA-v-- Q4A276_EHV8U/148-180\n",
        "----a--QKRCEV--CGGSGLVLreKEKDYLR-CPECGMI---af- A0A0B2QR54_GLYSO/99-131\n",
        "-----MNLKLCSG--CSHNGIV---SENGYEF-CVFCESIFQK--- Q9Q8L0_MYXVL/1-32\n",
        "-----MNLKMCSG--CSHNGIV---SEHGYEF-CIFCESIFQ-s-- Q8V3K7_SWPV1/1-32\n",
        "----a--QKRCEV--CGGSGLVLreKEKDYLR-CPECG-----g-- K7KBK5_SOYBN/73-102\n",
        "----v---KKCTS--CGGNTVFD--PTSGALK-CPFCGSVAE-i-- A0A0A8JMU3_BACSX/15-45\n",
        "---if----KCKN--CGGNVVYS--PERKKMF-CPFCES----ed- R6EDW4_9FIRM/2-30\n",
        "-----SKAWICEV--CNKELVYI--RKDAERV-CPDCGLSHPY--- D8LPD2_ECTSI/101-133\n",
        "-----MNLRMCGG--CRRNGLV---SDADYEF-CLFCETVFPM--- Q6TVP3_ORFSA/1-32\n",
        "----a--QRRCEV--CGGSGLVL--REKDYFK-CPECGMSY--gl- A0A067FGC3_CITSI/101-132\n",
        "---mk--ALVCEM--CGSNDIV---KKDGLFV-CQFCG-----vky R5BCV2_9CLOT/1-30\n",
        "----d-KIQLCSK--CRNNLIYY--EDFDAYF-CPNCNT----wte A0A0Q3SL51_9BACI/22-53\n",
        "-----MNLKLCSG--CSHNGIV---SENGYEF-CIFCDAVFQK--- Q6TUS6_YMTV5/1-32\n",
        "-----KSQNVCSVpdCDGEKILN--QNDGYMV-CKKCGFSEPI--- YR429_MIMIV/213-247\n",
        "---tq-----CAS--CGGNMEFS--PETGALQ-CPFCGSTQEI--- A0A135W9T5_9BACL/20-49\n",
        "----a--QRRCEV--CGGAGLVL--REKDYFK-CPECGMSY--gl- V4UT79_9ROSI/101-132\n",
        "----a--QKRCEV--CGGSGLVLreKEKDYLR-CPECG-----g-- I1M6J0_SOYBN/99-128\n",
        "---aa--QRKCKV--CKGSGLVL--RDDKYYFrCPACG-----gf- S8C162_9LAMI/39-69\n",
        "----v-KQRKCEV--CGGSGLVL--KNKFYKR-CPNCG-----g-- K4DCZ9_SOLLC/83-111\n",
        "-----DQIYTCT---CGGQMELWvnSTQSDLV-CNECGATQPY--- Y494R_PBCV1/148-181\n",
        "----v-KQRKCEV--CGGSGLVL--KNKFYKR-CPNCG-----g-- M1CX50_SOLTU/82-110\n",
        "-----SKEWICEV--CNKELVYI--RKDAERV-CPDCGLSHPY--- Q8QNH7_ESV1K/101-133\n",
        "------NEISCPV--CGGPVELW--KDQGITK-CPKCGFS---i-- A0A0S7Z9Q3_9SPIR/20-49\n",
        "----v-KQRKCEV--CGGSGLVL--KNKFYKR-CPNCG-----gf- M1CX49_SOLTU/24-53\n",
        "----s--YVKCHI--CKSDVEIW--TDEDSAI-CDNCGAE---wk- A0A0M0BYV1_9ARCH/24-54\n",
        "----m-TYVKCHI--CGGDVEIW--SDEDAGV-CLACGAE---w-- A0A0M0BQI3_9ARCH/1-31\n",
        "-----SDNIKCKY--CNSFNII---KNKDIYS-CCDCSNCYT-t-- Q9EMK1_AMEPV/2-33\n",
        "-----MNLRLCSG--CRHNGIV---SEQGYEY-CIFCESVFQK--- VLTF3_VAR67/1-32\n",
        "----r--LNICPK--CHSEMEV---NENGIEY-CNVCDYW---tvk D5E7I3_METMS/3-33\n",
        "-----MNLKLCSG--CCHNGIV---SEQGYEF-CIFCESIFQK--- Q08FQ1_DPV83/1-32\n",
        "-----MNLKLCSG--CYHNGIV---SENGYEF-CVFCESIFQK--- Q9Q8Y8_RFVKA/1-32\n",
        "-----MNLRLCSG--CRHNGIV---SEQGYEY-CIFCESVFQK--- VLTF3_VACCW/1-32\n",
        "----l-KYKECKY--CHTDMVFN--TTQFGLQ-CPNCGCIQE-l-- VF385_ASFB7/145-177\n"
       ]
      }
     ],
     "prompt_number": 27
    },
    {
     "cell_type": "code",
     "collapsed": false,
     "input": [
      "#Nbr of gaps of the alignments\n",
      "#Method 1 to count the gaps\n",
      "for i, rec in enumerate(pf08792[0]):\n",
      "    gaps = 0\n",
      "    for letter in rec.seq:\n",
      "        if letter == \"-\":\n",
      "            gaps += 1\n",
      "    print('{}    {:30s}   Nbr de gaps : {}'.format(rec.seq, rec.id, gaps))"
     ],
     "language": "python",
     "metadata": {},
     "outputs": [
      {
       "output_type": "stream",
       "stream": "stdout",
       "text": [
        "-----SIPVVCT---CGNDKDFY--KDDDIYI-CQLCNAETV-k--    VF282_IIV6/150-181               Nbr de gaps : 14\n",
        "----n-SLKCCNS--CKHNGLV---TEYDYEF-CVFCESIFTI---    Q070C9_CPRVZ/2-33                Nbr de gaps : 14\n",
        "-----SNLKHCSN--CKHNGLI---TESNHEF-CIFCQSIFQL---    VLTF3_FOWPN/2-33                 Nbr de gaps : 14\n",
        "--nar---IKCIA--CNAPVVR---TTDDRYV-CVDCG-----esp    D8J5N4_HALJB/10-39               Nbr de gaps : 16\n",
        "----n-ALRHCHG--CKHNGLV---LEQGYEF-CIFCQAVFQH---    Q98271_MCV1/5-36                 Nbr de gaps : 14\n",
        "---ak---IKCIK--CNSPVVL---TVDDEYI-CVNCG-----e--    Q5V3A3_HALMA/11-37               Nbr de gaps : 19\n",
        "--dav----RCRK--CSGAMIY---TKREIYQ-CERCGATY--l--    R5VUP8_9CLOT/17-46               Nbr de gaps : 16\n",
        "----a--QKRCEV--CGGSGLVLreKEKDYLR-CPECGMI---af-    A0A0B2SHZ4_GLYSO/76-108          Nbr de gaps : 13\n",
        "-----NDDSKCIK--CGGPVLMQ--AARSLLN-CQECGYSAA-v--    Q4A276_EHV8U/148-180             Nbr de gaps : 13\n",
        "----a--QKRCEV--CGGSGLVLreKEKDYLR-CPECGMI---af-    A0A0B2QR54_GLYSO/99-131          Nbr de gaps : 13\n",
        "-----MNLKLCSG--CSHNGIV---SENGYEF-CVFCESIFQK---    Q9Q8L0_MYXVL/1-32                Nbr de gaps : 14\n",
        "-----MNLKMCSG--CSHNGIV---SEHGYEF-CIFCESIFQ-s--    Q8V3K7_SWPV1/1-32                Nbr de gaps : 14\n",
        "----a--QKRCEV--CGGSGLVLreKEKDYLR-CPECG-----g--    K7KBK5_SOYBN/73-102              Nbr de gaps : 16\n",
        "----v---KKCTS--CGGNTVFD--PTSGALK-CPFCGSVAE-i--    A0A0A8JMU3_BACSX/15-45           Nbr de gaps : 15\n",
        "---if----KCKN--CGGNVVYS--PERKKMF-CPFCES----ed-    R6EDW4_9FIRM/2-30                Nbr de gaps : 17\n",
        "-----SKAWICEV--CNKELVYI--RKDAERV-CPDCGLSHPY---    D8LPD2_ECTSI/101-133             Nbr de gaps : 13\n",
        "-----MNLRMCGG--CRRNGLV---SDADYEF-CLFCETVFPM---    Q6TVP3_ORFSA/1-32                Nbr de gaps : 14\n",
        "----a--QRRCEV--CGGSGLVL--REKDYFK-CPECGMSY--gl-    A0A067FGC3_CITSI/101-132         Nbr de gaps : 14\n",
        "---mk--ALVCEM--CGSNDIV---KKDGLFV-CQFCG-----vky    R5BCV2_9CLOT/1-30                Nbr de gaps : 16\n",
        "----d-KIQLCSK--CRNNLIYY--EDFDAYF-CPNCNT----wte    A0A0Q3SL51_9BACI/22-53           Nbr de gaps : 14\n",
        "-----MNLKLCSG--CSHNGIV---SENGYEF-CIFCDAVFQK---    Q6TUS6_YMTV5/1-32                Nbr de gaps : 14\n",
        "-----KSQNVCSVpdCDGEKILN--QNDGYMV-CKKCGFSEPI---    YR429_MIMIV/213-247              Nbr de gaps : 11\n",
        "---tq-----CAS--CGGNMEFS--PETGALQ-CPFCGSTQEI---    A0A135W9T5_9BACL/20-49           Nbr de gaps : 16\n",
        "----a--QRRCEV--CGGAGLVL--REKDYFK-CPECGMSY--gl-    V4UT79_9ROSI/101-132             Nbr de gaps : 14\n",
        "----a--QKRCEV--CGGSGLVLreKEKDYLR-CPECG-----g--    I1M6J0_SOYBN/99-128              Nbr de gaps : 16\n",
        "---aa--QRKCKV--CKGSGLVL--RDDKYYFrCPACG-----gf-    S8C162_9LAMI/39-69               Nbr de gaps : 15\n",
        "----v-KQRKCEV--CGGSGLVL--KNKFYKR-CPNCG-----g--    K4DCZ9_SOLLC/83-111              Nbr de gaps : 17\n",
        "-----DQIYTCT---CGGQMELWvnSTQSDLV-CNECGATQPY---    Y494R_PBCV1/148-181              Nbr de gaps : 12\n",
        "----v-KQRKCEV--CGGSGLVL--KNKFYKR-CPNCG-----g--    M1CX50_SOLTU/82-110              Nbr de gaps : 17\n",
        "-----SKEWICEV--CNKELVYI--RKDAERV-CPDCGLSHPY---    Q8QNH7_ESV1K/101-133             Nbr de gaps : 13\n",
        "------NEISCPV--CGGPVELW--KDQGITK-CPKCGFS---i--    A0A0S7Z9Q3_9SPIR/20-49           Nbr de gaps : 16\n",
        "----v-KQRKCEV--CGGSGLVL--KNKFYKR-CPNCG-----gf-    M1CX49_SOLTU/24-53               Nbr de gaps : 16\n",
        "----s--YVKCHI--CKSDVEIW--TDEDSAI-CDNCGAE---wk-    A0A0M0BYV1_9ARCH/24-54           Nbr de gaps : 15\n",
        "----m-TYVKCHI--CGGDVEIW--SDEDAGV-CLACGAE---w--    A0A0M0BQI3_9ARCH/1-31            Nbr de gaps : 15\n",
        "-----SDNIKCKY--CNSFNII---KNKDIYS-CCDCSNCYT-t--    Q9EMK1_AMEPV/2-33                Nbr de gaps : 14\n",
        "-----MNLRLCSG--CRHNGIV---SEQGYEY-CIFCESVFQK---    VLTF3_VAR67/1-32                 Nbr de gaps : 14\n",
        "----r--LNICPK--CHSEMEV---NENGIEY-CNVCDYW---tvk    D5E7I3_METMS/3-33                Nbr de gaps : 15\n",
        "-----MNLKLCSG--CCHNGIV---SEQGYEF-CIFCESIFQK---    Q08FQ1_DPV83/1-32                Nbr de gaps : 14\n",
        "-----MNLKLCSG--CYHNGIV---SENGYEF-CVFCESIFQK---    Q9Q8Y8_RFVKA/1-32                Nbr de gaps : 14\n",
        "-----MNLRLCSG--CRHNGIV---SEQGYEY-CIFCESVFQK---    VLTF3_VACCW/1-32                 Nbr de gaps : 14\n",
        "----l-KYKECKY--CHTDMVFN--TTQFGLQ-CPNCGCIQE-l--    VF385_ASFB7/145-177              Nbr de gaps : 13\n"
       ]
      }
     ],
     "prompt_number": 28
    },
    {
     "cell_type": "code",
     "collapsed": false,
     "input": [
      "#Write the alignments that have fewer than 14 gaps in a .phy file\n",
      "#Method 2 to count the gaps\n",
      "align_under14 = []\n",
      "for rec in pf08792[0]:\n",
      "    gaps = rec.seq.count(\"-\")\n",
      "    if gaps <= 14:\n",
      "        align_under14.append(rec)\n",
      "\n",
      "SeqIO.write(align_under14, \"biopythonFiles/PF08792_under14gaps.phy\", \"phylip\")"
     ],
     "language": "python",
     "metadata": {},
     "outputs": [
      {
       "metadata": {},
       "output_type": "pyout",
       "prompt_number": 29,
       "text": [
        "24"
       ]
      }
     ],
     "prompt_number": 29
    },
    {
     "cell_type": "code",
     "collapsed": false,
     "input": [
      "%%bash\n",
      "cat biopythonFiles/PF08792_under14gaps.phy"
     ],
     "language": "python",
     "metadata": {},
     "outputs": [
      {
       "output_type": "stream",
       "stream": "stdout",
       "text": [
        " 24 46\n",
        "VF282_IIV6 -----SIPVV CT---CGNDK DFY--KDDDI YI-CQLCNAE TV-k--\n",
        "Q070C9_CPR ----n-SLKC CNS--CKHNG LV---TEYDY EF-CVFCESI FTI---\n",
        "VLTF3_FOWP -----SNLKH CSN--CKHNG LI---TESNH EF-CIFCQSI FQL---\n",
        "Q98271_MCV ----n-ALRH CHG--CKHNG LV---LEQGY EF-CIFCQAV FQH---\n",
        "A0A0B2SHZ4 ----a--QKR CEV--CGGSG LVLreKEKDY LR-CPECGMI ---af-\n",
        "Q4A276_EHV -----NDDSK CIK--CGGPV LMQ--AARSL LN-CQECGYS AA-v--\n",
        "A0A0B2QR54 ----a--QKR CEV--CGGSG LVLreKEKDY LR-CPECGMI ---af-\n",
        "Q9Q8L0_MYX -----MNLKL CSG--CSHNG IV---SENGY EF-CVFCESI FQK---\n",
        "Q8V3K7_SWP -----MNLKM CSG--CSHNG IV---SEHGY EF-CIFCESI FQ-s--\n",
        "D8LPD2_ECT -----SKAWI CEV--CNKEL VYI--RKDAE RV-CPDCGLS HPY---\n",
        "Q6TVP3_ORF -----MNLRM CGG--CRRNG LV---SDADY EF-CLFCETV FPM---\n",
        "A0A067FGC3 ----a--QRR CEV--CGGSG LVL--REKDY FK-CPECGMS Y--gl-\n",
        "A0A0Q3SL51 ----d-KIQL CSK--CRNNL IYY--EDFDA YF-CPNCNT- ---wte\n",
        "Q6TUS6_YMT -----MNLKL CSG--CSHNG IV---SENGY EF-CIFCDAV FQK---\n",
        "YR429_MIMI -----KSQNV CSVpdCDGEK ILN--QNDGY MV-CKKCGFS EPI---\n",
        "V4UT79_9RO ----a--QRR CEV--CGGAG LVL--REKDY FK-CPECGMS Y--gl-\n",
        "Y494R_PBCV -----DQIYT CT---CGGQM ELWvnSTQSD LV-CNECGAT QPY---\n",
        "Q8QNH7_ESV -----SKEWI CEV--CNKEL VYI--RKDAE RV-CPDCGLS HPY---\n",
        "Q9EMK1_AME -----SDNIK CKY--CNSFN II---KNKDI YS-CCDCSNC YT-t--\n",
        "VLTF3_VAR6 -----MNLRL CSG--CRHNG IV---SEQGY EY-CIFCESV FQK---\n",
        "Q08FQ1_DPV -----MNLKL CSG--CCHNG IV---SEQGY EF-CIFCESI FQK---\n",
        "Q9Q8Y8_RFV -----MNLKL CSG--CYHNG IV---SENGY EF-CVFCESI FQK---\n",
        "VLTF3_VACC -----MNLRL CSG--CRHNG IV---SEQGY EY-CIFCESV FQK---\n",
        "VF385_ASFB ----l-KYKE CKY--CHTDM VFN--TTQFG LQ-CPNCGCI QE-l--\n"
       ]
      }
     ],
     "prompt_number": 30
    },
    {
     "cell_type": "heading",
     "level": 1,
     "metadata": {},
     "source": [
      "Cours 5 : Blast on NCBI"
     ]
    },
    {
     "cell_type": "code",
     "collapsed": true,
     "input": [
      "#Pas complet, et pas hyper important.\n",
      "from Bio.Blast import NBCIWWW\n",
      "#1\n",
      "result_handle = NCBIWWW.qblast(\"blastn\", \"nt\", \"8332116\")\n",
      "#2\n",
      "fasta_string = open(\"opuntia.fasta\").read()\n",
      "result_handle = NCBIWWW.qblast(\"blastn\", \"nt\", fasta_string)"
     ],
     "language": "python",
     "metadata": {},
     "outputs": [
      {
       "ename": "ImportError",
       "evalue": "cannot import name 'NBCIWWW'",
       "output_type": "pyerr",
       "traceback": [
        "\u001b[0;31m---------------------------------------------------------------------------\u001b[0m\n\u001b[0;31mImportError\u001b[0m                               Traceback (most recent call last)",
        "\u001b[0;32m<ipython-input-31-e72d63c920c8>\u001b[0m in \u001b[0;36m<module>\u001b[0;34m()\u001b[0m\n\u001b[1;32m      1\u001b[0m \u001b[0;31m#Pas complet, et pas hyper important.\u001b[0m\u001b[0;34m\u001b[0m\u001b[0;34m\u001b[0m\u001b[0m\n\u001b[0;32m----> 2\u001b[0;31m \u001b[0;32mfrom\u001b[0m \u001b[0mBio\u001b[0m\u001b[0;34m.\u001b[0m\u001b[0mBlast\u001b[0m \u001b[0;32mimport\u001b[0m \u001b[0mNBCIWWW\u001b[0m\u001b[0;34m\u001b[0m\u001b[0m\n\u001b[0m\u001b[1;32m      3\u001b[0m \u001b[0;31m#1\u001b[0m\u001b[0;34m\u001b[0m\u001b[0;34m\u001b[0m\u001b[0m\n\u001b[1;32m      4\u001b[0m \u001b[0mresult_handle\u001b[0m \u001b[0;34m=\u001b[0m \u001b[0mNCBIWWW\u001b[0m\u001b[0;34m.\u001b[0m\u001b[0mqblast\u001b[0m\u001b[0;34m(\u001b[0m\u001b[0;34m\"blastn\"\u001b[0m\u001b[0;34m,\u001b[0m \u001b[0;34m\"nt\"\u001b[0m\u001b[0;34m,\u001b[0m \u001b[0;34m\"8332116\"\u001b[0m\u001b[0;34m)\u001b[0m\u001b[0;34m\u001b[0m\u001b[0m\n\u001b[1;32m      5\u001b[0m \u001b[0;31m#2\u001b[0m\u001b[0;34m\u001b[0m\u001b[0;34m\u001b[0m\u001b[0m\n",
        "\u001b[0;31mImportError\u001b[0m: cannot import name 'NBCIWWW'"
       ]
      }
     ],
     "prompt_number": 31
    },
    {
     "cell_type": "code",
     "collapsed": true,
     "input": [
      "#First : Blastp on the NCBI website, with the query \"NP_056120\"\n",
      "#Second: Download the result in XML\n",
      "#Third : Print the alignments\n",
      "from Bio.Blast import NCBIXML\n",
      "blast_record = NCBIXML.read(open(\"ZGSHTZTP014-Alignment.xml\"))\n",
      "\n",
      "for alignment in blast_record.alignments:\n",
      "    for hsp in alignment.hsps:\n",
      "        if hsp.expect <= 0.01:\n",
      "            print('Sequence: ', alignment.title)\n",
      "            print('Length: {}, e-value {:f}'.format(alignment.length, hsp.expect))\n",
      "            print(hsp.query[0:75] + '...')\n",
      "            print(hsp.match[0:75] + '...')\n",
      "            print(hsp.sbjct[0:75] + '...' + '\\n')\n",
      "            "
     ],
     "language": "python",
     "metadata": {},
     "outputs": [
      {
       "output_type": "stream",
       "stream": "stdout",
       "text": [
        "Sequence:  gi|11359908|pir||T46340 hypothetical protein DKFZp434B0814.1 - human (fragment)\n",
        "Length: 673, e-value 0.000000\n",
        "MIASCLCYLLLPATRLFRALSDAFFTCRKNVLLANSSSPQVEGDFAMAPRGPEQEECEGLLQQWREEGLSQVLST...\n",
        "MIASCLCYLLLPATRLFRALSDAFFTCRKNVLLANSSSPQVEGDFAMAPRGPEQEECEGLLQQWREEGLSQVLST...\n",
        "MIASCLCYLLLPATRLFRALSDAFFTCRKNVLLANSSSPQVEGDFAMAPRGPEQEECEGLLQQWREEGLSQVLST...\n",
        "\n",
        "Sequence:  gi|224282153|ref|NP_056120.2| protein angel homolog 1 precursor [Homo sapiens] >gi|17369713|sp|Q9UNK9.1|ANGE1_HUMAN RecName: Full=Protein angel homolog 1 >gi|5524739|gb|AAD44362.1|AF111169_2 KIAA0759 [Homo sapiens] >gi|52545611|emb|CAB70667.2| hypothetical protein [Homo sapiens] >gi|119601668|gb|EAW81262.1| angel homolog 1 (Drosophila), isoform CRA_b [Homo sapiens] >gi|119601669|gb|EAW81263.1| angel homolog 1 (Drosophila), isoform CRA_b [Homo sapiens] >gi|168267560|dbj|BAG09836.1| angel homolog 1, partial [synthetic construct] >gi|929654115|dbj|BAA34479.2| KIAA0759 protein [Homo sapiens]\n",
        "Length: 670, e-value 0.000000\n",
        "MIASCLCYLLLPATRLFRALSDAFFTCRKNVLLANSSSPQVEGDFAMAPRGPEQEECEGLLQQWREEGLSQVLST...\n",
        "MIASCLCYLLLPATRLFRALSDAFFTCRKNVLLANSSSPQVEGDFAMAPRGPEQEECEGLLQQWREEGLSQVLST...\n",
        "MIASCLCYLLLPATRLFRALSDAFFTCRKNVLLANSSSPQVEGDFAMAPRGPEQEECEGLLQQWREEGLSQVLST...\n",
        "\n",
        "Sequence:  gi|20379588|gb|AAH28714.1| Angel homolog 1 (Drosophila) [Homo sapiens] >gi|649124147|gb|AIC56038.1| ANGEL1, partial [synthetic construct] >gi|1147704412|emb|SJX47192.1| unnamed protein product, partial [Human ORFeome Gateway entry vector]\n",
        "Length: 670, e-value 0.000000\n",
        "MIASCLCYLLLPATRLFRALSDAFFTCRKNVLLANSSSPQVEGDFAMAPRGPEQEECEGLLQQWREEGLSQVLST...\n",
        "MIASCLCYLLLPATRLFRALSDAFFTCRKNVLLANSSSPQVEGDFAMAPRGPEQEECEGLLQQWREEGLSQVLST...\n",
        "MIASCLCYLLLPATRLFRALSDAFFTCRKNVLLANSSSPQVEGDFAMAPRGPEQEECEGLLQQWREEGLSQVLST...\n",
        "\n",
        "Sequence:  gi|694957108|ref|XP_009426461.1| PREDICTED: protein angel homolog 1 isoform X3 [Pan troglodytes]\n",
        "Length: 670, e-value 0.000000\n",
        "MIASCLCYLLLPATRLFRALSDAFFTCRKNVLLANSSSPQVEGDFAMAPRGPEQEECEGLLQQWREEGLSQVLST...\n",
        "MIASCLCYLLLPATRLFRALSDAFFTCRKNVLLANSSSPQVEGDFAMAPRGP+QEECEGLLQQWREEGLSQVLST...\n",
        "MIASCLCYLLLPATRLFRALSDAFFTCRKNVLLANSSSPQVEGDFAMAPRGPDQEECEGLLQQWREEGLSQVLST...\n",
        "\n",
        "Sequence:  gi|119601667|gb|EAW81261.1| angel homolog 1 (Drosophila), isoform CRA_a [Homo sapiens]\n",
        "Length: 665, e-value 0.000000\n",
        "MIASCLCYLLLPATRLFRALSDAFFTCRKNVLLANSSSPQVEGDFAMAPRGPEQEECEGLLQQWREEGLSQVLST...\n",
        "MIASCLCYLLLPATRLFRALSDAFFTCRKNVLLANSSSPQVEGDFAMAPRGPEQEECEGLLQQWREEGLSQVLST...\n",
        "MIASCLCYLLLPATRLFRALSDAFFTCRKNVLLANSSSPQVEGDFAMAPRGPEQEECEGLLQQWREEGLSQVLST...\n",
        "\n",
        "Sequence:  gi|297695583|ref|XP_002825011.1| PREDICTED: protein angel homolog 1 [Pongo abelii]\n",
        "Length: 670, e-value 0.000000\n",
        "MIASCLCYLLLPATRLFRALSDAFFTCRKNVLLANSSSPQVEGDFAMAPRGPEQEECEGLLQQWREEGLSQVLST...\n",
        "MIASCLCYLLLPATRLFRALSDAFFTCRKNVLLA SSSPQVEGDFAMAPRGP+QEECEGLLQQWREEG SQVLST...\n",
        "MIASCLCYLLLPATRLFRALSDAFFTCRKNVLLAKSSSPQVEGDFAMAPRGPDQEECEGLLQQWREEGSSQVLST...\n",
        "\n",
        "Sequence:  gi|821031240|ref|XP_012353655.1| PREDICTED: protein angel homolog 1 isoform X2 [Nomascus leucogenys]\n",
        "Length: 667, e-value 0.000000\n",
        "MIASCLCYLLLPATRLFRALSDAFFTCRKNVLLANSSSPQVEGDFAMAPRGPEQEECEGLLQQWREEGLSQVLST...\n",
        "MIASCLCYLLLPATRLFRALSDAFFTCRKNVLLA SSSPQVEGDFAMAPRGP+QEECEGLLQQWREEG SQVLST...\n",
        "MIASCLCYLLLPATRLFRALSDAFFTCRKNVLLAKSSSPQVEGDFAMAPRGPDQEECEGLLQQWREEGSSQVLST...\n",
        "\n",
        "Sequence:  gi|1034105600|ref|XP_016781958.1| PREDICTED: protein angel homolog 1 isoform X1 [Pan troglodytes]\n",
        "Length: 735, e-value 0.000000\n",
        "DAFFTCRKNVLLANSSSPQVEGDFAMAPRGPEQEECEGLLQQWREEGLSQVLSTASEGPLIDKGLAQSSLALLMD...\n",
        "DAFFTCRKNVLLANSSSPQVEGDFAMAPRGP+QEECEGLLQQWREEGLSQVLSTASEGPLIDKGLAQSSLALLMD...\n",
        "DAFFTCRKNVLLANSSSPQVEGDFAMAPRGPDQEECEGLLQQWREEGLSQVLSTASEGPLIDKGLAQSSLALLMD...\n",
        "\n",
        "Sequence:  gi|675699345|ref|XP_008959212.1| PREDICTED: protein angel homolog 1 isoform X1 [Pan paniscus] >gi|675699349|ref|XP_008959213.1| PREDICTED: protein angel homolog 1 isoform X1 [Pan paniscus] >gi|694957104|ref|XP_009426459.1| PREDICTED: protein angel homolog 1 isoform X2 [Pan troglodytes] >gi|694957106|ref|XP_009426460.1| PREDICTED: protein angel homolog 1 isoform X2 [Pan troglodytes]\n",
        "Length: 683, e-value 0.000000\n",
        "DAFFTCRKNVLLANSSSPQVEGDFAMAPRGPEQEECEGLLQQWREEGLSQVLSTASEGPLIDKGLAQSSLALLMD...\n",
        "DAFFTCRKNVLLANSSSPQVEGDFAMAPRGP+QEECEGLLQQWREEGLSQVLSTASEGPLIDKGLAQSSLALLMD...\n",
        "DAFFTCRKNVLLANSSSPQVEGDFAMAPRGPDQEECEGLLQQWREEGLSQVLSTASEGPLIDKGLAQSSLALLMD...\n",
        "\n",
        "Sequence:  gi|966956028|ref|XP_014999711.1| PREDICTED: protein angel homolog 1 isoform X3 [Macaca mulatta]\n",
        "Length: 667, e-value 0.000000\n",
        "MIASCLCYLLLPATRLFRALSDAFFTCRKNVLLANSSSPQVEGDFAMAPRGPEQEECEGLLQQWREEGLSQVLST...\n",
        "MIASCLCYLLLPATRLFRALSDAFFTCRKNVLLA SSS QVEGDFAMAPRGPEQEECEGLLQQWREEG SQVLST...\n",
        "MIASCLCYLLLPATRLFRALSDAFFTCRKNVLLAKSSSSQVEGDFAMAPRGPEQEECEGLLQQWREEGSSQVLST...\n",
        "\n",
        "Sequence:  gi|795176403|ref|XP_011843693.1| PREDICTED: protein angel homolog 1 [Mandrillus leucophaeus]\n",
        "Length: 667, e-value 0.000000\n",
        "MIASCLCYLLLPATRLFRALSDAFFTCRKNVLLANSSSPQVEGDFAMAPRGPEQEECEGLLQQWREEGLSQVLST...\n",
        "MIASCLCYLLLPATRLFRALSDAFFTCRKNVLLA SSS QVEGDFAMAPRGPEQEECEGLLQQWREEG SQVLST...\n",
        "MIASCLCYLLLPATRLFRALSDAFFTCRKNVLLAKSSSSQVEGDFAMAPRGPEQEECEGLLQQWREEGSSQVLST...\n",
        "\n",
        "Sequence:  gi|635128313|ref|XP_007985568.1| PREDICTED: protein angel homolog 1 isoform X3 [Chlorocebus sabaeus]\n",
        "Length: 667, e-value 0.000000\n",
        "MIASCLCYLLLPATRLFRALSDAFFTCRKNVLLANSSSPQVEGDFAMAPRGPEQEECEGLLQQWREEGLSQVLST...\n",
        "MIASCLCYLLLPATRLFRALSDAFFTCRKNVLLA SSS QVEGDFAMAPRGPEQEECEGLLQQWREEG SQVLST...\n",
        "MIASCLCYLLLPATRLFRALSDAFFTCRKNVLLAKSSSSQVEGDFAMAPRGPEQEECEGLLQQWREEGSSQVLST...\n",
        "\n",
        "Sequence:  gi|544448642|ref|XP_005561923.1| PREDICTED: protein angel homolog 1 isoform X4 [Macaca fascicularis]\n",
        "Length: 667, e-value 0.000000\n",
        "MIASCLCYLLLPATRLFRALSDAFFTCRKNVLLANSSSPQVEGDFAMAPRGPEQEECEGLLQQWREEGLSQVLST...\n",
        "MIASCLCYLLLPATR+FRALSDAFFTCRKNVLLA SSS QVEGDFAMAPRGPEQEECEGLLQQWREEG SQVLST...\n",
        "MIASCLCYLLLPATRVFRALSDAFFTCRKNVLLAKSSSSQVEGDFAMAPRGPEQEECEGLLQQWREEGSSQVLST...\n",
        "\n",
        "Sequence:  gi|795318854|ref|XP_011926341.1| PREDICTED: protein angel homolog 1 isoform X5 [Cercocebus atys]\n",
        "Length: 667, e-value 0.000000\n",
        "MIASCLCYLLLPATRLFRALSDAFFTCRKNVLLANSSSPQVEGDFAMAPRGPEQEECEGLLQQWREEGLSQVLST...\n",
        "MIASCLCYLLLPATRLFRALSDAFFTCRKNVLLA SSS QVEG+FAMAPRGPEQEECEGLLQQWREEG SQVLST...\n",
        "MIASCLCYLLLPATRLFRALSDAFFTCRKNVLLAKSSSSQVEGNFAMAPRGPEQEECEGLLQQWREEGSSQVLST...\n",
        "\n",
        "Sequence:  gi|795449557|ref|XP_011764034.1| PREDICTED: protein angel homolog 1 isoform X4 [Macaca nemestrina]\n",
        "Length: 667, e-value 0.000000\n",
        "MIASCLCYLLLPATRLFRALSDAFFTCRKNVLLANSSSPQVEGDFAMAPRGPEQEECEGLLQQWREEGLSQVLST...\n",
        "MIASCLCYLLLPATRLFRALSDAFFTCRKNVLLA SSS QVEG+FAMAPRGPEQEECEGLLQQWREEG SQVLST...\n",
        "MIASCLCYLLLPATRLFRALSDAFFTCRKNVLLAKSSSSQVEGNFAMAPRGPEQEECEGLLQQWREEGSSQVLST...\n",
        "\n",
        "Sequence:  gi|724919151|ref|XP_010380998.1| PREDICTED: protein angel homolog 1 isoform X1 [Rhinopithecus roxellana] >gi|1059159325|ref|XP_017736075.1| PREDICTED: protein angel homolog 1 isoform X3 [Rhinopithecus bieti]\n",
        "Length: 667, e-value 0.000000\n",
        "MIASCLCYLLLPATRLFRALSDAFFTCRKNVLLANSSSPQVEGDFAMAPRGPEQEECEGLLQQWREEGLSQVLST...\n",
        "MIASCLCYLLLPATRLFRALSDAFFTCRKNVLLA SSS QVEGDFAMAPRGPEQEECEGLLQQWREEG SQVLST...\n",
        "MIASCLCYLLLPATRLFRALSDAFFTCRKNVLLAKSSSSQVEGDFAMAPRGPEQEECEGLLQQWREEGSSQVLST...\n",
        "\n",
        "Sequence:  gi|1099142219|ref|XP_018865463.1| PREDICTED: protein angel homolog 1 isoform X1 [Gorilla gorilla gorilla] >gi|1099142223|ref|XP_018865464.1| PREDICTED: protein angel homolog 1 isoform X1 [Gorilla gorilla gorilla]\n",
        "Length: 683, e-value 0.000000\n",
        "DAFFTCRKNVLLANSSSPQVEGDFAMAPRGPEQEECEGLLQQWREEGLSQVLSTASEGPLIDKGLAQSSLALLMD...\n",
        "DAFFTCRKNVLLANSSSPQVEGDFAMAPRGP+QEECEGLLQQWREEG SQVLSTASEGPLIDKGLAQSSLALLMD...\n",
        "DAFFTCRKNVLLANSSSPQVEGDFAMAPRGPDQEECEGLLQQWREEGSSQVLSTASEGPLIDKGLAQSSLALLMD...\n",
        "\n",
        "Sequence:  gi|795207967|ref|XP_011804907.1| PREDICTED: protein angel homolog 1 [Colobus angolensis palliatus]\n",
        "Length: 666, e-value 0.000000\n",
        "MIASCLCYLLLPATRLFRALSDAFFTCRKNVLLANSSSPQVEGDFAMAPRGPEQEECEGLLQQWREEGLSQVLST...\n",
        "MIASCLCYLLLPATRLFRALSDAFFTCRKNVLLA SSS QVEGDFAMAPRGPEQEECEGLLQQWREEG SQVLST...\n",
        "MIASCLCYLLLPATRLFRALSDAFFTCRKNVLLAKSSSSQVEGDFAMAPRGPEQEECEGLLQQWREEGSSQVLST...\n",
        "\n",
        "Sequence:  gi|685555187|ref|XP_009210274.1| protein angel homolog 1 isoform X3 [Papio anubis]\n",
        "Length: 667, e-value 0.000000\n",
        "MIASCLCYLLLPATRLFRALSDAFFTCRKNVLLANSSSPQVEGDFAMAPRGPEQEECEGLLQQWREEGLSQVLST...\n",
        "MIASCLCYLLLPATRLFRALSDAFFTCRKNVLLA SSS QVEGDFAMAPRGPEQEECEGLLQQWREEG SQVLST...\n",
        "MIASCLCYLLLPATRLFRALSDAFFTCRKNVLLAKSSSSQVEGDFAMAPRGPEQEECEGLLQQWREEGSSQVLST...\n",
        "\n",
        "Sequence:  gi|544448632|ref|XP_005561918.1| PREDICTED: protein angel homolog 1 isoform X1 [Macaca fascicularis]\n",
        "Length: 756, e-value 0.000000\n",
        "DAFFTCRKNVLLANSSSPQVEGDFAMAPRGPEQEECEGLLQQWREEGLSQVLSTASEGPLIDKGLAQSSLALLMD...\n",
        "DAFFTCRKNVLLA SSS QVEGDFAMAPRGPEQEECEGLLQQWREEG SQVLSTASEGPL+DKGLAQSSLALLMD...\n",
        "DAFFTCRKNVLLAKSSSSQVEGDFAMAPRGPEQEECEGLLQQWREEGSSQVLSTASEGPLVDKGLAQSSLALLMD...\n",
        "\n",
        "Sequence:  gi|966956014|ref|XP_014999704.1| PREDICTED: protein angel homolog 1 isoform X1 [Macaca mulatta] >gi|982261894|ref|XP_015309512.1| PREDICTED: protein angel homolog 1 isoform X2 [Macaca fascicularis]\n",
        "Length: 693, e-value 0.000000\n",
        "DAFFTCRKNVLLANSSSPQVEGDFAMAPRGPEQEECEGLLQQWREEGLSQVLSTASEGPLIDKGLAQSSLALLMD...\n",
        "DAFFTCRKNVLLA SSS QVEGDFAMAPRGPEQEECEGLLQQWREEG SQVLSTASEGPL+DKGLAQSSLALLMD...\n",
        "DAFFTCRKNVLLAKSSSSQVEGDFAMAPRGPEQEECEGLLQQWREEGSSQVLSTASEGPLVDKGLAQSSLALLMD...\n",
        "\n",
        "Sequence:  gi|795318807|ref|XP_011926335.1| PREDICTED: protein angel homolog 1 isoform X1 [Cercocebus atys] >gi|795318815|ref|XP_011926336.1| PREDICTED: protein angel homolog 1 isoform X1 [Cercocebus atys] >gi|795318823|ref|XP_011926337.1| PREDICTED: protein angel homolog 1 isoform X1 [Cercocebus atys]\n",
        "Length: 756, e-value 0.000000\n",
        "DAFFTCRKNVLLANSSSPQVEGDFAMAPRGPEQEECEGLLQQWREEGLSQVLSTASEGPLIDKGLAQSSLALLMD...\n",
        "DAFFTCRKNVLLA SSS QVEG+FAMAPRGPEQEECEGLLQQWREEG SQVLSTASEGPL+DKGLAQSSLALLMD...\n",
        "DAFFTCRKNVLLAKSSSSQVEGNFAMAPRGPEQEECEGLLQQWREEGSSQVLSTASEGPLVDKGLAQSSLALLMD...\n",
        "\n",
        "Sequence:  gi|795449537|ref|XP_011764029.1| PREDICTED: protein angel homolog 1 isoform X1 [Macaca nemestrina]\n",
        "Length: 756, e-value 0.000000\n",
        "DAFFTCRKNVLLANSSSPQVEGDFAMAPRGPEQEECEGLLQQWREEGLSQVLSTASEGPLIDKGLAQSSLALLMD...\n",
        "DAFFTCRKNVLLA SSS QVEG+FAMAPRGPEQEECEGLLQQWREEG SQVLSTASEGPL+DKGLAQSSLALLMD...\n",
        "DAFFTCRKNVLLAKSSSSQVEGNFAMAPRGPEQEECEGLLQQWREEGSSQVLSTASEGPLVDKGLAQSSLALLMD...\n",
        "\n",
        "Sequence:  gi|1059159319|ref|XP_017736072.1| PREDICTED: protein angel homolog 1 isoform X1 [Rhinopithecus bieti]\n",
        "Length: 693, e-value 0.000000\n",
        "DAFFTCRKNVLLANSSSPQVEGDFAMAPRGPEQEECEGLLQQWREEGLSQVLSTASEGPLIDKGLAQSSLALLMD...\n",
        "DAFFTCRKNVLLA SSS QVEGDFAMAPRGPEQEECEGLLQQWREEG SQVLSTASEGPL+DKGLAQSSLALLMD...\n",
        "DAFFTCRKNVLLAKSSSSQVEGDFAMAPRGPEQEECEGLLQQWREEGSSQVLSTASEGPLVDKGLAQSSLALLMD...\n",
        "\n",
        "Sequence:  gi|795318838|ref|XP_011926339.1| PREDICTED: protein angel homolog 1 isoform X3 [Cercocebus atys]\n",
        "Length: 693, e-value 0.000000\n",
        "DAFFTCRKNVLLANSSSPQVEGDFAMAPRGPEQEECEGLLQQWREEGLSQVLSTASEGPLIDKGLAQSSLALLMD...\n",
        "DAFFTCRKNVLLA SSS QVEG+FAMAPRGPEQEECEGLLQQWREEG SQVLSTASEGPL+DKGLAQSSLALLMD...\n",
        "DAFFTCRKNVLLAKSSSSQVEGNFAMAPRGPEQEECEGLLQQWREEGSSQVLSTASEGPLVDKGLAQSSLALLMD...\n",
        "\n",
        "Sequence:  gi|635128305|ref|XP_007985563.1| PREDICTED: protein angel homolog 1 isoform X1 [Chlorocebus sabaeus] >gi|635128307|ref|XP_007985565.1| PREDICTED: protein angel homolog 1 isoform X1 [Chlorocebus sabaeus]\n",
        "Length: 680, e-value 0.000000\n",
        "DAFFTCRKNVLLANSSSPQVEGDFAMAPRGPEQEECEGLLQQWREEGLSQVLSTASEGPLIDKGLAQSSLALLMD...\n",
        "DAFFTCRKNVLLA SSS QVEGDFAMAPRGPEQEECEGLLQQWREEG SQVLSTASEGPL+DKGLAQSSLALLMD...\n",
        "DAFFTCRKNVLLAKSSSSQVEGDFAMAPRGPEQEECEGLLQQWREEGSSQVLSTASEGPLVDKGLAQSSLALLMD...\n",
        "\n",
        "Sequence:  gi|544448634|ref|XP_005561919.1| PREDICTED: protein angel homolog 1 isoform X3 [Macaca fascicularis] >gi|544448636|ref|XP_005561920.1| PREDICTED: protein angel homolog 1 isoform X3 [Macaca fascicularis] >gi|544448638|ref|XP_005561921.1| PREDICTED: protein angel homolog 1 isoform X3 [Macaca fascicularis] >gi|544448640|ref|XP_005561922.1| PREDICTED: protein angel homolog 1 isoform X3 [Macaca fascicularis] >gi|966956016|ref|XP_014999705.1| PREDICTED: protein angel homolog 1 isoform X2 [Macaca mulatta] >gi|966956018|ref|XP_014999706.1| PREDICTED: protein angel homolog 1 isoform X2 [Macaca mulatta] >gi|966956020|ref|XP_014999707.1| PREDICTED: protein angel homolog 1 isoform X2 [Macaca mulatta] >gi|966956022|ref|XP_014999708.1| PREDICTED: protein angel homolog 1 isoform X2 [Macaca mulatta] >gi|966956024|ref|XP_014999709.1| PREDICTED: protein angel homolog 1 isoform X2 [Macaca mulatta] >gi|966956026|ref|XP_014999710.1| PREDICTED: protein angel homolog 1 isoform X2 [Macaca mulatta]\n",
        "Length: 680, e-value 0.000000\n",
        "DAFFTCRKNVLLANSSSPQVEGDFAMAPRGPEQEECEGLLQQWREEGLSQVLSTASEGPLIDKGLAQSSLALLMD...\n",
        "DAFFTCRKNVLLA SSS QVEGDFAMAPRGPEQEECEGLLQQWREEG SQVLSTASEGPL+DKGLAQSSLALLMD...\n",
        "DAFFTCRKNVLLAKSSSSQVEGDFAMAPRGPEQEECEGLLQQWREEGSSQVLSTASEGPLVDKGLAQSSLALLMD...\n",
        "\n",
        "Sequence:  gi|795449541|ref|XP_011764031.1| PREDICTED: protein angel homolog 1 isoform X2 [Macaca nemestrina]\n",
        "Length: 693, e-value 0.000000\n",
        "DAFFTCRKNVLLANSSSPQVEGDFAMAPRGPEQEECEGLLQQWREEGLSQVLSTASEGPLIDKGLAQSSLALLMD...\n",
        "DAFFTCRKNVLLA SSS QVEG+FAMAPRGPEQEECEGLLQQWREEG SQVLSTASEGPL+DKGLAQSSLALLMD...\n",
        "DAFFTCRKNVLLAKSSSSQVEGNFAMAPRGPEQEECEGLLQQWREEGSSQVLSTASEGPLVDKGLAQSSLALLMD...\n",
        "\n",
        "Sequence:  gi|1059159321|ref|XP_017736073.1| PREDICTED: protein angel homolog 1 isoform X2 [Rhinopithecus bieti] >gi|1059159323|ref|XP_017736074.1| PREDICTED: protein angel homolog 1 isoform X2 [Rhinopithecus bieti]\n",
        "Length: 680, e-value 0.000000\n",
        "DAFFTCRKNVLLANSSSPQVEGDFAMAPRGPEQEECEGLLQQWREEGLSQVLSTASEGPLIDKGLAQSSLALLMD...\n",
        "DAFFTCRKNVLLA SSS QVEGDFAMAPRGPEQEECEGLLQQWREEG SQVLSTASEGPL+DKGLAQSSLALLMD...\n",
        "DAFFTCRKNVLLAKSSSSQVEGDFAMAPRGPEQEECEGLLQQWREEGSSQVLSTASEGPLVDKGLAQSSLALLMD...\n",
        "\n",
        "Sequence:  gi|795318846|ref|XP_011926340.1| PREDICTED: protein angel homolog 1 isoform X4 [Cercocebus atys]\n",
        "Length: 680, e-value 0.000000\n",
        "DAFFTCRKNVLLANSSSPQVEGDFAMAPRGPEQEECEGLLQQWREEGLSQVLSTASEGPLIDKGLAQSSLALLMD...\n",
        "DAFFTCRKNVLLA SSS QVEG+FAMAPRGPEQEECEGLLQQWREEG SQVLSTASEGPL+DKGLAQSSLALLMD...\n",
        "DAFFTCRKNVLLAKSSSSQVEGNFAMAPRGPEQEECEGLLQQWREEGSSQVLSTASEGPLVDKGLAQSSLALLMD...\n",
        "\n",
        "Sequence:  gi|795449546|ref|XP_011764032.1| PREDICTED: protein angel homolog 1 isoform X3 [Macaca nemestrina] >gi|795449551|ref|XP_011764033.1| PREDICTED: protein angel homolog 1 isoform X3 [Macaca nemestrina]\n",
        "Length: 680, e-value 0.000000\n",
        "DAFFTCRKNVLLANSSSPQVEGDFAMAPRGPEQEECEGLLQQWREEGLSQVLSTASEGPLIDKGLAQSSLALLMD...\n",
        "DAFFTCRKNVLLA SSS QVEG+FAMAPRGPEQEECEGLLQQWREEG SQVLSTASEGPL+DKGLAQSSLALLMD...\n",
        "DAFFTCRKNVLLAKSSSSQVEGNFAMAPRGPEQEECEGLLQQWREEGSSQVLSTASEGPLVDKGLAQSSLALLMD...\n",
        "\n",
        "Sequence:  gi|724919154|ref|XP_010380999.1| PREDICTED: protein angel homolog 1 isoform X2 [Rhinopithecus roxellana]\n",
        "Length: 649, e-value 0.000000\n",
        "AFFTCRKNVLLANSSSPQVEGDFAMAPRGPEQEECEGLLQQWREEGLSQVLSTASEGPLIDKGLAQSSLALLMDN...\n",
        "AFFTCRKNVLLA SSS QVEGDFAMAPRGPEQEECEGLLQQWREEG SQVLSTASEGPL+DKGLAQSSLALLMDN...\n",
        "AFFTCRKNVLLAKSSSSQVEGDFAMAPRGPEQEECEGLLQQWREEGSSQVLSTASEGPLVDKGLAQSSLALLMDN...\n",
        "\n",
        "Sequence:  gi|685555183|ref|XP_009210272.1| protein angel homolog 1 isoform X1 [Papio anubis] >gi|1220227789|ref|XP_021797112.1| protein angel homolog 1 isoform X1 [Papio anubis]\n",
        "Length: 693, e-value 0.000000\n",
        "ATRLFRALSDAFFTCRKNVLLANSSSPQVEGDFAMAPRGPEQEECEGLLQQWREEGLSQVLSTASEGPLIDKGLA...\n",
        " TR  + L DAFFTCRKNVLLA SSS QVEGDFAMAPRGPEQEECEGLLQQWREEG SQVLSTASEGPL+DKGLA...\n",
        "GTRTTQTL-DAFFTCRKNVLLAKSSSSQVEGDFAMAPRGPEQEECEGLLQQWREEGSSQVLSTASEGPLVDKGLA...\n",
        "\n",
        "Sequence:  gi|685555185|ref|XP_009210273.1| protein angel homolog 1 isoform X2 [Papio anubis] >gi|1220227791|ref|XP_021797113.1| protein angel homolog 1 isoform X2 [Papio anubis]\n",
        "Length: 680, e-value 0.000000\n",
        "ATRLFRALSDAFFTCRKNVLLANSSSPQVEGDFAMAPRGPEQEECEGLLQQWREEGLSQVLSTASEGPLIDKGLA...\n",
        " TR  + L DAFFTCRKNVLLA SSS QVEGDFAMAPRGPEQEECEGLLQQWREEG SQVLSTASEGPL+DKGLA...\n",
        "GTRTTQTL-DAFFTCRKNVLLAKSSSSQVEGDFAMAPRGPEQEECEGLLQQWREEGSSQVLSTASEGPLVDKGLA...\n",
        "\n",
        "Sequence:  gi|694957110|ref|XP_009426462.1| PREDICTED: protein angel homolog 1 isoform X4 [Pan troglodytes] >gi|694957112|ref|XP_009426463.1| PREDICTED: protein angel homolog 1 isoform X4 [Pan troglodytes] >gi|931593153|ref|XP_014203142.1| PREDICTED: protein angel homolog 1 isoform X2 [Pan paniscus] >gi|931593156|ref|XP_014203143.1| PREDICTED: protein angel homolog 1 isoform X2 [Pan paniscus] >gi|931593158|ref|XP_014203144.1| PREDICTED: protein angel homolog 1 isoform X2 [Pan paniscus] >gi|1034105607|ref|XP_016781959.1| PREDICTED: protein angel homolog 1 isoform X4 [Pan troglodytes]\n",
        "Length: 624, e-value 0.000000\n",
        "MAPRGPEQEECEGLLQQWREEGLSQVLSTASEGPLIDKGLAQSSLALLMDNPGEENAASEDRWSSRQLSDLRAAE...\n",
        "MAPRGP+QEECEGLLQQWREEGLSQVLSTASEGPLIDKGLAQSSLALLMDNPGEENAASEDRWSSRQLSDLRAAE...\n",
        "MAPRGPDQEECEGLLQQWREEGLSQVLSTASEGPLIDKGLAQSSLALLMDNPGEENAASEDRWSSRQLSDLRAAE...\n",
        "\n",
        "Sequence:  gi|1099142227|ref|XP_018865465.1| PREDICTED: protein angel homolog 1 isoform X2 [Gorilla gorilla gorilla] >gi|1099142232|ref|XP_018865466.1| PREDICTED: protein angel homolog 1 isoform X2 [Gorilla gorilla gorilla]\n",
        "Length: 624, e-value 0.000000\n",
        "MAPRGPEQEECEGLLQQWREEGLSQVLSTASEGPLIDKGLAQSSLALLMDNPGEENAASEDRWSSRQLSDLRAAE...\n",
        "MAPRGP+QEECEGLLQQWREEG SQVLSTASEGPLIDKGLAQSSLALLMDNPGEENAASEDRWSSRQLSDLRAAE...\n",
        "MAPRGPDQEECEGLLQQWREEGSSQVLSTASEGPLIDKGLAQSSLALLMDNPGEENAASEDRWSSRQLSDLRAAE...\n",
        "\n",
        "Sequence:  gi|1044357161|ref|XP_017384060.1| PREDICTED: protein angel homolog 1 isoform X2 [Cebus capucinus imitator]\n",
        "Length: 667, e-value 0.000000\n",
        "MIASCLCYLLLPATRLFRALSDAFFTCRKNVLLANSSSPQVEGDFAMAPRGPEQEECEGLLQQWREEGLSQVLST...\n",
        "MIASCLCYLLLPA RLFRALSDAFFTCRKN LLA SSS QVEGDFAMAPRGP+QEECEGLLQQWREEG SQVLST...\n",
        "MIASCLCYLLLPAARLFRALSDAFFTCRKNALLAKSSSSQVEGDFAMAPRGPDQEECEGLLQQWREEGSSQVLST...\n",
        "\n",
        "Sequence:  gi|829740675|ref|XP_012598151.1| protein angel homolog 1 isoform X2 [Microcebus murinus]\n",
        "Length: 668, e-value 0.000000\n",
        "MIASCLCYLLLPATRLFRALSDAFFTCRKNVLLANSSSPQVEGDFAMAPRGPEQEECEGLLQQWREEGLSQVLST...\n",
        "MIASCLCYLLLPA RLFRALSDAFFTCRKN LLA SSSPQVEG+FAMAPRGP+QEECEGLLQQWREEG +QVLST...\n",
        "MIASCLCYLLLPAARLFRALSDAFFTCRKNALLAKSSSPQVEGNFAMAPRGPDQEECEGLLQQWREEGSNQVLST...\n",
        "\n",
        "Sequence:  gi|821031238|ref|XP_012353654.1| PREDICTED: protein angel homolog 1 isoform X1 [Nomascus leucogenys]\n",
        "Length: 621, e-value 0.000000\n",
        "MAPRGPEQEECEGLLQQWREEGLSQVLSTASEGPLIDKGLAQSSLALLMDNPGEENAASEDRWSSRQLSDLRAAE...\n",
        "MAPRGP+QEECEGLLQQWREEG SQVLSTASEGPLIDKGLAQSSLALLMDNPGEENAASED+WSSRQLSDLRAAE...\n",
        "MAPRGPDQEECEGLLQQWREEGSSQVLSTASEGPLIDKGLAQSSLALLMDNPGEENAASEDKWSSRQLSDLRAAE...\n",
        "\n",
        "Sequence:  gi|544448644|ref|XP_005561924.1| PREDICTED: protein angel homolog 1 isoform X5 [Macaca fascicularis] >gi|544448646|ref|XP_005561925.1| PREDICTED: protein angel homolog 1 isoform X5 [Macaca fascicularis] >gi|544448650|ref|XP_005561927.1| PREDICTED: protein angel homolog 1 isoform X5 [Macaca fascicularis] >gi|795318860|ref|XP_011926342.1| PREDICTED: protein angel homolog 1 isoform X6 [Cercocebus atys] >gi|966956030|ref|XP_014999712.1| PREDICTED: protein angel homolog 1 isoform X4 [Macaca mulatta] >gi|966956032|ref|XP_014999713.1| PREDICTED: protein angel homolog 1 isoform X4 [Macaca mulatta] >gi|966956034|ref|XP_014999714.1| PREDICTED: protein angel homolog 1 isoform X4 [Macaca mulatta] >gi|355693463|gb|EHH28066.1| hypothetical protein EGK_18407 [Macaca mulatta] >gi|355778754|gb|EHH63790.1| hypothetical protein EGM_16830 [Macaca fascicularis]\n",
        "Length: 621, e-value 0.000000\n",
        "MAPRGPEQEECEGLLQQWREEGLSQVLSTASEGPLIDKGLAQSSLALLMDNPGEENAASEDRWSSRQLSDLRAAE...\n",
        "MAPRGPEQEECEGLLQQWREEG SQVLSTASEGPL+DKGLAQSSLALLMDNPGEENAASED+WSSRQLSDLRAAE...\n",
        "MAPRGPEQEECEGLLQQWREEGSSQVLSTASEGPLVDKGLAQSSLALLMDNPGEENAASEDKWSSRQLSDLRAAE...\n",
        "\n",
        "Sequence:  gi|635128309|ref|XP_007985566.1| PREDICTED: protein angel homolog 1 isoform X2 [Chlorocebus sabaeus] >gi|635128311|ref|XP_007985567.1| PREDICTED: protein angel homolog 1 isoform X2 [Chlorocebus sabaeus] >gi|795449562|ref|XP_011764035.1| PREDICTED: protein angel homolog 1 isoform X5 [Macaca nemestrina] >gi|795449567|ref|XP_011764036.1| PREDICTED: protein angel homolog 1 isoform X5 [Macaca nemestrina] >gi|795449572|ref|XP_011764037.1| PREDICTED: protein angel homolog 1 isoform X5 [Macaca nemestrina]\n",
        "Length: 621, e-value 0.000000\n",
        "MAPRGPEQEECEGLLQQWREEGLSQVLSTASEGPLIDKGLAQSSLALLMDNPGEENAASEDRWSSRQLSDLRAAE...\n",
        "MAPRGPEQEECEGLLQQWREEG SQVLSTASEGPL+DKGLAQSSLALLMDNPGEENAASED+WSSRQLSDLRAAE...\n",
        "MAPRGPEQEECEGLLQQWREEGSSQVLSTASEGPLVDKGLAQSSLALLMDNPGEENAASEDKWSSRQLSDLRAAE...\n",
        "\n",
        "Sequence:  gi|1059159327|ref|XP_017736076.1| PREDICTED: protein angel homolog 1 isoform X4 [Rhinopithecus bieti] >gi|1059159329|ref|XP_017736077.1| PREDICTED: protein angel homolog 1 isoform X4 [Rhinopithecus bieti] >gi|1059159331|ref|XP_017736078.1| PREDICTED: protein angel homolog 1 isoform X4 [Rhinopithecus bieti]\n",
        "Length: 621, e-value 0.000000\n",
        "MAPRGPEQEECEGLLQQWREEGLSQVLSTASEGPLIDKGLAQSSLALLMDNPGEENAASEDRWSSRQLSDLRAAE...\n",
        "MAPRGPEQEECEGLLQQWREEG SQVLSTASEGPL+DKGLAQSSLALLMDNPGEENAASED+WSSRQLSDLRAAE...\n",
        "MAPRGPEQEECEGLLQQWREEGSSQVLSTASEGPLVDKGLAQSSLALLMDNPGEENAASEDKWSSRQLSDLRAAE...\n",
        "\n",
        "Sequence:  gi|1062864171|ref|XP_017909417.1| PREDICTED: protein angel homolog 1 [Capra hircus]\n",
        "Length: 668, e-value 0.000000\n",
        "MIASCLCYLLLPATRLFRALSDAFFTCRKNVLLANSSSPQVEGDFAMAPRGPEQEECEGLLQQWREEGLSQVLST...\n",
        "MIASCLCYLLLPA RLFRALSDAFFTCRKNVLLA SSS Q+EGDFAMAPRGP+QEECEGLLQQWREEG SQVLST...\n",
        "MIASCLCYLLLPAARLFRALSDAFFTCRKNVLLAKSSSSQLEGDFAMAPRGPDQEECEGLLQQWREEGSSQVLST...\n",
        "\n",
        "Sequence:  gi|472359542|ref|XP_004399386.1| PREDICTED: protein angel homolog 1 [Odobenus rosmarus divergens]\n",
        "Length: 667, e-value 0.000000\n",
        "MIASCLCYLLLPATRLFRALSDAFFTCRKNVLLANSSSPQVEGDFAMAPRGPEQEECEGLLQQWREEGLSQVLST...\n",
        "MIASCLCYLLLPA RLFRALSDAFFTCRKN LLA SSS QVEGDFAMAPRGP+QEECEGLLQQWREEG SQ LST...\n",
        "MIASCLCYLLLPAARLFRALSDAFFTCRKNALLAKSSSTQVEGDFAMAPRGPDQEECEGLLQQWREEGSSQALST...\n",
        "\n",
        "Sequence:  gi|685555189|ref|XP_009210275.1| protein angel homolog 1 isoform X4 [Papio anubis] >gi|685555191|ref|XP_009210276.1| protein angel homolog 1 isoform X4 [Papio anubis] >gi|685555193|ref|XP_009210277.1| protein angel homolog 1 isoform X4 [Papio anubis]\n",
        "Length: 621, e-value 0.000000\n",
        "MAPRGPEQEECEGLLQQWREEGLSQVLSTASEGPLIDKGLAQSSLALLMDNPGEENAASEDRWSSRQLSDLRAAE...\n",
        "MAPRGPEQEECEGLLQQWREEG SQVLSTASEGPL+DKGLAQSSLALLMDNPGEENAASED+WSSRQLSDLRAAE...\n",
        "MAPRGPEQEECEGLLQQWREEGSSQVLSTASEGPLVDKGLAQSSLALLMDNPGEENAASEDKWSSRQLSDLRAAE...\n",
        "\n",
        "Sequence:  gi|826327689|ref|XP_012511754.1| PREDICTED: protein angel homolog 1 [Propithecus coquereli]\n",
        "Length: 668, e-value 0.000000\n",
        "MIASCLCYLLLPATRLFRALSDAFFTCRKNVLLANSSSPQVEGDFAMAPRGPEQEECEGLLQQWREEGLSQVLST...\n",
        "MIASCLCYLLLPA RLFRALSDAFFTCRKN LLA SSSPQVEG+FAMAPRGP+QEECEGLLQQWREEG +QVLST...\n",
        "MIASCLCYLLLPAARLFRALSDAFFTCRKNALLAKSSSPQVEGNFAMAPRGPDQEECEGLLQQWREEGSNQVLST...\n",
        "\n",
        "Sequence:  gi|395827583|ref|XP_003786979.1| PREDICTED: protein angel homolog 1 [Otolemur garnettii]\n",
        "Length: 668, e-value 0.000000\n",
        "MIASCLCYLLLPATRLFRALSDAFFTCRKNVLLANSSSPQVEGDFAMAPRGPEQEECEGLLQQWREEGLSQVLST...\n",
        "MIASCLCYLLLPA RLFRALSDAFFTCRKN LLA SSSPQVEG+FAMAPRGP+QEECEGLLQQWREEG SQVLST...\n",
        "MIASCLCYLLLPAARLFRALSDAFFTCRKNALLAKSSSPQVEGNFAMAPRGPDQEECEGLLQQWREEGSSQVLST...\n",
        "\n",
        "Sequence:  gi|1212168939|ref|XP_021535263.1| protein angel homolog 1 [Neomonachus schauinslandi]\n",
        "Length: 667, e-value 0.000000\n",
        "MIASCLCYLLLPATRLFRALSDAFFTCRKNVLLANSSSPQVEGDFAMAPRGPEQEECEGLLQQWREEGLSQVLST...\n",
        "MIASCLCYLLLPA RLFRALSDAFFTCRKN LLA SSS QVEG+FAMAPRGP+QEECEGLLQQWREEG SQVLST...\n",
        "MIASCLCYLLLPAARLFRALSDAFFTCRKNALLAKSSSTQVEGNFAMAPRGPDQEECEGLLQQWREEGSSQVLST...\n",
        "\n",
        "Sequence:  gi|1244101074|ref|XP_022361164.1| protein angel homolog 1 [Enhydra lutris kenyoni]\n",
        "Length: 667, e-value 0.000000\n",
        "MIASCLCYLLLPATRLFRALSDAFFTCRKNVLLANSSSPQVEGDFAMAPRGPEQEECEGLLQQWREEGLSQVLST...\n",
        "MIASCLCYLLLPA RLFRALSDAFFTCRKN LLA SSS QVEGDFAMAPRGP+QEECEGLLQQWREEG SQVLST...\n",
        "MIASCLCYLLLPAARLFRALSDAFFTCRKNALLAKSSSTQVEGDFAMAPRGPDQEECEGLLQQWREEGSSQVLST...\n",
        "\n",
        "Sequence:  gi|803213428|ref|XP_011967106.1| PREDICTED: protein angel homolog 1 isoform X3 [Ovis aries musimon]\n",
        "Length: 668, e-value 0.000000\n",
        "MIASCLCYLLLPATRLFRALSDAFFTCRKNVLLANSSSPQVEGDFAMAPRGPEQEECEGLLQQWREEGLSQVLST...\n",
        "MIASCLCYLLLPA RLFRALSDAFFTCRKNVLLA SSS QVEGDFAMAPRGP+QEECEGLLQQWREEG SQVLST...\n",
        "MIASCLCYLLLPAARLFRALSDAFFTCRKNVLLAKSSSSQVEGDFAMAPRGPDQEECEGLLQQWREEGSSQVLST...\n",
        "\n",
        "Sequence:  gi|1191899154|ref|XP_020955199.1| protein angel homolog 1 isoform X1 [Sus scrofa]\n",
        "Length: 667, e-value 0.000000\n",
        "MIASCLCYLLLPATRLFRALSDAFFTCRKNVLLANSSSPQVEGDFAMAPRGPEQEECEGLLQQWREEGLSQVLST...\n",
        "MIASCLCYLLLPA RLFRALSDAFF CRKN LLA SSS QVEGDFAMAPRGP+QEECEGLLQQWREEG SQVLST...\n",
        "MIASCLCYLLLPAARLFRALSDAFFACRKNALLAKSSSSQVEGDFAMAPRGPDQEECEGLLQQWREEGSSQVLST...\n",
        "\n",
        "Sequence:  gi|817323218|ref|XP_012332314.1| protein angel homolog 1 [Aotus nancymaae]\n",
        "Length: 667, e-value 0.000000\n",
        "MIASCLCYLLLPATRLFRALSDAFFTCRKNVLLANSSSPQVEGDFAMAPRGPEQEECEGLLQQWREEGLSQVLST...\n",
        "MIASCLCYLLLPA RLFR LSDAFFTCRKN LLA SSS QVEGDFAMAPRGP+QEECEGLLQQWREEG SQVLST...\n",
        "MIASCLCYLLLPAARLFRTLSDAFFTCRKNALLAKSSSSQVEGDFAMAPRGPDQEECEGLLQQWREEGSSQVLST...\n",
        "\n",
        "Sequence:  gi|1044357159|ref|XP_017384059.1| PREDICTED: protein angel homolog 1 isoform X1 [Cebus capucinus imitator]\n",
        "Length: 680, e-value 0.000000\n",
        "DAFFTCRKNVLLANSSSPQVEGDFAMAPRGPEQEECEGLLQQWREEGLSQVLSTASEGPLIDKGLAQSSLALLMD...\n",
        "DAFFTCRKN LLA SSS QVEGDFAMAPRGP+QEECEGLLQQWREEG SQVLSTASEGPLIDKGLAQSSLALLMD...\n",
        "DAFFTCRKNALLAKSSSSQVEGDFAMAPRGPDQEECEGLLQQWREEGSSQVLSTASEGPLIDKGLAQSSLALLMD...\n",
        "\n",
        "Sequence:  gi|958695845|ref|XP_014696374.1| PREDICTED: protein angel homolog 1 isoform X2 [Equus asinus]\n",
        "Length: 667, e-value 0.000000\n",
        "MIASCLCYLLLPATRLFRALSDAFFTCRKNVLLANSSSPQVEGDFAMAPRGPEQEECEGLLQQWREEGLSQVLST...\n",
        "MIASCLCYLLLPA RLFRALSDAFFTCRKNVLLA SSSPQVEG FAMAPRGP+QEECEGLLQQWREEG SQVLST...\n",
        "MIASCLCYLLLPAARLFRALSDAFFTCRKNVLLAKSSSPQVEGSFAMAPRGPDQEECEGLLQQWREEGSSQVLST...\n",
        "\n",
        "Sequence:  gi|586554141|ref|XP_006925535.1| PREDICTED: protein angel homolog 1 isoform X1 [Pteropus alecto] >gi|431839150|gb|ELK01077.1| Protein angel like protein 1 [Pteropus alecto]\n",
        "Length: 667, e-value 0.000000\n",
        "MIASCLCYLLLPATRLFRALSDAFFTCRKNVLLANSSSPQVEGDFAMAPRGPEQEECEGLLQQWREEGLSQVLST...\n",
        "MIASCLCYLLLPA RLFRALSDAFF CRKN LLA SSS QVEGDFAMAPRGP+QEECEGLLQQW+EEG SQVLST...\n",
        "MIASCLCYLLLPAARLFRALSDAFFPCRKNALLAKSSSSQVEGDFAMAPRGPDQEECEGLLQQWQEEGSSQVLST...\n",
        "\n",
        "Sequence:  gi|1111214108|ref|XP_019282794.1| PREDICTED: protein angel homolog 1 isoform X2 [Panthera pardus]\n",
        "Length: 667, e-value 0.000000\n",
        "MIASCLCYLLLPATRLFRALSDAFFTCRKNVLLANSSSPQVEGDFAMAPRGPEQEECEGLLQQWREEGLSQVLST...\n",
        "MIASCLCYLLLPA RLFRALSDAFFTCRKN LLA SSS QVEG FAMAPRGP+QEECEGLLQQWREEG SQVLST...\n",
        "MIASCLCYLLLPAARLFRALSDAFFTCRKNALLAKSSSTQVEGSFAMAPRGPDQEECEGLLQQWREEGSSQVLST...\n",
        "\n",
        "Sequence:  gi|759111118|ref|XP_011355350.1| PREDICTED: protein angel homolog 1 isoform X1 [Pteropus vampyrus]\n",
        "Length: 667, e-value 0.000000\n",
        "MIASCLCYLLLPATRLFRALSDAFFTCRKNVLLANSSSPQVEGDFAMAPRGPEQEECEGLLQQWREEGLSQVLST...\n",
        "MIASCLCYLLLPA RLFRALSDAFF CRKN LLA SSS QVEGDFAMAPRGP+QEECEGLLQQW+EEG SQVLST...\n",
        "MIASCLCYLLLPAARLFRALSDAFFPCRKNALLAKSSSSQVEGDFAMAPRGPDQEECEGLLQQWQEEGSSQVLST...\n",
        "\n",
        "Sequence:  gi|1012198893|ref|XP_016012119.1| PREDICTED: protein angel homolog 1 [Rousettus aegyptiacus]\n",
        "Length: 667, e-value 0.000000\n",
        "MIASCLCYLLLPATRLFRALSDAFFTCRKNVLLANSSSPQVEGDFAMAPRGPEQEECEGLLQQWREEGLSQVLST...\n",
        "MIASCLCYLLLPA RLFRALSDAFF CRKN LLA SSS QVEGDFAMAPRGP+QEECEGLLQQW+EEG SQVLST...\n",
        "MIASCLCYLLLPAARLFRALSDAFFPCRKNALLAKSSSSQVEGDFAMAPRGPDQEECEGLLQQWQEEGSSQVLST...\n",
        "\n",
        "Sequence:  gi|744554082|ref|XP_010974755.1| PREDICTED: protein angel homolog 1 [Camelus dromedarius]\n",
        "Length: 668, e-value 0.000000\n",
        "MIASCLCYLLLPATRLFRALSDAFFTCRKNVLLANSSSPQVEGDFAMAPRGPEQEECEGLLQQWREEGLSQVLST...\n",
        "MIASCLCYLLLPA RLFRALSDAFFTCRKNVLLA SSSPQVEG+FAMAPRGP+QEECEGLLQQWREEG  QVL T...\n",
        "MIASCLCYLLLPAARLFRALSDAFFTCRKNVLLAKSSSPQVEGNFAMAPRGPDQEECEGLLQQWREEGSGQVLLT...\n",
        "\n",
        "Sequence:  gi|296215581|ref|XP_002754191.1| PREDICTED: protein angel homolog 1 isoform X1 [Callithrix jacchus]\n",
        "Length: 663, e-value 0.000000\n",
        "MIASCLCYLLLPATRLFRALSDAFFTCRKNVLLANSSSPQVEGDFAMAPRGPEQEECEGLLQQWREEGLSQVLST...\n",
        "MIASCLCYLLLPA RLFRALSDAFFTCRKN LLA SSS QVEGDFAMAPRGP+QEECEGLLQQWREEG SQ+LST...\n",
        "MIASCLCYLLLPAARLFRALSDAFFTCRKNALLAKSSSSQVEGDFAMAPRGPDQEECEGLLQQWREEGSSQMLST...\n",
        "\n",
        "Sequence:  gi|1246173016|ref|XP_022432187.1| protein angel homolog 1 isoform X1 [Delphinapterus leucas]\n",
        "Length: 667, e-value 0.000000\n",
        "MIASCLCYLLLPATRLFRALSDAFFTCRKNVLLANSSSPQVEGDFAMAPRGPEQEECEGLLQQWREEGLSQVLST...\n",
        "MIASCLCYLLLPA RLFRALSDAFFTCRKN  LA SSSPQV+GDFAMAPRGP+QEECEGLLQQW+EEG SQ LST...\n",
        "MIASCLCYLLLPAARLFRALSDAFFTCRKNAFLAKSSSPQVDGDFAMAPRGPDQEECEGLLQQWQEEGSSQALST...\n",
        "\n",
        "Sequence:  gi|1040270257|gb|OBS77462.1| hypothetical protein A6R68_16061, partial [Neotoma lepida]\n",
        "Length: 771, e-value 0.000000\n",
        "MIASCLCYLLLPATRLFRALSDAFFTCRKNVLLANSSSPQVEGDFAMAPRGPEQEECEGLLQQWREEGLSQVLST...\n",
        "MIASCLCYLLLPA RLFR+LSDAFFTCRKN LLA SSSPQVEG+FAMAP GP+QEECEGLLQQWREEG +Q LST...\n",
        "MIASCLCYLLLPAVRLFRSLSDAFFTCRKNALLAKSSSPQVEGNFAMAPPGPDQEECEGLLQQWREEGWNQALST...\n",
        "\n",
        "Sequence:  gi|742141583|ref|XP_010842681.1| PREDICTED: protein angel homolog 1 isoform X2 [Bison bison bison]\n",
        "Length: 668, e-value 0.000000\n",
        "MIASCLCYLLLPATRLFRALSDAFFTCRKNVLLANSSSPQVEGDFAMAPRGPEQEECEGLLQQWREEGLSQVLST...\n",
        "MIASCLCYLLLPA RLFRALSDAFFTCRKNVLLA SSS QVEG+FAMAPRGP+QEECEGLLQQWREEGLSQVLST...\n",
        "MIASCLCYLLLPAARLFRALSDAFFTCRKNVLLAKSSSSQVEGNFAMAPRGPDQEECEGLLQQWREEGLSQVLST...\n",
        "\n",
        "Sequence:  gi|296482881|tpg|DAA24996.1| TPA: angel-like [Bos taurus]\n",
        "Length: 708, e-value 0.000000\n",
        "MIASCLCYLLLPATRLFRALSDAFFTCRKNVLLANSSSPQVEGDFAMAPRGPEQEECEGLLQQWREEGLSQVLST...\n",
        "MIASCLCYLLLPA RLFRALSDAFFTCRKNVLLA SSS QVEG+FAMAPRGP+QEECEGLLQQWREEG SQVLST...\n",
        "MIASCLCYLLLPAARLFRALSDAFFTCRKNVLLAKSSSSQVEGNFAMAPRGPDQEECEGLLQQWREEGSSQVLST...\n",
        "\n",
        "Sequence:  gi|664704484|ref|XP_008534544.1| PREDICTED: protein angel homolog 1 isoform X2 [Equus przewalskii]\n",
        "Length: 667, e-value 0.000000\n",
        "MIASCLCYLLLPATRLFRALSDAFFTCRKNVLLANSSSPQVEGDFAMAPRGPEQEECEGLLQQWREEGLSQVLST...\n",
        "MIASCLCYLLLPA RLFRALSDAFFTCRKNVL A SSSPQVEG FAMAPRGP+QEE EGLLQQWREEG SQVLST...\n",
        "MIASCLCYLLLPAARLFRALSDAFFTCRKNVLWAKSSSPQVEGSFAMAPRGPDQEEREGLLQQWREEGSSQVLST...\n",
        "\n",
        "Sequence:  gi|470616737|ref|XP_004317302.1| PREDICTED: protein angel homolog 1 isoform X1 [Tursiops truncatus]\n",
        "Length: 667, e-value 0.000000\n",
        "MIASCLCYLLLPATRLFRALSDAFFTCRKNVLLANSSSPQVEGDFAMAPRGPEQEECEGLLQQWREEGLSQVLST...\n",
        "MIASCLCYLLLPA RLFRALSDAFFTCRKN  LA SSSPQV+GDFAMAPRGP+QEECEGLLQQW+EEG SQ LST...\n",
        "MIASCLCYLLLPAARLFRALSDAFFTCRKNAFLAKSSSPQVDGDFAMAPRGPDQEECEGLLQQWQEEGSSQALST...\n",
        "\n",
        "Sequence:  gi|1211377626|ref|XP_021508743.1| protein angel homolog 1 isoform X1 [Meriones unguiculatus]\n",
        "Length: 667, e-value 0.000000\n",
        "MIASCLCYLLLPATRLFRALSDAFFTCRKNVLLANSSSPQVEGDFAMAPRGPEQEECEGLLQQWREEGLSQVLST...\n",
        "MIASCLCYLLLP  RLFR+LSDAFFTCRKN LLA SSSPQVEGDFAMAP+GP+QEECEGLLQQWREEG +Q LST...\n",
        "MIASCLCYLLLPVARLFRSLSDAFFTCRKNALLAKSSSPQVEGDFAMAPQGPDQEECEGLLQQWREEGWNQALST...\n",
        "\n",
        "Sequence:  gi|358414272|ref|XP_584939.5| PREDICTED: protein angel homolog 1 isoform X2 [Bos taurus] >gi|359069804|ref|XP_002691168.2| PREDICTED: protein angel homolog 1 isoform X2 [Bos taurus] >gi|1131155444|ref|XP_019824856.1| PREDICTED: protein angel homolog 1 isoform X2 [Bos indicus]\n",
        "Length: 668, e-value 0.000000\n",
        "MIASCLCYLLLPATRLFRALSDAFFTCRKNVLLANSSSPQVEGDFAMAPRGPEQEECEGLLQQWREEGLSQVLST...\n",
        "MIASCLCYLLLPA RLFRALSDAFFTCRKNVLLA SSS QVEG+FAMAPRGP+QEECEGLLQQWREEG SQVLST...\n",
        "MIASCLCYLLLPAARLFRALSDAFFTCRKNVLLAKSSSSQVEGNFAMAPRGPDQEECEGLLQQWREEGSSQVLST...\n",
        "\n",
        "Sequence:  gi|1195682925|ref|XP_021034941.1| protein angel homolog 1 isoform X2 [Mus caroli]\n",
        "Length: 667, e-value 0.000000\n",
        "MIASCLCYLLLPATRLFRALSDAFFTCRKNVLLANSSSPQVEGDFAMAPRGPEQEECEGLLQQWREEGLSQVLST...\n",
        "MIASCL YLLLPA RLFR LSDAFFTCRKN LLA SSSPQVEG+FAMAPRGP+QEECEGLLQQWREEG +Q LST...\n",
        "MIASCLYYLLLPAARLFRFLSDAFFTCRKNALLAKSSSPQVEGNFAMAPRGPDQEECEGLLQQWREEGWNQTLST...\n",
        "\n",
        "Sequence:  gi|157823485|ref|NP_001102187.1| protein angel homolog 1 [Rattus norvegicus] >gi|218563497|sp|B2RYM0.2|ANGE1_RAT RecName: Full=Protein angel homolog 1 >gi|149025240|gb|EDL81607.1| angel homolog 1 (Drosophila) (predicted) [Rattus norvegicus]\n",
        "Length: 667, e-value 0.000000\n",
        "MIASCLCYLLLPATRLFRALSDAFFTCRKNVLLANSSSPQVEGDFAMAPRGPEQEECEGLLQQWREEGLSQVLST...\n",
        "MIASCL YLLLPA RLFR LSDAFFTCRKN LLA SSSPQVEG+FAMAPRGP+QEECEGLLQQWREEG +Q LST...\n",
        "MIASCLYYLLLPAARLFRFLSDAFFTCRKNALLAKSSSPQVEGNFAMAPRGPDQEECEGLLQQWREEGWNQTLST...\n",
        "\n",
        "Sequence:  gi|17512364|gb|AAH19148.1| angel homolog 1 (Drosophila) [synthetic construct]\n",
        "Length: 667, e-value 0.000000\n",
        "MIASCLCYLLLPATRLFRALSDAFFTCRKNVLLANSSSPQVEGDFAMAPRGPEQEECEGLLQQWREEGLSQVLST...\n",
        "MIASCL YLLLPA RLFR LSDAFFTCRKN LLA SSSPQVEG+FAMAPRGP+QEECEGLLQQWREEG +Q  ST...\n",
        "MIASCLYYLLLPAARLFRFLSDAFFTCRKNALLAKSSSPQVEGNFAMAPRGPDQEECEGLLQQWREEGWNQTPST...\n",
        "\n",
        "Sequence:  gi|488523472|ref|XP_004453622.1| PREDICTED: protein angel homolog 1 isoform X1 [Dasypus novemcinctus]\n",
        "Length: 667, e-value 0.000000\n",
        "MIASCLCYLLLPATRLFRALSDAFFTCRKNVLLANSSSPQVEGDFAMAPRGPEQEECEGLLQQWREEGLSQVLST...\n",
        "MIASCLCYLLLPA RLFRALSDAFFTCRKN LLA SSSPQVEG+FAMAPRGP+QEECEGLLQQWREEG SQ+LST...\n",
        "MIASCLCYLLLPAARLFRALSDAFFTCRKNALLAKSSSPQVEGNFAMAPRGPDQEECEGLLQQWREEGSSQLLST...\n",
        "\n",
        "Sequence:  gi|465963908|ref|XP_004262318.1| PREDICTED: protein angel homolog 1 [Orcinus orca]\n",
        "Length: 667, e-value 0.000000\n",
        "MIASCLCYLLLPATRLFRALSDAFFTCRKNVLLANSSSPQVEGDFAMAPRGPEQEECEGLLQQWREEGLSQVLST...\n",
        "MIASCLCYLLLPA RLFRALSDAFFTCRKN  LA SSSPQV+GDFAMAPRGP+QEECEGLLQQW+EEG SQ LST...\n",
        "MIASCLCYLLLPAARLFRALSDAFFTCRKNAFLAKSSSPQVDGDFAMAPRGPDQEECEGLLQQWQEEGSSQALST...\n",
        "\n",
        "Sequence:  gi|163310734|ref|NP_653107.2| protein angel homolog 1 [Mus musculus] >gi|218563496|sp|Q8VCU0.2|ANGE1_MOUSE RecName: Full=Protein angel homolog 1\n",
        "Length: 667, e-value 0.000000\n",
        "MIASCLCYLLLPATRLFRALSDAFFTCRKNVLLANSSSPQVEGDFAMAPRGPEQEECEGLLQQWREEGLSQVLST...\n",
        "MIASCL YLLLPA RLFR LSDAFFTCRKN LLA SSSPQVEG+FAMAPRGP+QEECEGLLQQWREEG +Q  ST...\n",
        "MIASCLYYLLLPAARLFRFLSDAFFTCRKNALLAKSSSPQVEGNFAMAPRGPDQEECEGLLQQWREEGWNQTPST...\n",
        "\n",
        "Sequence:  gi|148670957|gb|EDL02904.1| angel homolog 1 (Drosophila), partial [Mus musculus]\n",
        "Length: 674, e-value 0.000000\n",
        "MIASCLCYLLLPATRLFRALSDAFFTCRKNVLLANSSSPQVEGDFAMAPRGPEQEECEGLLQQWREEGLSQVLST...\n",
        "MIASCL YLLLPA RLFR LSDAFFTCRKN LLA SSSPQVEG+FAMAPRGP+QEECEGLLQQWREEG +Q  ST...\n",
        "MIASCLYYLLLPAARLFRFLSDAFFTCRKNALLAKSSSPQVEGNFAMAPRGPDQEECEGLLQQWREEGWNQTPST...\n",
        "\n",
        "Sequence:  gi|524968355|ref|XP_005084062.1| protein angel homolog 1 [Mesocricetus auratus]\n",
        "Length: 667, e-value 0.000000\n",
        "MIASCLCYLLLPATRLFRALSDAFFTCRKNVLLANSSSPQVEGDFAMAPRGPEQEECEGLLQQWREEGLSQVLST...\n",
        "MIASCLCYLLLPA RLFR+LSDAFFTCRKN LLA SSSPQVEG+FAMAPRGP+QEECEGLLQQWREEG +Q LST...\n",
        "MIASCLCYLLLPAARLFRSLSDAFFTCRKNALLAKSSSPQVEGNFAMAPRGPDQEECEGLLQQWREEGWNQALST...\n",
        "\n",
        "Sequence:  gi|478504292|ref|XP_004426447.1| PREDICTED: protein angel homolog 1 isoform X2 [Ceratotherium simum simum]\n",
        "Length: 669, e-value 0.000000\n",
        "MIASCLCYLLLPATRLFRALSDAFFTCRKNVLLANSSSPQVEGDFAMAPRGPEQEECEGLLQQWREEGLSQVLST...\n",
        "MIASCLCYLLLPA RLFRALSDAFFTCRKN LLA SSSPQVEG+FAMAPRG +QEECEGLLQQWREEG SQVLST...\n",
        "MIASCLCYLLLPAARLFRALSDAFFTCRKNALLAKSSSPQVEGNFAMAPRGHDQEECEGLLQQWREEGSSQVLST...\n",
        "\n",
        "Sequence:  gi|1195553549|ref|XP_021057642.1| protein angel homolog 1 [Mus pahari]\n",
        "Length: 666, e-value 0.000000\n",
        "MIASCLCYLLLPATRLFRALSDAFFTCRKNVLLANSSSPQVEGDFAMAPRGPEQEECEGLLQQWREEGLSQVLST...\n",
        "MIASCL YLLLPA RLFR LSDAFFTC+KN LLA SSSPQVEG+FAMAPRGP+QEECEGLLQQWREEG +Q LST...\n",
        "MIASCLYYLLLPAARLFRFLSDAFFTCQKNALLAKSSSPQVEGNFAMAPRGPDQEECEGLLQQWREEGWNQTLST...\n",
        "\n",
        "Sequence:  gi|1147370580|ref|XP_020034396.1| protein angel homolog 1 [Castor canadensis]\n",
        "Length: 667, e-value 0.000000\n",
        "MIASCLCYLLLPATRLFRALSDAFFTCRKNVLLANSSSPQVEGDFAMAPRGPEQEECEGLLQQWREEGLSQVLST...\n",
        "MIAS LCYLLLP  RLFRA+SDAFFTCRKN LLA SSSPQVEG+FAMAPRGP+QEECEGLLQQWREEG SQVLST...\n",
        "MIASFLCYLLLPVARLFRAISDAFFTCRKNALLAKSSSPQVEGNFAMAPRGPDQEECEGLLQQWREEGSSQVLST...\n",
        "\n",
        "Sequence:  gi|533152024|ref|XP_005390220.1| PREDICTED: protein angel homolog 1 isoform X2 [Chinchilla lanigera]\n",
        "Length: 667, e-value 0.000000\n",
        "MIASCLCYLLLPATRLFRALSDAFFTCRKNVLLANSSSPQVEGDFAMAPRGPEQEECEGLLQQWREEGLSQVLST...\n",
        "MIASCLCYLLLPA RLFRA+SDAFFTCRKN LLA SSSPQVEGDFAMAPRGP+QEECEGLLQQWREEGLSQVLS ...\n",
        "MIASCLCYLLLPAARLFRAISDAFFTCRKNALLAKSSSPQVEGDFAMAPRGPDQEECEGLLQQWREEGLSQVLSA...\n",
        "\n",
        "Sequence:  gi|602695535|ref|XP_007459825.1| PREDICTED: protein angel homolog 1 [Lipotes vexillifer]\n",
        "Length: 667, e-value 0.000000\n",
        "MIASCLCYLLLPATRLFRALSDAFFTCRKNVLLANSSSPQVEGDFAMAPRGPEQEECEGLLQQWREEGLSQVLST...\n",
        "MIASCLCYLLLPA RLFRALSDAFFTCRKN LLA SSS QV+GDFAMAPRGP+QEECEGLLQQW+EEG SQ LS+...\n",
        "MIASCLCYLLLPAARLFRALSDAFFTCRKNALLAKSSSTQVDGDFAMAPRGPDQEECEGLLQQWQEEGSSQALSS...\n",
        "\n",
        "Sequence:  gi|594057510|ref|XP_006052932.1| PREDICTED: protein angel homolog 1 isoform X3 [Bubalus bubalis]\n",
        "Length: 668, e-value 0.000000\n",
        "MIASCLCYLLLPATRLFRALSDAFFTCRKNVLLANSSSPQVEGDFAMAPRGPEQEECEGLLQQWREEGLSQVLST...\n",
        "MIASCLCYLLLPA RLFRALSDAFFTCRKNV LA SSS QVEG+FAMAPRGP+QEECEGLLQQWREEG SQVLST...\n",
        "MIASCLCYLLLPAARLFRALSDAFFTCRKNVFLAKSSSSQVEGNFAMAPRGPDQEECEGLLQQWREEGSSQVLST...\n",
        "\n",
        "Sequence:  gi|829740648|ref|XP_012598119.1| protein angel homolog 1 isoform X1 [Microcebus murinus] >gi|829740653|ref|XP_012598126.1| protein angel homolog 1 isoform X1 [Microcebus murinus]\n",
        "Length: 681, e-value 0.000000\n",
        "DAFFTCRKNVLLANSSSPQVEGDFAMAPRGPEQEECEGLLQQWREEGLSQVLSTASEGPLIDKGLAQSSLALLMD...\n",
        "DAFFTCRKN LLA SSSPQVEG+FAMAPRGP+QEECEGLLQQWREEG +QVLSTASEGPL DKGLAQSSLALLMD...\n",
        "DAFFTCRKNALLAKSSSPQVEGNFAMAPRGPDQEECEGLLQQWREEGSNQVLSTASEGPLADKGLAQSSLALLMD...\n",
        "\n",
        "Sequence:  gi|674034369|ref|XP_008838348.1| PREDICTED: protein angel homolog 1 isoform X1 [Nannospalax galili]\n",
        "Length: 666, e-value 0.000000\n",
        "MIASCLCYLLLPATRLFRALSDAFFTCRKNVLLANSSSPQVEGDFAMAPRGPEQEECEGLLQQWREEGLSQVLST...\n",
        "MIASCLCYLLLPA RLFRALSDAFFTCRKN LLA SSSPQVEG+FAMAP GP+QEECEGLLQQW+EEG +Q LST...\n",
        "MIASCLCYLLLPAARLFRALSDAFFTCRKNALLAKSSSPQVEGNFAMAPWGPDQEECEGLLQQWQEEGSNQALST...\n",
        "\n",
        "Sequence:  gi|1187590457|ref|XP_020747969.1| protein angel homolog 1 isoform X2 [Odocoileus virginianus texanus]\n",
        "Length: 667, e-value 0.000000\n",
        "MIASCLCYLLLPATRLFRALSDAFFTCRKNVLLANSSSPQVEGDFAMAPRGPEQEECEGLLQQWREEGLSQVLST...\n",
        "MIASCLCYLLLPA RLFRALSDAFFTCRKN  LA SSS QVEGDFAMAPRGP+QEECEGLLQQW+EEG SQ+LST...\n",
        "MIASCLCYLLLPAARLFRALSDAFFTCRKNAFLAKSSSSQVEGDFAMAPRGPDQEECEGLLQQWQEEGSSQLLST...\n",
        "\n",
        "Sequence:  gi|589955496|ref|XP_006990367.1| PREDICTED: protein angel homolog 1 isoform X1 [Peromyscus maniculatus bairdii]\n",
        "Length: 667, e-value 0.000000\n",
        "MIASCLCYLLLPATRLFRALSDAFFTCRKNVLLANSSSPQVEGDFAMAPRGPEQEECEGLLQQWREEGLSQVLST...\n",
        "MIASCLCYLLLPA RLFR+LSDAFFTCRKN LLA SSS QVEG+FAMAPRGP+QEECEGLLQQW+EEG SQ L T...\n",
        "MIASCLCYLLLPAARLFRSLSDAFFTCRKNALLAKSSSTQVEGNFAMAPRGPDQEECEGLLQQWQEEGWSQALCT...\n",
        "\n",
        "Sequence:  gi|531997779|ref|XP_005343444.1| PREDICTED: protein angel homolog 1 [Microtus ochrogaster]\n",
        "Length: 667, e-value 0.000000\n",
        "MIASCLCYLLLPATRLFRALSDAFFTCRKNVLLANSSSPQVEGDFAMAPRGPEQEECEGLLQQWREEGLSQVLST...\n",
        "MIASCLCYLLLPA RLFR+LSDAFFTCRKN LLA SSSPQVEG+FAMAPRGP+QEECEGLLQQWREEG +Q LST...\n",
        "MIASCLCYLLLPAARLFRSLSDAFFTCRKNALLAKSSSPQVEGNFAMAPRGPDQEECEGLLQQWREEGWNQALST...\n",
        "\n",
        "Sequence:  gi|471361115|ref|XP_004371123.1| PREDICTED: protein angel homolog 1 [Trichechus manatus latirostris]\n",
        "Length: 667, e-value 0.000000\n",
        "MIASCLCYLLLPATRLFRALSDAFFTCRKNVLLANSSSPQVEGDFAMAPRGPEQEECEGLLQQWREEGLSQVLST...\n",
        "MIASCLCYLLLPA RLFRALSDAFFTCRKN LLA S SPQVEG+FAMAPRGP+QEECEGLLQQWREEG SQVLST...\n",
        "MIASCLCYLLLPAARLFRALSDAFFTCRKNALLAKSLSPQVEGNFAMAPRGPDQEECEGLLQQWREEGSSQVLST...\n",
        "\n",
        "Sequence:  gi|488523474|ref|XP_004453623.1| PREDICTED: protein angel homolog 1 isoform X2 [Dasypus novemcinctus]\n",
        "Length: 664, e-value 0.000000\n",
        "MIASCLCYLLLPATRLFRALSDAFFTCRKNVLLANSSSPQVEGDFAMAPRGPEQEECEGLLQQWREEGLSQVLST...\n",
        "MIASCLCYLLLPA RLFRALSDAFFTCRKN LLA SSSPQVEG+FAMAPRGP+QEECEGLLQQWREEG SQ+LST...\n",
        "MIASCLCYLLLPAARLFRALSDAFFTCRKNALLAKSSSPQVEGNFAMAPRGPDQEECEGLLQQWREEGSSQLLST...\n",
        "\n",
        "Sequence:  gi|1239915590|ref|XP_022277953.1| protein angel homolog 1 isoform X1 [Canis lupus familiaris]\n",
        "Length: 701, e-value 0.000000\n",
        "DAFFTCRKNVLLANSSSPQVEGDFAMAPRGPEQEECEGLLQQWREEGLSQVLSTASEGPLIDKGLAQSSLALLMD...\n",
        "DAFFTCRKN LLA SSS QVEGDFAMAPRGP+QEECEGLLQQWREEG SQVLST+SEGPL+DKGLAQSSLALLMD...\n",
        "DAFFTCRKNALLAKSSSTQVEGDFAMAPRGPDQEECEGLLQQWREEGSSQVLSTSSEGPLVDKGLAQSSLALLMD...\n",
        "\n",
        "Sequence:  gi|670980682|ref|XP_008701211.1| PREDICTED: protein angel homolog 1, partial [Ursus maritimus]\n",
        "Length: 647, e-value 0.000000\n",
        "DAFFTCRKNVLLANSSSPQVEGDFAMAPRGPEQEECEGLLQQWREEGLSQVLSTASEGPLIDKGLAQSSLALLMD...\n",
        "DAFFTCRKN LLA SSS QVEGDFAMAPRGP+QEECEGLLQQWREEG SQVLST+SEGPL+DKGLAQSSLALLMD...\n",
        "DAFFTCRKNALLAKSSSTQVEGDFAMAPRGPDQEECEGLLQQWREEGSSQVLSTSSEGPLVDKGLAQSSLALLMD...\n",
        "\n",
        "Sequence:  gi|545508163|ref|XP_005623750.1| protein angel homolog 1 isoform X2 [Canis lupus familiaris] >gi|928142642|ref|XP_013971566.1| protein angel homolog 1 isoform X2 [Canis lupus familiaris]\n",
        "Length: 680, e-value 0.000000\n",
        "DAFFTCRKNVLLANSSSPQVEGDFAMAPRGPEQEECEGLLQQWREEGLSQVLSTASEGPLIDKGLAQSSLALLMD...\n",
        "DAFFTCRKN LLA SSS QVEGDFAMAPRGP+QEECEGLLQQWREEG SQVLST+SEGPL+DKGLAQSSLALLMD...\n",
        "DAFFTCRKNALLAKSSSTQVEGDFAMAPRGPDQEECEGLLQQWREEGSSQVLSTSSEGPLVDKGLAQSSLALLMD...\n",
        "\n",
        "Sequence:  gi|348573423|ref|XP_003472490.1| PREDICTED: protein angel homolog 1 [Cavia porcellus]\n",
        "Length: 667, e-value 0.000000\n",
        "MIASCLCYLLLPATRLFRALSDAFFTCRKNVLLANSSSPQVEGDFAMAPRGPEQEECEGLLQQWREEGLSQVLST...\n",
        "MIASCLCYLLLPA RLFRA+SDAFFTCRKN LLA SSSPQVEG+FAMAPRG +QEECEGLLQQWREEG SQVLST...\n",
        "MIASCLCYLLLPAARLFRAISDAFFTCRKNALLAKSSSPQVEGNFAMAPRGLDQEECEGLLQQWREEGSSQVLST...\n",
        "\n",
        "Sequence:  gi|634849554|ref|XP_007939535.1| PREDICTED: protein angel homolog 1 [Orycteropus afer afer]\n",
        "Length: 667, e-value 0.000000\n",
        "MIASCLCYLLLPATRLFRALSDAFFTCRKNVLLANSSSPQVEGDFAMAPRGPEQEECEGLLQQWREEGLSQVLST...\n",
        "MIASCLC LLLPA RLFRALSDAFFTCRKN LLA S SPQVEGDFA+APRG EQEECEGLLQQWREEG SQ+LST...\n",
        "MIASCLCCLLLPAARLFRALSDAFFTCRKNALLAKSLSPQVEGDFALAPRGSEQEECEGLLQQWREEGSSQMLST...\n",
        "\n",
        "Sequence:  gi|344274058|ref|XP_003408835.1| PREDICTED: protein angel homolog 1 [Loxodonta africana]\n",
        "Length: 667, e-value 0.000000\n",
        "MIASCLCYLLLPATRLFRALSDAFFTCRKNVLLANSSSPQVEGDFAMAPRGPEQEECEGLLQQWREEGLSQVLST...\n",
        "MIASCLCYLLLPA RLFRALSDAFFTCRKN LLA SSS QVEGDFAMAPRGP+QEECEGLLQQWREEG SQVLST...\n",
        "MIASCLCYLLLPAARLFRALSDAFFTCRKNALLAKSSSSQVEGDFAMAPRGPDQEECEGLLQQWREEGSSQVLST...\n",
        "\n",
        "Sequence:  gi|1123951817|ref|XP_019589039.1| PREDICTED: protein angel homolog 1 isoform X2 [Rhinolophus sinicus]\n",
        "Length: 667, e-value 0.000000\n",
        "MIASCLCYLLLPATRLFRALSDAFFTCRKNVLLANSSSPQVEGDFAMAPRGPEQEECEGLLQQWREEGLSQVLST...\n",
        "MIASCLCYLLLPA RLFRALSDAFFTCRK+ LLA SSSPQVE DFAM+PRGP+QEE EGLLQQW+EE  SQVLST...\n",
        "MIASCLCYLLLPAARLFRALSDAFFTCRKSALLAKSSSPQVESDFAMSPRGPDQEEREGLLQQWQEETSSQVLST...\n",
        "\n",
        "Sequence:  gi|942037955|ref|XP_005889685.2| PREDICTED: protein angel homolog 1, partial [Bos mutus]\n",
        "Length: 658, e-value 0.000000\n",
        "LPATRLFRALSDAFFTCRKNVLLANSSSPQVEGDFAMAPRGPEQEECEGLLQQWREEGLSQVLSTASEGPLIDKG...\n",
        "LPA RLFRALSDAFFTCRKNVLLA SSS QVEG+FAMAPRGP+QEECEGLLQQWREEG SQVLST S+GPL+DKG...\n",
        "LPAARLFRALSDAFFTCRKNVLLAKSSSSQVEGNFAMAPRGPDQEECEGLLQQWREEGSSQVLSTVSDGPLVDKG...\n",
        "\n",
        "Sequence:  gi|507618954|ref|XP_004624788.1| PREDICTED: protein angel homolog 1 [Octodon degus]\n",
        "Length: 667, e-value 0.000000\n",
        "MIASCLCYLLLPATRLFRALSDAFFTCRKNVLLANSSSPQVEGDFAMAPRGPEQEECEGLLQQWREEGLSQVLST...\n",
        "MI SCLCYLLLPA RLFRA+SDAFFTCRKN LLA SS+PQVEGDFAMAPRGP+QEECEGLLQQWREEG SQVLS ...\n",
        "MIVSCLCYLLLPAARLFRAISDAFFTCRKNALLAKSSTPQVEGDFAMAPRGPDQEECEGLLQQWREEGSSQVLSA...\n",
        "\n",
        "Sequence:  gi|667248042|ref|XP_008588688.1| PREDICTED: protein angel homolog 1 [Galeopterus variegatus]\n",
        "Length: 656, e-value 0.000000\n",
        "SDAFFTCRKNVLLANSSSPQVEGDFAMAPRGPEQEECEGLLQQWREEGLSQVLSTASEGPLIDKGLAQSSLALLM...\n",
        "SDAFFTCRKN +LA SSSPQVEG+FAMAPRGP+QEECEGLLQQWREEG SQVLSTASEGPL DKGLAQSSLALLM...\n",
        "SDAFFTCRKNAVLAKSSSPQVEGNFAMAPRGPDQEECEGLLQQWREEGSSQVLSTASEGPLADKGLAQSSLALLM...\n",
        "\n",
        "Sequence:  gi|1126241554|ref|XP_019650216.1| PREDICTED: protein angel homolog 1 [Ailuropoda melanoleuca]\n",
        "Length: 675, e-value 0.000000\n",
        "DAFFTCRKNVLLANSSSPQVEGDFAMAPRGPEQEECEGLLQQWREEGLSQVLSTASEGPLIDKGLAQSSLALLMD...\n",
        "D FFTCRKN LLA SSS +VEGDFAMAPRGP+QEECEGLLQQWREEGLSQVLST+SEGPL+DKGLAQSSLALLMD...\n",
        "DVFFTCRKNALLAKSSSTKVEGDFAMAPRGPDQEECEGLLQQWREEGLSQVLSTSSEGPLVDKGLAQSSLALLMD...\n",
        "\n"
       ]
      }
     ],
     "prompt_number": 32
    },
    {
     "cell_type": "heading",
     "level": 1,
     "metadata": {},
     "source": [
      "Exercise 4"
     ]
    },
    {
     "cell_type": "code",
     "collapsed": true,
     "input": [
      "from Bio.Blast import NCBIXML\n",
      "blast_record = NCBIXML.read(open(\"ZGSHTZTP014-Alignment.xml\"))\n",
      "\n",
      "liste = []\n",
      "for alignment in blast_record.alignments:\n",
      "    for hsp in alignment.hsps:\n",
      "        if hsp.expect <= 0.001:\n",
      "            liste.append(alignment, hsp)\n",
      "print(liste)"
     ],
     "language": "python",
     "metadata": {},
     "outputs": [
      {
       "ename": "TypeError",
       "evalue": "append() takes exactly one argument (2 given)",
       "output_type": "pyerr",
       "traceback": [
        "\u001b[0;31m---------------------------------------------------------------------------\u001b[0m\n\u001b[0;31mTypeError\u001b[0m                                 Traceback (most recent call last)",
        "\u001b[0;32m<ipython-input-33-e621f33c9169>\u001b[0m in \u001b[0;36m<module>\u001b[0;34m()\u001b[0m\n\u001b[1;32m      7\u001b[0m     \u001b[0;32mfor\u001b[0m \u001b[0mhsp\u001b[0m \u001b[0;32min\u001b[0m \u001b[0malignment\u001b[0m\u001b[0;34m.\u001b[0m\u001b[0mhsps\u001b[0m\u001b[0;34m:\u001b[0m\u001b[0;34m\u001b[0m\u001b[0m\n\u001b[1;32m      8\u001b[0m         \u001b[0;32mif\u001b[0m \u001b[0mhsp\u001b[0m\u001b[0;34m.\u001b[0m\u001b[0mexpect\u001b[0m \u001b[0;34m<=\u001b[0m \u001b[0;36m0.001\u001b[0m\u001b[0;34m:\u001b[0m\u001b[0;34m\u001b[0m\u001b[0m\n\u001b[0;32m----> 9\u001b[0;31m             \u001b[0mliste\u001b[0m\u001b[0;34m.\u001b[0m\u001b[0mappend\u001b[0m\u001b[0;34m(\u001b[0m\u001b[0malignment\u001b[0m\u001b[0;34m,\u001b[0m \u001b[0mhsp\u001b[0m\u001b[0;34m)\u001b[0m\u001b[0;34m\u001b[0m\u001b[0m\n\u001b[0m\u001b[1;32m     10\u001b[0m \u001b[0mprint\u001b[0m\u001b[0;34m(\u001b[0m\u001b[0mliste\u001b[0m\u001b[0;34m)\u001b[0m\u001b[0;34m\u001b[0m\u001b[0m\n",
        "\u001b[0;31mTypeError\u001b[0m: append() takes exactly one argument (2 given)"
       ]
      }
     ],
     "prompt_number": 33
    },
    {
     "cell_type": "heading",
     "level": 1,
     "metadata": {},
     "source": [
      "TD 4"
     ]
    },
    {
     "cell_type": "heading",
     "level": 4,
     "metadata": {},
     "source": [
      "Exercise 1"
     ]
    },
    {
     "cell_type": "code",
     "collapsed": false,
     "input": [
      "#R\u00e9cup\u00e9rer des s\u00e9quences sur GenBank\n",
      "from Bio import Entrez\n",
      "from Bio import SeqIO\n",
      "nc_001416 = Entrez.efetch(id=\"NC_001416\", db=\"nucleotide\", retmode=\"text\", rettype=\"gb\", email=\"etienne.jean@etu.univ-paris-diderot.fr\")\n",
      "nc_001416 = SeqIO.read(nc_001416, \"genbank\")\n",
      "nc_002655 = Entrez.efetch(id=\"NC_002655\", db=\"nucleotide\", retmode=\"text\", rettype=\"fasta\", email=\"etienne.jean@etu.univ-paris-diderot.fr\")\n",
      "nc_002655 = SeqIO.read(nc_002655, \"fasta\")\n"
     ],
     "language": "python",
     "metadata": {},
     "outputs": [],
     "prompt_number": 64
    },
    {
     "cell_type": "code",
     "collapsed": false,
     "input": [
      "#Write them in FASTA\n",
      "SeqIO.write(nc_001416, \"NC_001416.fasta\", \"fasta\")\n",
      "SeqIO.write(nc_002655, \"NC_002655.fasta\", \"fasta\")\n"
     ],
     "language": "python",
     "metadata": {},
     "outputs": [
      {
       "metadata": {},
       "output_type": "pyout",
       "prompt_number": 65,
       "text": [
        "1"
       ]
      }
     ],
     "prompt_number": 65
    },
    {
     "cell_type": "code",
     "collapsed": false,
     "input": [
      "%%bash\n",
      "head NC_002655.fasta"
     ],
     "language": "python",
     "metadata": {},
     "outputs": [
      {
       "output_type": "stream",
       "stream": "stdout",
       "text": [
        ">NC_002655.2 Escherichia coli O157:H7 str. EDL933 genome\n",
        "AGCTTTTCATTCTGACTGCAACGGGCAATATGTCTCTGTGTGGATTAAAAAAAGAGTCTC\n",
        "TGACAGCAGCTTCTGAACTGGTTACCTGCCGTGAGTAAATTAAAATTTTATTGACTTAGG\n",
        "TCACTAAATACTTTAACCAATATAGGCATAGCGCACAGACAGATAAAAATTACAGAGTAC\n",
        "ACAACATCCATGAAACGCATTAGCACCACCATTACCACCACCATCACCACCACCATCACC\n",
        "ATTACCATTACCACAGGTAACGGTGCGGGCTGACGCGTACAGGAAACACAGAAAAAAGCC\n",
        "CGCACCTGACAGTGCGGGCTTTTTTTTCGACCAAAGGTAACGAGGTAACAACCATGCGAG\n",
        "TGTTGAAGTTCGGCGGTACATCAGTGGCAAATGCAGAACGTTTTCTGCGGGTTGCCGATA\n",
        "TTCTGGAAAGCAATGCCAGGCAGGGGCAGGTGGCCACCGTCCTCTCTGCCCCCGCCAAAA\n",
        "TCACCAACCACCTGGTGGCGATGATTGAAAAAACCATTAGCGGCCAGGATGCTTTACCCA\n"
       ]
      }
     ],
     "prompt_number": 66
    },
    {
     "cell_type": "heading",
     "level": 4,
     "metadata": {},
     "source": [
      "Exercise 2"
     ]
    },
    {
     "cell_type": "code",
     "collapsed": false,
     "input": [
      "import random"
     ],
     "language": "python",
     "metadata": {},
     "outputs": [],
     "prompt_number": 99
    },
    {
     "cell_type": "code",
     "collapsed": false,
     "input": [
      "print(nc_001416.seq.count(\"GCTCC\"))\n",
      "print(nc_002655.seq.count(\"GCTCC\"))\n",
      "print(nc_001416.seq.count(\"GCTGG\"))\n",
      "print(nc_002655.seq.count(\"GCTGG\"))\n"
     ],
     "language": "python",
     "metadata": {},
     "outputs": [
      {
       "output_type": "stream",
       "stream": "stdout",
       "text": [
        "20\n",
        "3257\n",
        "124\n",
        "14894\n"
       ]
      }
     ],
     "prompt_number": 68
    },
    {
     "cell_type": "code",
     "collapsed": false,
     "input": [
      "%%time\n",
      "a = 0\n",
      "for _ in range(10000000):\n",
      "    a += 1\n",
      "a"
     ],
     "language": "python",
     "metadata": {},
     "outputs": [
      {
       "output_type": "stream",
       "stream": "stdout",
       "text": [
        "CPU times: user 596 ms, sys: 0 ns, total: 596 ms\n",
        "Wall time: 603 ms\n"
       ]
      }
     ],
     "prompt_number": 97
    },
    {
     "cell_type": "code",
     "collapsed": false,
     "input": [
      "%%time\n",
      "gctcc_001416 = []\n",
      "seqlist = list(nc_001416.seq)\n",
      "for _ in range(1000):\n",
      "    random.shuffle(seqlist)\n",
      "    seqstr=\"\".join(seqlist)\n",
      "    gctcc_001416.append(seqstr.count(\"GCTCC\"))\n",
      "print(gctcc_001416[:10])"
     ],
     "language": "python",
     "metadata": {},
     "outputs": [
      {
       "output_type": "stream",
       "stream": "stdout",
       "text": [
        "[46, 39, 34, 30, 36, 37, 46, 23, 43, 35]\n",
        "CPU times: user 22.3 s, sys: 0 ns, total: 22.3 s\n",
        "Wall time: 22.3 s\n"
       ]
      }
     ],
     "prompt_number": 103
    },
    {
     "cell_type": "code",
     "collapsed": false,
     "input": [
      "len(gctcc_001416)"
     ],
     "language": "python",
     "metadata": {},
     "outputs": [
      {
       "metadata": {},
       "output_type": "pyout",
       "prompt_number": 104,
       "text": [
        "1000"
       ]
      }
     ],
     "prompt_number": 104
    },
    {
     "cell_type": "code",
     "collapsed": false,
     "input": [
      "num = 0\n",
      "thecount = nc_001416.seq.count(\"GCTCC\")\n",
      "for count in gctcc_001416:\n",
      "    if count <= thecount:\n",
      "        num += 1\n",
      "pvalue = num/1000\n",
      "print(pvalue)"
     ],
     "language": "python",
     "metadata": {},
     "outputs": [
      {
       "output_type": "stream",
       "stream": "stdout",
       "text": [
        "0.0\n"
       ]
      }
     ],
     "prompt_number": 110
    },
    {
     "cell_type": "code",
     "collapsed": false,
     "input": [
      "import matplotlib.pyplot as plt\n",
      "\n",
      "distrib = plt.hist(gctcc_001416, 10, normed=1, facecolor=\"blue\")\n",
      "plt.xlabel('counts')\n",
      "plt.ylabel('frequency')\n",
      "plt.title('Distribution of the counts')\n",
      "plt.grid(True)\n",
      "plt.axvline(20, color='r')\n",
      "plt.axis([15, 65, 0, 0.08])\n",
      "plt.show()"
     ],
     "language": "python",
     "metadata": {},
     "outputs": [],
     "prompt_number": 139
    },
    {
     "cell_type": "code",
     "collapsed": false,
     "input": [],
     "language": "python",
     "metadata": {},
     "outputs": []
    }
   ],
   "metadata": {}
  }
 ]
}