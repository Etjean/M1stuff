{
 "metadata": {
  "name": "",
  "signature": "sha256:521f5662f9423968900f45a7f9cb449178cf07a542b53b89991b2799b65c4a34"
 },
 "nbformat": 3,
 "nbformat_minor": 0,
 "worksheets": [
  {
   "cells": [
    {
     "cell_type": "heading",
     "level": 1,
     "metadata": {},
     "source": [
      "TD6"
     ]
    },
    {
     "cell_type": "heading",
     "level": 3,
     "metadata": {},
     "source": [
      "Partie I"
     ]
    },
    {
     "cell_type": "code",
     "collapsed": false,
     "input": [
      "import os\n",
      "import numpy as np"
     ],
     "language": "python",
     "metadata": {},
     "outputs": [],
     "prompt_number": 26
    },
    {
     "cell_type": "code",
     "collapsed": false,
     "input": [
      "help(os.system)"
     ],
     "language": "python",
     "metadata": {},
     "outputs": [
      {
       "output_type": "stream",
       "stream": "stdout",
       "text": [
        "Help on built-in function system in module posix:\n",
        "\n",
        "system(command)\n",
        "    Execute the command in a subshell.\n",
        "\n"
       ]
      }
     ],
     "prompt_number": 27
    },
    {
     "cell_type": "code",
     "collapsed": false,
     "input": [
      "os.system(\"rm -f mod2.tab\")\n",
      "for _ in range(100):\n",
      "    os.system(\"shuffleseq -sequence query.fasta -outseq shuffled_query.fasta\")\n",
      "    os.system(\"water -asequence shuffled_query.fasta -bsequence db.fasta -gapopen 10.0 -gapextend 0.5 \\\n",
      "              -datafile EBLOSUM62 -outfile out.water\")\n",
      "    os.system(\"grep Score out.water | cut -d \\\" \\\" -f 3 | paste -s -d + | bc >> mod2.tab\")"
     ],
     "language": "python",
     "metadata": {},
     "outputs": [],
     "prompt_number": 23
    },
    {
     "cell_type": "code",
     "collapsed": false,
     "input": [
      "#lit le fichier de scores et en extrait la liste des scores\n",
      "with open(\"mod2.tab\", \"r\") as filin:\n",
      "    scores = [float(sc[:-2]) for sc in filin.readlines()]\n",
      "    print(scores)\n"
     ],
     "language": "python",
     "metadata": {},
     "outputs": [
      {
       "output_type": "stream",
       "stream": "stdout",
       "text": [
        "[12266.0, 9484.0, 12819.0, 9468.0, 11025.0, 10369.0, 11159.0, 13315.0, 10622.0, 9815.0, 11171.0, 11186.0, 14213.0, 11904.0, 9715.0, 10484.0, 10317.0, 12142.0, 11168.0, 12126.0, 11398.0, 10411.0, 10015.0, 9731.0, 11382.0, 11886.0, 9450.0, 10191.0, 9373.0, 9872.0, 9720.0, 10723.0, 11838.0, 11457.0, 11808.0, 11047.0, 12439.0, 9351.0, 9945.0, 13047.0, 13403.0, 12838.0, 12911.0, 13639.0, 11481.0, 13979.0, 13674.0, 11075.0, 9498.0, 11325.0, 10393.0, 10529.0, 9486.0, 10728.0, 12886.0, 11345.0, 10107.0, 12891.0, 10260.0, 9709.0, 10831.0, 12356.0, 11005.0, 13711.0, 13114.0, 12606.0, 9126.0, 12083.0, 10605.0, 10339.0, 10831.0, 12158.0, 14804.0, 11763.0, 10434.0, 10021.0, 11624.0, 12696.0, 13570.0, 11137.0, 10829.0, 9960.0, 10812.0, 10960.0, 11124.0, 12169.0, 11276.0, 11182.0, 10242.0, 12025.0, 10868.0, 13001.0, 10955.0, 11433.0, 10890.0, 10191.0, 11406.0, 10620.0, 10160.0, 11095.0]\n"
       ]
      }
     ],
     "prompt_number": 34
    },
    {
     "cell_type": "code",
     "collapsed": false,
     "input": [
      "score_obs = 18020.5\n",
      "\n",
      "#mean, var, std\n",
      "print(\"Mean      = {:>12.3f}\".format(np.mean(scores)))\n",
      "print(\"Variance  = {:>12.3f}\".format(np.var(scores)))\n",
      "print(\"Std       = {:>12.3f}\".format(np.std(scores)))\n",
      "\n",
      "#pvalue\n",
      "pvalue = 0\n",
      "for sc in scores:\n",
      "    if sc >= score_obs:\n",
      "        pvalue += 1\n",
      "pvalue /=len(scores)\n",
      "print(\"P-value   = {:>12.3f}\".format(pvalue))\n",
      "\n",
      "#zscore\n",
      "zscore = (score_obs - np.mean(scores))/np.std(scores)\n",
      "print(\"Z-score   = {:>12.3f}\".format(zscore))"
     ],
     "language": "python",
     "metadata": {},
     "outputs": [
      {
       "output_type": "stream",
       "stream": "stdout",
       "text": [
        "Mean      =    11280.210\n",
        "Variance  =  1605029.406\n",
        "Std       =     1266.898\n",
        "P-value   =        0.000\n",
        "Z-score   =        5.320\n"
       ]
      }
     ],
     "prompt_number": 52
    },
    {
     "cell_type": "code",
     "collapsed": false,
     "input": [],
     "language": "python",
     "metadata": {},
     "outputs": [],
     "prompt_number": 34
    },
    {
     "cell_type": "code",
     "collapsed": false,
     "input": [],
     "language": "python",
     "metadata": {},
     "outputs": [],
     "prompt_number": 34
    },
    {
     "cell_type": "code",
     "collapsed": false,
     "input": [],
     "language": "python",
     "metadata": {},
     "outputs": [],
     "prompt_number": 34
    },
    {
     "cell_type": "code",
     "collapsed": false,
     "input": [],
     "language": "python",
     "metadata": {},
     "outputs": [],
     "prompt_number": 34
    },
    {
     "cell_type": "code",
     "collapsed": false,
     "input": [],
     "language": "python",
     "metadata": {},
     "outputs": [],
     "prompt_number": 34
    },
    {
     "cell_type": "code",
     "collapsed": false,
     "input": [],
     "language": "python",
     "metadata": {},
     "outputs": [],
     "prompt_number": 44
    },
    {
     "cell_type": "code",
     "collapsed": false,
     "input": [],
     "language": "python",
     "metadata": {},
     "outputs": [],
     "prompt_number": 44
    },
    {
     "cell_type": "code",
     "collapsed": false,
     "input": [],
     "language": "python",
     "metadata": {},
     "outputs": [],
     "prompt_number": 44
    },
    {
     "cell_type": "code",
     "collapsed": false,
     "input": [],
     "language": "python",
     "metadata": {},
     "outputs": [],
     "prompt_number": 44
    },
    {
     "cell_type": "code",
     "collapsed": false,
     "input": [],
     "language": "python",
     "metadata": {},
     "outputs": [],
     "prompt_number": 44
    },
    {
     "cell_type": "code",
     "collapsed": false,
     "input": [],
     "language": "python",
     "metadata": {},
     "outputs": [],
     "prompt_number": 44
    },
    {
     "cell_type": "code",
     "collapsed": false,
     "input": [],
     "language": "python",
     "metadata": {},
     "outputs": [],
     "prompt_number": 44
    },
    {
     "cell_type": "code",
     "collapsed": false,
     "input": [],
     "language": "python",
     "metadata": {},
     "outputs": []
    }
   ],
   "metadata": {}
  }
 ]
}