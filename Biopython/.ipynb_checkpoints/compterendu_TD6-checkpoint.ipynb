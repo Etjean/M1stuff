{
 "metadata": {
  "name": "",
  "signature": "sha256:6a30ec92819c57b4b3cb88e5f07d71edb4a2e9e91809b156aee960645e135255"
 },
 "nbformat": 3,
 "nbformat_minor": 0,
 "worksheets": [
  {
   "cells": [
    {
     "cell_type": "heading",
     "level": 1,
     "metadata": {},
     "source": [
      "TD6"
     ]
    },
    {
     "cell_type": "heading",
     "level": 3,
     "metadata": {},
     "source": [
      "Partie I"
     ]
    },
    {
     "cell_type": "code",
     "collapsed": false,
     "input": [
      "import os\n",
      "import numpy as np"
     ],
     "language": "python",
     "metadata": {},
     "outputs": [],
     "prompt_number": 21
    },
    {
     "cell_type": "code",
     "collapsed": false,
     "input": [
      "#Calcul le score observ\u00e9\n",
      "blosum = 50\n",
      "\n",
      "if blosum == 62:\n",
      "    os.system(\"water -asequence query.fasta -bsequence db.fasta -gapopen 10.0 -gapextend 0.5 \\\n",
      "              -datafile EBLOSUM62 -outfile out.water\")\n",
      "elif blosum == 40:\n",
      "    os.system(\"water -asequence query.fasta -bsequence db.fasta -gapopen 0.1 -gapextend 0.0005 \\\n",
      "              -datafile EBLOSUM40 -outfile out.water\")\n",
      "elif blosum == 50:\n",
      "    os.system(\"water -asequence query.fasta -bsequence db.fasta -gapopen 100.0 -gapextend 10.0 \\\n",
      "              -datafile EBLOSUM50 -outfile out.water\")\n",
      "os.system(\"grep Score out.water | cut -d \\\" \\\" -f 3 | paste -s -d + | bc\")\n",
      "#blosum62 18020.5\n",
      "#blosum40 148456.412\n",
      "#blosum50 14566.0"
     ],
     "language": "python",
     "metadata": {},
     "outputs": [
      {
       "metadata": {},
       "output_type": "pyout",
       "prompt_number": 26,
       "text": [
        "0"
       ]
      }
     ],
     "prompt_number": 26
    },
    {
     "cell_type": "code",
     "collapsed": false,
     "input": [
      "#G\u00e9nere les s\u00e9quences al\u00e9atoires et calcul les scores\n",
      "mod = 1   #attention, il faut aussi changer ce qui est shuffl\u00e9 dans les lignes de commande\n",
      "os.system(\"rm -f mod\"+str(mod)+\"_bl\"+str(blosum)+\".tab\")\n",
      "for _ in range(100):\n",
      "    os.system(\"shuffleseq -sequence query.fasta -outseq shuffled_query.fasta\")\n",
      "    os.system(\"shuffleseq -sequence db.fasta -outseq shuffled_db.fasta\")\n",
      "    if blosum == 62:\n",
      "        os.system(\"water -asequence shuffled_query.fasta -bsequence shuffled_db.fasta -gapopen 10.0 -gapextend 0.5 \\\n",
      "                  -datafile EBLOSUM62 -outfile out.water\")\n",
      "        os.system(\"grep Score out.water | cut -d \\\" \\\" -f 3 | paste -s -d + | bc >> mod\"+str(mod)+\"_bl62.tab\")\n",
      "    elif blosum == 40:\n",
      "        os.system(\"water -asequence shuffled_query.fasta -bsequence shuffled_db.fasta -gapopen 0.1 -gapextend 0.0005 \\\n",
      "                  -datafile EBLOSUM40 -outfile out.water\")\n",
      "        os.system(\"grep Score out.water | cut -d \\\" \\\" -f 3 | paste -s -d + | bc >> mod\"+str(mod)+\"_bl40.tab\")\n",
      "    elif blosum == 50:\n",
      "        os.system(\"water -asequence shuffled_query.fasta -bsequence shuffled_db.fasta -gapopen 100.0 -gapextend 10.0 \\\n",
      "                  -datafile EBLOSUM50 -outfile out.water\")\n",
      "        os.system(\"grep Score out.water | cut -d \\\" \\\" -f 3 | paste -s -d + | bc >> mod\"+str(mod)+\"_bl50.tab\")\n"
     ],
     "language": "python",
     "metadata": {},
     "outputs": [],
     "prompt_number": 23
    },
    {
     "cell_type": "code",
     "collapsed": false,
     "input": [
      "#lit le fichier de scores et en extrait la liste des scores\n",
      "with open(\"mod\"+str(mod)+\"_bl\"+str(blosum)+\".tab\", \"r\") as filin:\n",
      "    scores = [float(sc[:-2]) for sc in filin.readlines()]\n",
      "    print(scores)\n"
     ],
     "language": "python",
     "metadata": {},
     "outputs": [
      {
       "output_type": "stream",
       "stream": "stdout",
       "text": [
        "[12303.0, 12165.0, 12218.0, 12123.0, 12158.0, 12243.0, 12016.0, 12151.0, 12379.0, 12036.0, 12367.0, 12178.0, 12282.0, 12429.0, 12031.0, 12175.0, 12114.0, 12144.0, 12297.0, 12156.0, 12131.0, 12125.0, 12293.0, 12084.0, 12113.0, 12143.0, 12279.0, 12097.0, 12365.0, 12206.0, 12108.0, 12269.0, 12163.0, 12035.0, 12197.0, 12155.0, 12286.0, 11975.0, 12258.0, 12270.0, 12174.0, 12160.0, 12369.0, 12196.0, 11997.0, 12294.0, 12166.0, 12248.0, 12082.0, 12214.0, 12374.0, 12193.0, 12223.0, 12219.0, 12382.0, 12197.0, 12271.0, 12226.0, 12292.0, 12215.0, 12195.0, 12264.0, 12312.0, 12160.0, 12278.0, 12216.0, 12184.0, 12021.0, 12216.0, 12228.0, 12259.0, 12136.0, 12097.0, 12470.0, 12239.0, 12093.0, 12311.0, 12423.0, 12304.0, 12264.0, 12208.0, 12160.0, 12054.0, 12017.0, 12340.0, 12234.0, 12022.0, 12134.0, 12218.0, 12229.0, 12199.0, 12283.0, 12306.0, 12239.0, 12245.0, 12247.0, 12199.0, 12277.0, 12359.0, 12009.0]\n"
       ]
      }
     ],
     "prompt_number": 27
    },
    {
     "cell_type": "code",
     "collapsed": false,
     "input": [
      "score_obs = 14566.0\n",
      "\n",
      "#mean, var, std\n",
      "print(\"Mean      = {:>12.3f}\".format(np.mean(scores)))\n",
      "print(\"Variance  = {:>12.3f}\".format(np.var(scores)))\n",
      "print(\"Std       = {:>12.3f}\".format(np.std(scores)))\n",
      "\n",
      "#pvalue\n",
      "pvalue = 0\n",
      "for sc in scores:\n",
      "    if sc >= score_obs:\n",
      "        pvalue += 1\n",
      "pvalue /=len(scores)\n",
      "print(\"P-value   = {:>12.3f}\".format(pvalue))\n",
      "\n",
      "#zscore\n",
      "zscore = (score_obs - np.mean(scores))/np.std(scores)\n",
      "print(\"Z-score   = {:>12.3f}\".format(zscore))"
     ],
     "language": "python",
     "metadata": {},
     "outputs": [
      {
       "output_type": "stream",
       "stream": "stdout",
       "text": [
        "Mean      =    12206.580\n",
        "Variance  =    10709.184\n",
        "Std       =      103.485\n",
        "P-value   =        0.000\n",
        "Z-score   =       22.800\n"
       ]
      }
     ],
     "prompt_number": 28
    },
    {
     "cell_type": "code",
     "collapsed": false,
     "input": [],
     "language": "python",
     "metadata": {},
     "outputs": [],
     "prompt_number": 34
    },
    {
     "cell_type": "code",
     "collapsed": false,
     "input": [],
     "language": "python",
     "metadata": {},
     "outputs": [],
     "prompt_number": 34
    },
    {
     "cell_type": "code",
     "collapsed": false,
     "input": [],
     "language": "python",
     "metadata": {},
     "outputs": [],
     "prompt_number": 34
    },
    {
     "cell_type": "code",
     "collapsed": false,
     "input": [],
     "language": "python",
     "metadata": {},
     "outputs": [],
     "prompt_number": 34
    },
    {
     "cell_type": "code",
     "collapsed": false,
     "input": [],
     "language": "python",
     "metadata": {},
     "outputs": [],
     "prompt_number": 44
    },
    {
     "cell_type": "code",
     "collapsed": false,
     "input": [],
     "language": "python",
     "metadata": {},
     "outputs": [],
     "prompt_number": 44
    },
    {
     "cell_type": "code",
     "collapsed": false,
     "input": [],
     "language": "python",
     "metadata": {},
     "outputs": [],
     "prompt_number": 44
    },
    {
     "cell_type": "code",
     "collapsed": false,
     "input": [],
     "language": "python",
     "metadata": {},
     "outputs": [],
     "prompt_number": 44
    },
    {
     "cell_type": "code",
     "collapsed": false,
     "input": [],
     "language": "python",
     "metadata": {},
     "outputs": [],
     "prompt_number": 44
    },
    {
     "cell_type": "code",
     "collapsed": false,
     "input": [],
     "language": "python",
     "metadata": {},
     "outputs": [],
     "prompt_number": 44
    },
    {
     "cell_type": "code",
     "collapsed": false,
     "input": [],
     "language": "python",
     "metadata": {},
     "outputs": [],
     "prompt_number": 44
    },
    {
     "cell_type": "code",
     "collapsed": false,
     "input": [],
     "language": "python",
     "metadata": {},
     "outputs": []
    }
   ],
   "metadata": {}
  }
 ]
}