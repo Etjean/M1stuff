{
 "metadata": {
  "name": "",
  "signature": "sha256:c286d3b1bb026686db0dbcf2ace874b5eb1214ec41d57587488e93721da21ce5"
 },
 "nbformat": 3,
 "nbformat_minor": 0,
 "worksheets": [
  {
   "cells": [
    {
     "cell_type": "heading",
     "level": 1,
     "metadata": {},
     "source": [
      "TD6"
     ]
    },
    {
     "cell_type": "heading",
     "level": 3,
     "metadata": {},
     "source": [
      "Partie I"
     ]
    },
    {
     "cell_type": "code",
     "collapsed": false,
     "input": [
      "import os\n",
      "import numpy as np"
     ],
     "language": "python",
     "metadata": {},
     "outputs": [],
     "prompt_number": 2
    },
    {
     "cell_type": "code",
     "collapsed": false,
     "input": [
      "#Calcul le score observ\u00e9\n",
      "blosum = 50\n",
      "\n",
      "if blosum == 62:\n",
      "    os.system(\"water -asequence query.fasta -bsequence db.fasta -gapopen 10.0 -gapextend 0.5 \\\n",
      "              -datafile EBLOSUM62 -outfile out.water\")\n",
      "elif blosum == 40:\n",
      "    os.system(\"water -asequence query.fasta -bsequence db.fasta -gapopen 0.1 -gapextend 0.0005 \\\n",
      "              -datafile EBLOSUM40 -outfile out.water\")\n",
      "elif blosum == 50:\n",
      "    os.system(\"water -asequence query.fasta -bsequence db.fasta -gapopen 100.0 -gapextend 10.0 \\\n",
      "              -datafile EBLOSUM62 -outfile out.water\")\n",
      "os.system(\"grep Score out.water | cut -d \\\" \\\" -f 3 | paste -s -d + | bc\")\n",
      "#blosum62 18020.5\n",
      "#blosum40 148456.412\n",
      "#blosum50 11065.0"
     ],
     "language": "python",
     "metadata": {},
     "outputs": [
      {
       "metadata": {},
       "output_type": "pyout",
       "prompt_number": 10,
       "text": [
        "0"
       ]
      }
     ],
     "prompt_number": 10
    },
    {
     "cell_type": "code",
     "collapsed": false,
     "input": [
      "#G\u00e9nere les s\u00e9quences al\u00e9atoires et calcul les scores\n",
      "mod = 1   #attention, il faut aussi changer ce qui est shuffl\u00e9 dans les lignes de commande\n",
      "os.system(\"rm -f mod\"+str(mod)+\".tab\")\n",
      "for _ in range(100):\n",
      "    os.system(\"shuffleseq -sequence query.fasta -outseq shuffled_query.fasta\")\n",
      "    os.system(\"shuffleseq -sequence db.fasta -outseq shuffled_db.fasta\")\n",
      "    if blosum == 62:\n",
      "        os.system(\"water -asequence shuffled_query.fasta -bsequence shuffled_db.fasta -gapopen 10.0 -gapextend 0.5 \\\n",
      "                  -datafile EBLOSUM62 -outfile out.water\")\n",
      "    elif blosum == 40:\n",
      "        os.system(\"water -asequence shuffled_query.fasta -bsequence shuffled_db.fasta -gapopen 0.1 -gapextend 0.0005 \\\n",
      "                  -datafile EBLOSUM40 -outfile out.water\")\n",
      "    elif blosum == 50:\n",
      "        os.system(\"water -asequence shuffled_query.fasta -bsequence shuffled_db.fasta -gapopen 100.0 -gapextend 10.0 \\\n",
      "                  -datafile EBLOSUM50 -outfile out.water\")\n",
      "    os.system(\"grep Score out.water | cut -d \\\" \\\" -f 3 | paste -s -d + | bc >> mod\"+str(mod)+\".tab\")"
     ],
     "language": "python",
     "metadata": {},
     "outputs": [],
     "prompt_number": 11
    },
    {
     "cell_type": "code",
     "collapsed": false,
     "input": [
      "#lit le fichier de scores et en extrait la liste des scores\n",
      "with open(\"mod1.tab\", \"r\") as filin:\n",
      "    scores = [float(sc[:-2]) for sc in filin.readlines()]\n",
      "    print(scores)\n"
     ],
     "language": "python",
     "metadata": {},
     "outputs": [
      {
       "output_type": "stream",
       "stream": "stdout",
       "text": [
        "[12273.0, 12159.0, 12093.0, 12126.0, 12161.0, 12088.0, 12111.0, 12389.0, 12163.0, 12136.0, 12302.0, 12208.0, 12088.0, 12130.0, 12124.0, 12188.0, 12050.0, 12194.0, 12243.0, 12110.0, 12146.0, 12403.0, 12255.0, 11943.0, 12199.0, 12198.0, 12089.0, 12066.0, 12210.0, 12305.0, 12229.0, 12109.0, 12440.0, 12099.0, 12244.0, 12050.0, 12376.0, 12182.0, 12195.0, 12378.0, 12223.0, 12346.0, 11988.0, 12256.0, 12373.0, 12213.0, 12103.0, 12110.0, 12095.0, 12282.0, 12117.0, 12088.0, 12301.0, 12229.0, 12133.0, 12297.0, 12100.0, 12188.0, 12187.0, 12209.0, 12129.0, 12180.0, 12203.0, 12156.0, 12196.0, 12151.0, 12366.0, 12077.0, 12291.0, 12358.0, 12259.0, 12128.0, 12315.0, 11974.0, 12208.0, 12199.0, 12148.0, 12446.0, 12215.0, 12354.0, 12347.0, 12007.0, 12191.0, 12136.0, 12283.0, 12384.0, 12117.0, 12330.0, 12152.0, 12055.0, 12137.0, 12307.0, 12270.0, 12162.0, 12108.0, 12279.0, 12277.0, 12171.0, 12029.0, 12086.0]\n"
       ]
      }
     ],
     "prompt_number": 12
    },
    {
     "cell_type": "code",
     "collapsed": false,
     "input": [
      "score_obs = 11065.0\n",
      "\n",
      "#mean, var, std\n",
      "print(\"Mean      = {:>12.3f}\".format(np.mean(scores)))\n",
      "print(\"Variance  = {:>12.3f}\".format(np.var(scores)))\n",
      "print(\"Std       = {:>12.3f}\".format(np.std(scores)))\n",
      "\n",
      "#pvalue\n",
      "pvalue = 0\n",
      "for sc in scores:\n",
      "    if sc >= score_obs:\n",
      "        pvalue += 1\n",
      "pvalue /=len(scores)\n",
      "print(\"P-value   = {:>12.3f}\".format(pvalue))\n",
      "\n",
      "#zscore\n",
      "zscore = (score_obs - np.mean(scores))/np.std(scores)\n",
      "print(\"Z-score   = {:>12.3f}\".format(zscore))"
     ],
     "language": "python",
     "metadata": {},
     "outputs": [
      {
       "output_type": "stream",
       "stream": "stdout",
       "text": [
        "Mean      =    12194.710\n",
        "Variance  =    11419.446\n",
        "Std       =      106.862\n",
        "P-value   =        1.000\n",
        "Z-score   =      -10.572\n"
       ]
      }
     ],
     "prompt_number": 13
    },
    {
     "cell_type": "code",
     "collapsed": false,
     "input": [],
     "language": "python",
     "metadata": {},
     "outputs": [],
     "prompt_number": 34
    },
    {
     "cell_type": "code",
     "collapsed": false,
     "input": [],
     "language": "python",
     "metadata": {},
     "outputs": [],
     "prompt_number": 34
    },
    {
     "cell_type": "code",
     "collapsed": false,
     "input": [],
     "language": "python",
     "metadata": {},
     "outputs": [],
     "prompt_number": 34
    },
    {
     "cell_type": "code",
     "collapsed": false,
     "input": [],
     "language": "python",
     "metadata": {},
     "outputs": [],
     "prompt_number": 34
    },
    {
     "cell_type": "code",
     "collapsed": false,
     "input": [],
     "language": "python",
     "metadata": {},
     "outputs": [],
     "prompt_number": 34
    },
    {
     "cell_type": "code",
     "collapsed": false,
     "input": [],
     "language": "python",
     "metadata": {},
     "outputs": [],
     "prompt_number": 44
    },
    {
     "cell_type": "code",
     "collapsed": false,
     "input": [],
     "language": "python",
     "metadata": {},
     "outputs": [],
     "prompt_number": 44
    },
    {
     "cell_type": "code",
     "collapsed": false,
     "input": [],
     "language": "python",
     "metadata": {},
     "outputs": [],
     "prompt_number": 44
    },
    {
     "cell_type": "code",
     "collapsed": false,
     "input": [],
     "language": "python",
     "metadata": {},
     "outputs": [],
     "prompt_number": 44
    },
    {
     "cell_type": "code",
     "collapsed": false,
     "input": [],
     "language": "python",
     "metadata": {},
     "outputs": [],
     "prompt_number": 44
    },
    {
     "cell_type": "code",
     "collapsed": false,
     "input": [],
     "language": "python",
     "metadata": {},
     "outputs": [],
     "prompt_number": 44
    },
    {
     "cell_type": "code",
     "collapsed": false,
     "input": [],
     "language": "python",
     "metadata": {},
     "outputs": [],
     "prompt_number": 44
    },
    {
     "cell_type": "code",
     "collapsed": false,
     "input": [],
     "language": "python",
     "metadata": {},
     "outputs": []
    }
   ],
   "metadata": {}
  }
 ]
}