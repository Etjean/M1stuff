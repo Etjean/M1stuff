{
 "metadata": {
  "name": "",
  "signature": "sha256:0ebe2c5774d70002359d4e6e12bca0b456067cd235e10414ff05297befe42e40"
 },
 "nbformat": 3,
 "nbformat_minor": 0,
 "worksheets": [
  {
   "cells": [
    {
     "cell_type": "heading",
     "level": 1,
     "metadata": {},
     "source": [
      "Cours"
     ]
    },
    {
     "cell_type": "code",
     "collapsed": false,
     "input": [
      "# Creation of a Bio.Seq object\n",
      "from Bio.Seq import Seq\n",
      "my_seq = Seq(\"AGTACACTGGTC\")\n",
      "my_seq\n",
      "print(my_seq)\n",
      "my_seq.alphabet"
     ],
     "language": "python",
     "metadata": {},
     "outputs": [
      {
       "output_type": "stream",
       "stream": "stdout",
       "text": [
        "AGTACACTGGTC\n"
       ]
      },
      {
       "metadata": {},
       "output_type": "pyout",
       "prompt_number": 1,
       "text": [
        "Alphabet()"
       ]
      }
     ],
     "prompt_number": 1
    },
    {
     "cell_type": "code",
     "collapsed": false,
     "input": [
      "# Specifying the alphabet\n",
      "from Bio.Alphabet import IUPAC\n",
      "my_seq = Seq(\"AGTACACTGGTC\", IUPAC.unambiguous_dna)\n",
      "my_seq\n",
      "print(my_seq)\n",
      "my_seq.alphabet"
     ],
     "language": "python",
     "metadata": {},
     "outputs": [
      {
       "output_type": "stream",
       "stream": "stdout",
       "text": [
        "AGTACACTGGTC\n"
       ]
      },
      {
       "metadata": {},
       "output_type": "pyout",
       "prompt_number": 2,
       "text": [
        "IUPACUnambiguousDNA()"
       ]
      }
     ],
     "prompt_number": 2
    },
    {
     "cell_type": "code",
     "collapsed": false,
     "input": [
      "#Bio.Seq objects behave *like* strings\n",
      "for index, letter in enumerate(my_seq):\n",
      "    #print(\"%i %s\" % (index, letter))\n",
      "    print(\"{} {}\".format(index, letter))"
     ],
     "language": "python",
     "metadata": {},
     "outputs": [
      {
       "output_type": "stream",
       "stream": "stdout",
       "text": [
        "0 A\n",
        "1 G\n",
        "2 T\n",
        "3 A\n",
        "4 C\n",
        "5 A\n",
        "6 C\n",
        "7 T\n",
        "8 G\n",
        "9 G\n",
        "10 T\n",
        "11 C\n"
       ]
      }
     ],
     "prompt_number": 3
    },
    {
     "cell_type": "code",
     "collapsed": false,
     "input": [
      "# Type check\n",
      "isinstance(my_seq, str)"
     ],
     "language": "python",
     "metadata": {},
     "outputs": [
      {
       "metadata": {},
       "output_type": "pyout",
       "prompt_number": 4,
       "text": [
        "False"
       ]
      }
     ],
     "prompt_number": 4
    },
    {
     "cell_type": "code",
     "collapsed": false,
     "input": [
      "# Concatenation does not work if alphabets are different\n",
      "my_prot = Seq(\"ARGVFP\", IUPAC.protein)\n",
      "#my_seq + my_prot"
     ],
     "language": "python",
     "metadata": {},
     "outputs": [],
     "prompt_number": 5
    },
    {
     "cell_type": "code",
     "collapsed": false,
     "input": [
      "# Some methods associated to Bio.Seq\n",
      "print(my_seq.complement())\n",
      "print(my_seq.reverse_complement())\n",
      "mRNA = my_seq.transcribe()\n",
      "print(mRNA)\n",
      "print(my_seq.translate())\n",
      "print(mRNA.translate())"
     ],
     "language": "python",
     "metadata": {},
     "outputs": [
      {
       "output_type": "stream",
       "stream": "stdout",
       "text": [
        "TCATGTGACCAG\n",
        "GACCAGTGTACT\n",
        "AGUACACUGGUC\n",
        "STLV\n",
        "STLV\n"
       ]
      }
     ],
     "prompt_number": 6
    },
    {
     "cell_type": "code",
     "collapsed": false,
     "input": [
      "#Bio.Seq items are not mutable\n",
      "#my_seq[5] = \"G\" #doesn't work\n",
      "\n",
      "#Convert to MUTABLE\n",
      "mutable_seq = my_seq.tomutable()\n",
      "mutable_seq"
     ],
     "language": "python",
     "metadata": {},
     "outputs": [
      {
       "metadata": {},
       "output_type": "pyout",
       "prompt_number": 7,
       "text": [
        "MutableSeq('AGTACACTGGTC', IUPACUnambiguousDNA())"
       ]
      }
     ],
     "prompt_number": 7
    },
    {
     "cell_type": "code",
     "collapsed": false,
     "input": [
      "#Then mutate it.\n",
      "mutable_seq[5] = \"G\"\n",
      "mutable_seq"
     ],
     "language": "python",
     "metadata": {},
     "outputs": [
      {
       "metadata": {},
       "output_type": "pyout",
       "prompt_number": 8,
       "text": [
        "MutableSeq('AGTACGCTGGTC', IUPACUnambiguousDNA())"
       ]
      }
     ],
     "prompt_number": 8
    },
    {
     "cell_type": "markdown",
     "metadata": {},
     "source": [
      "#Exercise 1"
     ]
    },
    {
     "cell_type": "code",
     "collapsed": false,
     "input": [
      "seq = Seq(\"ATGATCGGCTATAGGATCCCTACGTCGCATGACTAGGGC\")\n",
      "len(seq)"
     ],
     "language": "python",
     "metadata": {},
     "outputs": [
      {
       "metadata": {},
       "output_type": "pyout",
       "prompt_number": 9,
       "text": [
        "39"
       ]
      }
     ],
     "prompt_number": 9
    },
    {
     "cell_type": "code",
     "collapsed": false,
     "input": [
      "for index, letter in enumerate(seq):\n",
      "    print(\"{} {}\".format(index, letter))"
     ],
     "language": "python",
     "metadata": {},
     "outputs": [
      {
       "output_type": "stream",
       "stream": "stdout",
       "text": [
        "0 A\n",
        "1 T\n",
        "2 G\n",
        "3 A\n",
        "4 T\n",
        "5 C\n",
        "6 G\n",
        "7 G\n",
        "8 C\n",
        "9 T\n",
        "10 A\n",
        "11 T\n",
        "12 A\n",
        "13 G\n",
        "14 G\n",
        "15 A\n",
        "16 T\n",
        "17 C\n",
        "18 C\n",
        "19 C\n",
        "20 T\n",
        "21 A\n",
        "22 C\n",
        "23 G\n",
        "24 T\n",
        "25 C\n",
        "26 G\n",
        "27 C\n",
        "28 A\n",
        "29 T\n",
        "30 G\n",
        "31 A\n",
        "32 C\n",
        "33 T\n",
        "34 A\n",
        "35 G\n",
        "36 G\n",
        "37 G\n",
        "38 C\n"
       ]
      }
     ],
     "prompt_number": 10
    },
    {
     "cell_type": "code",
     "collapsed": false,
     "input": [
      "#gc content, method 1\n",
      "gc = 0\n",
      "for letter in seq:\n",
      "    if letter == \"G\" or letter == \"C\":\n",
      "        gc += 1\n",
      "print('Pourcentage de GC de la s\u00e9quence : ' + str(gc/len(seq)*100))"
     ],
     "language": "python",
     "metadata": {},
     "outputs": [
      {
       "output_type": "stream",
       "stream": "stdout",
       "text": [
        "Pourcentage de GC de la s\u00e9quence : 53.84615384615385\n"
       ]
      }
     ],
     "prompt_number": 11
    },
    {
     "cell_type": "code",
     "collapsed": false,
     "input": [
      "#gc content, method 2\n",
      "from Bio.SeqUtils import GC\n",
      "print('Pourcentage de GC de la s\u00e9quence : ' + str(GC(seq)))"
     ],
     "language": "python",
     "metadata": {},
     "outputs": [
      {
       "output_type": "stream",
       "stream": "stdout",
       "text": [
        "Pourcentage de GC de la s\u00e9quence : 53.84615384615385\n"
       ]
      }
     ],
     "prompt_number": 12
    },
    {
     "cell_type": "code",
     "collapsed": false,
     "input": [
      "#complement, reverse complement, peptide\n",
      "print(seq.complement())\n",
      "print(seq.reverse_complement())\n",
      "print(seq.translate())"
     ],
     "language": "python",
     "metadata": {},
     "outputs": [
      {
       "output_type": "stream",
       "stream": "stdout",
       "text": [
        "TACTAGCCGATATCCTAGGGATGCAGCGTACTGATCCCG\n",
        "GCCCTAGTCATGCGACGTAGGGATCCTATAGCCGATCAT\n",
        "MIGYRIPTSHD*G\n"
       ]
      }
     ],
     "prompt_number": 13
    },
    {
     "cell_type": "code",
     "collapsed": false,
     "input": [
      "#replacing the stop codon TAG with a methionine \"ATG\"\n",
      "print(seq[-6:-3])\n",
      "seq.tomutable()[-6:-3] = \"ATG\"\n",
      "print(seq)\n",
      "\n",
      "#re-translating\n",
      "print(seq.translate())"
     ],
     "language": "python",
     "metadata": {},
     "outputs": [
      {
       "output_type": "stream",
       "stream": "stdout",
       "text": [
        "TAG\n",
        "ATGATCGGCTATAGGATCCCTACGTCGCATGACTAGGGC\n",
        "MIGYRIPTSHD*G\n"
       ]
      }
     ],
     "prompt_number": 14
    },
    {
     "cell_type": "heading",
     "level": 1,
     "metadata": {},
     "source": [
      "Cours (suite)"
     ]
    },
    {
     "cell_type": "code",
     "collapsed": false,
     "input": [
      "#Creation of a SeqRecord\n",
      "from Bio.SeqRecord import SeqRecord\n",
      "simple_seq = \"ATCG\"\n",
      "simple_seq_r = SeqRecord(simple_seq)\n",
      "simple_seq_r.id = \"AC12345\"\n",
      "simple_seq_r.description = \"Made up sequence 1, might write a paper about it\"\n",
      "print(simple_seq_r.description)"
     ],
     "language": "python",
     "metadata": {},
     "outputs": [
      {
       "output_type": "stream",
       "stream": "stdout",
       "text": [
        "Made up sequence 1, might write a paper about it\n"
       ]
      }
     ],
     "prompt_number": 15
    },
    {
     "cell_type": "code",
     "collapsed": false,
     "input": [
      "#Creating a record from the FASTA NC_005816, automatically.\n",
      "#github.com/biopython/biopython/blob/master/Tests/GenBank/NC_005816.fna\n",
      "from Bio import SeqIO\n",
      "record = SeqIO.read(\"NC_005816.fna\", \"fasta\")\n",
      "record"
     ],
     "language": "python",
     "metadata": {},
     "outputs": [
      {
       "metadata": {},
       "output_type": "pyout",
       "prompt_number": 16,
       "text": [
        "SeqRecord(seq=Seq('TGTAACGAACGGTGCAATAGTGATCCACACCCAACGCCTGAAATCAGATCCAGG...CTG', SingleLetterAlphabet()), id='gi|45478711|ref|NC_005816.1|', name='gi|45478711|ref|NC_005816.1|', description='gi|45478711|ref|NC_005816.1| Yersinia pestis biovar Microtus str. 91001 plasmid pPCP1, complete sequence', dbxrefs=[])"
       ]
      }
     ],
     "prompt_number": 16
    },
    {
     "cell_type": "code",
     "collapsed": false,
     "input": [
      "#Write a protein in FASTA\n",
      "from Bio.Alphabet import generic_protein\n",
      "record = SeqRecord(Seq(\"MMYQQGCFAGGTVLRLAKDLAENNRGARV\", generic_protein),id = \"gi|14150838|gb|AAK54648.1||AF376133_1\")\n",
      "record"
     ],
     "language": "python",
     "metadata": {},
     "outputs": [
      {
       "metadata": {},
       "output_type": "pyout",
       "prompt_number": 18,
       "text": [
        "SeqRecord(seq=Seq('MMYQQGCFAGGTVLRLAKDLAENNRGARV', ProteinAlphabet()), id='gi|14150838|gb|AAK54648.1||AF376133_1', name='<unknown name>', description='<unknown description>', dbxrefs=[])"
       ]
      }
     ],
     "prompt_number": 18
    },
    {
     "cell_type": "code",
     "collapsed": false,
     "input": [
      "#Read from GENBANK for richer records\n",
      "#github.com/biopython/biopython/blob/master/Tests/GenBank/NC_005816.gb\n",
      "record = SeqIO.read(\"NC_005816.gb\", \"genbank\")\n",
      "print(record.annotations[\"source\"])\n",
      "record"
     ],
     "language": "python",
     "metadata": {},
     "outputs": [
      {
       "output_type": "stream",
       "stream": "stdout",
       "text": [
        "Yersinia pestis biovar Microtus str. 91001\n"
       ]
      },
      {
       "metadata": {},
       "output_type": "pyout",
       "prompt_number": 28,
       "text": [
        "SeqRecord(seq=Seq('TGTAACGAACGGTGCAATAGTGATCCACACCCAACGCCTGAAATCAGATCCAGG...CTG', IUPACAmbiguousDNA()), id='NC_005816.1', name='NC_005816', description='Yersinia pestis biovar Microtus str. 91001 plasmid pPCP1, complete sequence.', dbxrefs=['Project:58037'])"
       ]
      }
     ],
     "prompt_number": 28
    },
    {
     "cell_type": "heading",
     "level": 1,
     "metadata": {},
     "source": [
      "Exercise 2"
     ]
    },
    {
     "cell_type": "code",
     "collapsed": false,
     "input": [
      "# We use the record ceated from the GenBank NC_005816.gb\n",
      "for key, value in record.annotations.items():\n",
      "    print(key)\n",
      "    print(value, end = \"\\n\\n\")"
     ],
     "language": "python",
     "metadata": {},
     "outputs": [
      {
       "output_type": "stream",
       "stream": "stdout",
       "text": [
        "accessions\n",
        "['NC_005816']\n",
        "\n",
        "gi\n",
        "45478711\n",
        "\n",
        "date\n",
        "21-JUL-2008\n",
        "\n",
        "organism\n",
        "Yersinia pestis biovar Microtus str. 91001\n",
        "\n",
        "data_file_division\n",
        "BCT\n",
        "\n",
        "comment\n",
        "PROVISIONAL REFSEQ: This record has not yet been subject to final\n",
        "NCBI review. The reference sequence was derived from AE017046.\n",
        "COMPLETENESS: full length.\n",
        "\n",
        "sequence_version\n",
        "1\n",
        "\n",
        "keywords\n",
        "['']\n",
        "\n",
        "source\n",
        "Yersinia pestis biovar Microtus str. 91001\n",
        "\n",
        "taxonomy\n",
        "['Bacteria', 'Proteobacteria', 'Gammaproteobacteria', 'Enterobacteriales', 'Enterobacteriaceae', 'Yersinia']\n",
        "\n",
        "references\n",
        "[Reference(title='Genetics of metabolic variations between Yersinia pestis biovars and the proposal of a new biovar, microtus', ...), Reference(title='Complete genome sequence of Yersinia pestis strain 91001, an isolate avirulent to humans', ...), Reference(title='Direct Submission', ...), Reference(title='Direct Submission', ...)]\n",
        "\n"
       ]
      }
     ],
     "prompt_number": 49
    },
    {
     "cell_type": "heading",
     "level": 1,
     "metadata": {},
     "source": [
      "Cours (suite suite)"
     ]
    },
    {
     "cell_type": "code",
     "collapsed": false,
     "input": [
      "# Alignment I/O\n",
      "from Bio import AlignIO\n",
      "alignment = AlignIO.read(\"hedgehog.aln\", \"clustal\")\n",
      "print(alignment)\n",
      "for record in alignment:\n",
      "    print(record)"
     ],
     "language": "python",
     "metadata": {},
     "outputs": [
      {
       "output_type": "stream",
       "stream": "stdout",
       "text": [
        "SingleLetterAlphabet() alignment with 5 rows and 447 columns\n",
        "MFNLVSGTGGSSCCHRRNCFANRKKFFTMLLIFLLYMVSQVQSC...--- gi|167877390|gb|EDS40773.1|\n",
        "---------------------MRSASAAALLLAALLVVQAVRAC...--- gi|167234445|ref|NP_001107837.\n",
        "-------------MPQR----SLRHQLGMILVFFLLVTSHSLAC...--- gi|74100009|gb|AAZ99217.1|\n",
        "------------MSPAR----LRPRLHFCLVLLLLLVVPAAWGC...AGS gi|13990994|dbj|BAA33523.2|\n",
        "----------------------LAADDQGRLLYSDFLTFLDRDD...KSS gi|56122354|gb|AAV74328.1|\n",
        "ID: gi|167877390|gb|EDS40773.1|\n",
        "Name: <unknown name>\n",
        "Description: gi|167877390|gb|EDS40773.1|\n",
        "Number of features: 0\n",
        "Seq('MFNLVSGTGGSSCCHRRNCFANRKKFFTMLLIFLLYMVSQVQSCGPGRGIGGPR...---', SingleLetterAlphabet())\n",
        "ID: gi|167234445|ref|NP_001107837.\n",
        "Name: <unknown name>\n",
        "Description: gi|167234445|ref|NP_001107837.\n",
        "Number of features: 0\n",
        "Seq('---------------------MRSASAAALLLAALLVVQAVRACGPGRGVGRRR...---', SingleLetterAlphabet())\n",
        "ID: gi|74100009|gb|AAZ99217.1|\n",
        "Name: <unknown name>\n",
        "Description: gi|74100009|gb|AAZ99217.1|\n",
        "Number of features: 0\n",
        "Seq('-------------MPQR----SLRHQLGMILVFFLLVTSHSLACGPGRGPGKRR...---', SingleLetterAlphabet())\n",
        "ID: gi|13990994|dbj|BAA33523.2|\n",
        "Name: <unknown name>\n",
        "Description: gi|13990994|dbj|BAA33523.2|\n",
        "Number of features: 0\n",
        "Seq('------------MSPAR----LRPRLHFCLVLLLLLVVPAAWGCGPGRVVGSRR...AGS', SingleLetterAlphabet())\n",
        "ID: gi|56122354|gb|AAV74328.1|\n",
        "Name: <unknown name>\n",
        "Description: gi|56122354|gb|AAV74328.1|\n",
        "Number of features: 0\n",
        "Seq('----------------------LAADDQGRLLYSDFLTFLDRDDGAKKVFYVIE...KSS', SingleLetterAlphabet())\n"
       ]
      }
     ],
     "prompt_number": 56
    },
    {
     "cell_type": "heading",
     "level": 1,
     "metadata": {},
     "source": [
      "Exercise 3"
     ]
    },
    {
     "cell_type": "code",
     "collapsed": false,
     "input": [
      "#Read Regulon_Cerevisiae.fasta\n",
      "reg_cerevisiae = SeqIO.parse(\"Regulon_Cerevisiae.fasta\", \"fasta\")\n",
      "reg_cerevisiae\n",
      "#reg_cerevisiae est un g\u00e9n\u00e9rateur. On peut le transformer en liste en utilisant list(). \n",
      "#L'int\u00e9ret du g\u00e9n\u00e9rateur par rapport \u00e0 la liste est de ne pas surcharger la m\u00e9moire."
     ],
     "language": "python",
     "metadata": {},
     "outputs": [
      {
       "metadata": {},
       "output_type": "pyout",
       "prompt_number": 82,
       "text": [
        "<generator object parse at 0x7fb8596862b0>"
       ]
      }
     ],
     "prompt_number": 82
    },
    {
     "cell_type": "code",
     "collapsed": false,
     "input": [
      "reg_cer = list(reg_cerevisiae)\n",
      "len(reg_cer)"
     ],
     "language": "python",
     "metadata": {},
     "outputs": [
      {
       "metadata": {},
       "output_type": "pyout",
       "prompt_number": 83,
       "text": [
        "306"
       ]
      }
     ],
     "prompt_number": 83
    },
    {
     "cell_type": "code",
     "collapsed": false,
     "input": [
      "with open(\"biopy_exercise3.fasta\", \"w\") as filout:\n",
      "    for record in reg_cer:\n",
      "        print(record.id)\n",
      "        print(len(record))\n",
      "        if len(record) >= 400:\n",
      "            filout.write(\">\"+record.id)\n",
      "            #filout.write(record.seq)\n",
      "\n"
     ],
     "language": "python",
     "metadata": {},
     "outputs": [
      {
       "output_type": "stream",
       "stream": "stdout",
       "text": [
        "PST2\n",
        "800\n"
       ]
      },
      {
       "ename": "TypeError",
       "evalue": "write() argument must be str, not Seq",
       "output_type": "pyerr",
       "traceback": [
        "\u001b[0;31m---------------------------------------------------------------------------\u001b[0m\n\u001b[0;31mTypeError\u001b[0m                                 Traceback (most recent call last)",
        "\u001b[0;32m<ipython-input-101-4e099a307a29>\u001b[0m in \u001b[0;36m<module>\u001b[0;34m()\u001b[0m\n\u001b[1;32m      5\u001b[0m         \u001b[0;32mif\u001b[0m \u001b[0mlen\u001b[0m\u001b[0;34m(\u001b[0m\u001b[0mrecord\u001b[0m\u001b[0;34m)\u001b[0m \u001b[0;34m>=\u001b[0m \u001b[0;36m400\u001b[0m\u001b[0;34m:\u001b[0m\u001b[0;34m\u001b[0m\u001b[0m\n\u001b[1;32m      6\u001b[0m             \u001b[0mfilout\u001b[0m\u001b[0;34m.\u001b[0m\u001b[0mwrite\u001b[0m\u001b[0;34m(\u001b[0m\u001b[0;34m\">\"\u001b[0m\u001b[0;34m+\u001b[0m\u001b[0mrecord\u001b[0m\u001b[0;34m.\u001b[0m\u001b[0mid\u001b[0m\u001b[0;34m)\u001b[0m\u001b[0;34m\u001b[0m\u001b[0m\n\u001b[0;32m----> 7\u001b[0;31m             \u001b[0mfilout\u001b[0m\u001b[0;34m.\u001b[0m\u001b[0mwrite\u001b[0m\u001b[0;34m(\u001b[0m\u001b[0mrecord\u001b[0m\u001b[0;34m.\u001b[0m\u001b[0mseq\u001b[0m\u001b[0;34m)\u001b[0m\u001b[0;34m\u001b[0m\u001b[0m\n\u001b[0m\u001b[1;32m      8\u001b[0m \u001b[0;34m\u001b[0m\u001b[0m\n",
        "\u001b[0;31mTypeError\u001b[0m: write() argument must be str, not Seq"
       ]
      }
     ],
     "prompt_number": 101
    }
   ],
   "metadata": {}
  }
 ]
}